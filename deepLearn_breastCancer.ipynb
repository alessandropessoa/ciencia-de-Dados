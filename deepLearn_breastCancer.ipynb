{
  "nbformat": 4,
  "nbformat_minor": 0,
  "metadata": {
    "colab": {
      "provenance": [],
      "gpuType": "T4"
    },
    "kernelspec": {
      "name": "python3",
      "display_name": "Python 3"
    },
    "language_info": {
      "name": "python"
    }
  },
  "cells": [
    {
      "cell_type": "code",
      "source": [
        "from sklearn.datasets import load_breast_cancer\n",
        "from sklearn.model_selection import train_test_split\n",
        "\n",
        "import pandas as pd\n",
        "import numpy as np\n",
        "import seaborn as sns\n",
        "\n",
        "import torch\n",
        "from torch import nn\n",
        "\n"
      ],
      "metadata": {
        "id": "8GMDoBb8rSga"
      },
      "execution_count": 2,
      "outputs": []
    },
    {
      "cell_type": "code",
      "source": [
        "ds = load_breast_cancer()"
      ],
      "metadata": {
        "id": "a06B50Z1re5u"
      },
      "execution_count": 5,
      "outputs": []
    },
    {
      "cell_type": "code",
      "source": [
        "ds.target.shape"
      ],
      "metadata": {
        "colab": {
          "base_uri": "https://localhost:8080/"
        },
        "id": "VNLhE7lvrjv-",
        "outputId": "8ff6c757-09fe-44fd-a538-9896f6b25889"
      },
      "execution_count": 6,
      "outputs": [
        {
          "output_type": "execute_result",
          "data": {
            "text/plain": [
              "(569,)"
            ]
          },
          "metadata": {},
          "execution_count": 6
        }
      ]
    },
    {
      "cell_type": "code",
      "source": [
        "ds.data.shape"
      ],
      "metadata": {
        "colab": {
          "base_uri": "https://localhost:8080/"
        },
        "id": "n9nRKJM_r0ne",
        "outputId": "eec2a89c-1431-4818-c880-4478aefc706a"
      },
      "execution_count": 7,
      "outputs": [
        {
          "output_type": "execute_result",
          "data": {
            "text/plain": [
              "(569, 30)"
            ]
          },
          "metadata": {},
          "execution_count": 7
        }
      ]
    },
    {
      "cell_type": "code",
      "source": [
        "ds['feature_names']"
      ],
      "metadata": {
        "colab": {
          "base_uri": "https://localhost:8080/"
        },
        "id": "5gnROzTKzovd",
        "outputId": "c0ab78da-d059-4d30-8b22-495e125ca790"
      },
      "execution_count": 8,
      "outputs": [
        {
          "output_type": "execute_result",
          "data": {
            "text/plain": [
              "array(['mean radius', 'mean texture', 'mean perimeter', 'mean area',\n",
              "       'mean smoothness', 'mean compactness', 'mean concavity',\n",
              "       'mean concave points', 'mean symmetry', 'mean fractal dimension',\n",
              "       'radius error', 'texture error', 'perimeter error', 'area error',\n",
              "       'smoothness error', 'compactness error', 'concavity error',\n",
              "       'concave points error', 'symmetry error',\n",
              "       'fractal dimension error', 'worst radius', 'worst texture',\n",
              "       'worst perimeter', 'worst area', 'worst smoothness',\n",
              "       'worst compactness', 'worst concavity', 'worst concave points',\n",
              "       'worst symmetry', 'worst fractal dimension'], dtype='<U23')"
            ]
          },
          "metadata": {},
          "execution_count": 8
        }
      ]
    },
    {
      "cell_type": "code",
      "source": [
        "len(ds['feature_names'])"
      ],
      "metadata": {
        "colab": {
          "base_uri": "https://localhost:8080/"
        },
        "id": "gh2BOR9P0ENF",
        "outputId": "d72bb7d9-0c73-4877-819b-a3db704f2b9b"
      },
      "execution_count": 9,
      "outputs": [
        {
          "output_type": "execute_result",
          "data": {
            "text/plain": [
              "30"
            ]
          },
          "metadata": {},
          "execution_count": 9
        }
      ]
    },
    {
      "cell_type": "code",
      "source": [
        "print(ds['DESCR'])"
      ],
      "metadata": {
        "colab": {
          "base_uri": "https://localhost:8080/"
        },
        "id": "IFRZxiL3zdMk",
        "outputId": "c91be339-f385-4b58-e679-712ac5b10073"
      },
      "execution_count": 10,
      "outputs": [
        {
          "output_type": "stream",
          "name": "stdout",
          "text": [
            ".. _breast_cancer_dataset:\n",
            "\n",
            "Breast cancer wisconsin (diagnostic) dataset\n",
            "--------------------------------------------\n",
            "\n",
            "**Data Set Characteristics:**\n",
            "\n",
            "    :Number of Instances: 569\n",
            "\n",
            "    :Number of Attributes: 30 numeric, predictive attributes and the class\n",
            "\n",
            "    :Attribute Information:\n",
            "        - radius (mean of distances from center to points on the perimeter)\n",
            "        - texture (standard deviation of gray-scale values)\n",
            "        - perimeter\n",
            "        - area\n",
            "        - smoothness (local variation in radius lengths)\n",
            "        - compactness (perimeter^2 / area - 1.0)\n",
            "        - concavity (severity of concave portions of the contour)\n",
            "        - concave points (number of concave portions of the contour)\n",
            "        - symmetry\n",
            "        - fractal dimension (\"coastline approximation\" - 1)\n",
            "\n",
            "        The mean, standard error, and \"worst\" or largest (mean of the three\n",
            "        worst/largest values) of these features were computed for each image,\n",
            "        resulting in 30 features.  For instance, field 0 is Mean Radius, field\n",
            "        10 is Radius SE, field 20 is Worst Radius.\n",
            "\n",
            "        - class:\n",
            "                - WDBC-Malignant\n",
            "                - WDBC-Benign\n",
            "\n",
            "    :Summary Statistics:\n",
            "\n",
            "    ===================================== ====== ======\n",
            "                                           Min    Max\n",
            "    ===================================== ====== ======\n",
            "    radius (mean):                        6.981  28.11\n",
            "    texture (mean):                       9.71   39.28\n",
            "    perimeter (mean):                     43.79  188.5\n",
            "    area (mean):                          143.5  2501.0\n",
            "    smoothness (mean):                    0.053  0.163\n",
            "    compactness (mean):                   0.019  0.345\n",
            "    concavity (mean):                     0.0    0.427\n",
            "    concave points (mean):                0.0    0.201\n",
            "    symmetry (mean):                      0.106  0.304\n",
            "    fractal dimension (mean):             0.05   0.097\n",
            "    radius (standard error):              0.112  2.873\n",
            "    texture (standard error):             0.36   4.885\n",
            "    perimeter (standard error):           0.757  21.98\n",
            "    area (standard error):                6.802  542.2\n",
            "    smoothness (standard error):          0.002  0.031\n",
            "    compactness (standard error):         0.002  0.135\n",
            "    concavity (standard error):           0.0    0.396\n",
            "    concave points (standard error):      0.0    0.053\n",
            "    symmetry (standard error):            0.008  0.079\n",
            "    fractal dimension (standard error):   0.001  0.03\n",
            "    radius (worst):                       7.93   36.04\n",
            "    texture (worst):                      12.02  49.54\n",
            "    perimeter (worst):                    50.41  251.2\n",
            "    area (worst):                         185.2  4254.0\n",
            "    smoothness (worst):                   0.071  0.223\n",
            "    compactness (worst):                  0.027  1.058\n",
            "    concavity (worst):                    0.0    1.252\n",
            "    concave points (worst):               0.0    0.291\n",
            "    symmetry (worst):                     0.156  0.664\n",
            "    fractal dimension (worst):            0.055  0.208\n",
            "    ===================================== ====== ======\n",
            "\n",
            "    :Missing Attribute Values: None\n",
            "\n",
            "    :Class Distribution: 212 - Malignant, 357 - Benign\n",
            "\n",
            "    :Creator:  Dr. William H. Wolberg, W. Nick Street, Olvi L. Mangasarian\n",
            "\n",
            "    :Donor: Nick Street\n",
            "\n",
            "    :Date: November, 1995\n",
            "\n",
            "This is a copy of UCI ML Breast Cancer Wisconsin (Diagnostic) datasets.\n",
            "https://goo.gl/U2Uwz2\n",
            "\n",
            "Features are computed from a digitized image of a fine needle\n",
            "aspirate (FNA) of a breast mass.  They describe\n",
            "characteristics of the cell nuclei present in the image.\n",
            "\n",
            "Separating plane described above was obtained using\n",
            "Multisurface Method-Tree (MSM-T) [K. P. Bennett, \"Decision Tree\n",
            "Construction Via Linear Programming.\" Proceedings of the 4th\n",
            "Midwest Artificial Intelligence and Cognitive Science Society,\n",
            "pp. 97-101, 1992], a classification method which uses linear\n",
            "programming to construct a decision tree.  Relevant features\n",
            "were selected using an exhaustive search in the space of 1-4\n",
            "features and 1-3 separating planes.\n",
            "\n",
            "The actual linear program used to obtain the separating plane\n",
            "in the 3-dimensional space is that described in:\n",
            "[K. P. Bennett and O. L. Mangasarian: \"Robust Linear\n",
            "Programming Discrimination of Two Linearly Inseparable Sets\",\n",
            "Optimization Methods and Software 1, 1992, 23-34].\n",
            "\n",
            "This database is also available through the UW CS ftp server:\n",
            "\n",
            "ftp ftp.cs.wisc.edu\n",
            "cd math-prog/cpo-dataset/machine-learn/WDBC/\n",
            "\n",
            ".. topic:: References\n",
            "\n",
            "   - W.N. Street, W.H. Wolberg and O.L. Mangasarian. Nuclear feature extraction \n",
            "     for breast tumor diagnosis. IS&T/SPIE 1993 International Symposium on \n",
            "     Electronic Imaging: Science and Technology, volume 1905, pages 861-870,\n",
            "     San Jose, CA, 1993.\n",
            "   - O.L. Mangasarian, W.N. Street and W.H. Wolberg. Breast cancer diagnosis and \n",
            "     prognosis via linear programming. Operations Research, 43(4), pages 570-577, \n",
            "     July-August 1995.\n",
            "   - W.H. Wolberg, W.N. Street, and O.L. Mangasarian. Machine learning techniques\n",
            "     to diagnose breast cancer from fine-needle aspirates. Cancer Letters 77 (1994) \n",
            "     163-171.\n"
          ]
        }
      ]
    },
    {
      "cell_type": "code",
      "source": [
        "df_preditores = pd.DataFrame(ds.data)\n"
      ],
      "metadata": {
        "id": "rzWz1l6ur23m"
      },
      "execution_count": 11,
      "outputs": []
    },
    {
      "cell_type": "code",
      "source": [
        "df_preditores.head(5)"
      ],
      "metadata": {
        "colab": {
          "base_uri": "https://localhost:8080/",
          "height": 300
        },
        "id": "UgabwVSyr-b2",
        "outputId": "8cc318b6-5ebf-4974-8a36-a73d7a58c190"
      },
      "execution_count": 12,
      "outputs": [
        {
          "output_type": "execute_result",
          "data": {
            "text/plain": [
              "      0      1       2       3        4        5       6        7       8   \\\n",
              "0  17.99  10.38  122.80  1001.0  0.11840  0.27760  0.3001  0.14710  0.2419   \n",
              "1  20.57  17.77  132.90  1326.0  0.08474  0.07864  0.0869  0.07017  0.1812   \n",
              "2  19.69  21.25  130.00  1203.0  0.10960  0.15990  0.1974  0.12790  0.2069   \n",
              "3  11.42  20.38   77.58   386.1  0.14250  0.28390  0.2414  0.10520  0.2597   \n",
              "4  20.29  14.34  135.10  1297.0  0.10030  0.13280  0.1980  0.10430  0.1809   \n",
              "\n",
              "        9   ...     20     21      22      23      24      25      26      27  \\\n",
              "0  0.07871  ...  25.38  17.33  184.60  2019.0  0.1622  0.6656  0.7119  0.2654   \n",
              "1  0.05667  ...  24.99  23.41  158.80  1956.0  0.1238  0.1866  0.2416  0.1860   \n",
              "2  0.05999  ...  23.57  25.53  152.50  1709.0  0.1444  0.4245  0.4504  0.2430   \n",
              "3  0.09744  ...  14.91  26.50   98.87   567.7  0.2098  0.8663  0.6869  0.2575   \n",
              "4  0.05883  ...  22.54  16.67  152.20  1575.0  0.1374  0.2050  0.4000  0.1625   \n",
              "\n",
              "       28       29  \n",
              "0  0.4601  0.11890  \n",
              "1  0.2750  0.08902  \n",
              "2  0.3613  0.08758  \n",
              "3  0.6638  0.17300  \n",
              "4  0.2364  0.07678  \n",
              "\n",
              "[5 rows x 30 columns]"
            ],
            "text/html": [
              "\n",
              "\n",
              "  <div id=\"df-4a589799-e605-4f43-a0fc-44b4f6899e05\">\n",
              "    <div class=\"colab-df-container\">\n",
              "      <div>\n",
              "<style scoped>\n",
              "    .dataframe tbody tr th:only-of-type {\n",
              "        vertical-align: middle;\n",
              "    }\n",
              "\n",
              "    .dataframe tbody tr th {\n",
              "        vertical-align: top;\n",
              "    }\n",
              "\n",
              "    .dataframe thead th {\n",
              "        text-align: right;\n",
              "    }\n",
              "</style>\n",
              "<table border=\"1\" class=\"dataframe\">\n",
              "  <thead>\n",
              "    <tr style=\"text-align: right;\">\n",
              "      <th></th>\n",
              "      <th>0</th>\n",
              "      <th>1</th>\n",
              "      <th>2</th>\n",
              "      <th>3</th>\n",
              "      <th>4</th>\n",
              "      <th>5</th>\n",
              "      <th>6</th>\n",
              "      <th>7</th>\n",
              "      <th>8</th>\n",
              "      <th>9</th>\n",
              "      <th>...</th>\n",
              "      <th>20</th>\n",
              "      <th>21</th>\n",
              "      <th>22</th>\n",
              "      <th>23</th>\n",
              "      <th>24</th>\n",
              "      <th>25</th>\n",
              "      <th>26</th>\n",
              "      <th>27</th>\n",
              "      <th>28</th>\n",
              "      <th>29</th>\n",
              "    </tr>\n",
              "  </thead>\n",
              "  <tbody>\n",
              "    <tr>\n",
              "      <th>0</th>\n",
              "      <td>17.99</td>\n",
              "      <td>10.38</td>\n",
              "      <td>122.80</td>\n",
              "      <td>1001.0</td>\n",
              "      <td>0.11840</td>\n",
              "      <td>0.27760</td>\n",
              "      <td>0.3001</td>\n",
              "      <td>0.14710</td>\n",
              "      <td>0.2419</td>\n",
              "      <td>0.07871</td>\n",
              "      <td>...</td>\n",
              "      <td>25.38</td>\n",
              "      <td>17.33</td>\n",
              "      <td>184.60</td>\n",
              "      <td>2019.0</td>\n",
              "      <td>0.1622</td>\n",
              "      <td>0.6656</td>\n",
              "      <td>0.7119</td>\n",
              "      <td>0.2654</td>\n",
              "      <td>0.4601</td>\n",
              "      <td>0.11890</td>\n",
              "    </tr>\n",
              "    <tr>\n",
              "      <th>1</th>\n",
              "      <td>20.57</td>\n",
              "      <td>17.77</td>\n",
              "      <td>132.90</td>\n",
              "      <td>1326.0</td>\n",
              "      <td>0.08474</td>\n",
              "      <td>0.07864</td>\n",
              "      <td>0.0869</td>\n",
              "      <td>0.07017</td>\n",
              "      <td>0.1812</td>\n",
              "      <td>0.05667</td>\n",
              "      <td>...</td>\n",
              "      <td>24.99</td>\n",
              "      <td>23.41</td>\n",
              "      <td>158.80</td>\n",
              "      <td>1956.0</td>\n",
              "      <td>0.1238</td>\n",
              "      <td>0.1866</td>\n",
              "      <td>0.2416</td>\n",
              "      <td>0.1860</td>\n",
              "      <td>0.2750</td>\n",
              "      <td>0.08902</td>\n",
              "    </tr>\n",
              "    <tr>\n",
              "      <th>2</th>\n",
              "      <td>19.69</td>\n",
              "      <td>21.25</td>\n",
              "      <td>130.00</td>\n",
              "      <td>1203.0</td>\n",
              "      <td>0.10960</td>\n",
              "      <td>0.15990</td>\n",
              "      <td>0.1974</td>\n",
              "      <td>0.12790</td>\n",
              "      <td>0.2069</td>\n",
              "      <td>0.05999</td>\n",
              "      <td>...</td>\n",
              "      <td>23.57</td>\n",
              "      <td>25.53</td>\n",
              "      <td>152.50</td>\n",
              "      <td>1709.0</td>\n",
              "      <td>0.1444</td>\n",
              "      <td>0.4245</td>\n",
              "      <td>0.4504</td>\n",
              "      <td>0.2430</td>\n",
              "      <td>0.3613</td>\n",
              "      <td>0.08758</td>\n",
              "    </tr>\n",
              "    <tr>\n",
              "      <th>3</th>\n",
              "      <td>11.42</td>\n",
              "      <td>20.38</td>\n",
              "      <td>77.58</td>\n",
              "      <td>386.1</td>\n",
              "      <td>0.14250</td>\n",
              "      <td>0.28390</td>\n",
              "      <td>0.2414</td>\n",
              "      <td>0.10520</td>\n",
              "      <td>0.2597</td>\n",
              "      <td>0.09744</td>\n",
              "      <td>...</td>\n",
              "      <td>14.91</td>\n",
              "      <td>26.50</td>\n",
              "      <td>98.87</td>\n",
              "      <td>567.7</td>\n",
              "      <td>0.2098</td>\n",
              "      <td>0.8663</td>\n",
              "      <td>0.6869</td>\n",
              "      <td>0.2575</td>\n",
              "      <td>0.6638</td>\n",
              "      <td>0.17300</td>\n",
              "    </tr>\n",
              "    <tr>\n",
              "      <th>4</th>\n",
              "      <td>20.29</td>\n",
              "      <td>14.34</td>\n",
              "      <td>135.10</td>\n",
              "      <td>1297.0</td>\n",
              "      <td>0.10030</td>\n",
              "      <td>0.13280</td>\n",
              "      <td>0.1980</td>\n",
              "      <td>0.10430</td>\n",
              "      <td>0.1809</td>\n",
              "      <td>0.05883</td>\n",
              "      <td>...</td>\n",
              "      <td>22.54</td>\n",
              "      <td>16.67</td>\n",
              "      <td>152.20</td>\n",
              "      <td>1575.0</td>\n",
              "      <td>0.1374</td>\n",
              "      <td>0.2050</td>\n",
              "      <td>0.4000</td>\n",
              "      <td>0.1625</td>\n",
              "      <td>0.2364</td>\n",
              "      <td>0.07678</td>\n",
              "    </tr>\n",
              "  </tbody>\n",
              "</table>\n",
              "<p>5 rows × 30 columns</p>\n",
              "</div>\n",
              "      <button class=\"colab-df-convert\" onclick=\"convertToInteractive('df-4a589799-e605-4f43-a0fc-44b4f6899e05')\"\n",
              "              title=\"Convert this dataframe to an interactive table.\"\n",
              "              style=\"display:none;\">\n",
              "\n",
              "  <svg xmlns=\"http://www.w3.org/2000/svg\" height=\"24px\"viewBox=\"0 0 24 24\"\n",
              "       width=\"24px\">\n",
              "    <path d=\"M0 0h24v24H0V0z\" fill=\"none\"/>\n",
              "    <path d=\"M18.56 5.44l.94 2.06.94-2.06 2.06-.94-2.06-.94-.94-2.06-.94 2.06-2.06.94zm-11 1L8.5 8.5l.94-2.06 2.06-.94-2.06-.94L8.5 2.5l-.94 2.06-2.06.94zm10 10l.94 2.06.94-2.06 2.06-.94-2.06-.94-.94-2.06-.94 2.06-2.06.94z\"/><path d=\"M17.41 7.96l-1.37-1.37c-.4-.4-.92-.59-1.43-.59-.52 0-1.04.2-1.43.59L10.3 9.45l-7.72 7.72c-.78.78-.78 2.05 0 2.83L4 21.41c.39.39.9.59 1.41.59.51 0 1.02-.2 1.41-.59l7.78-7.78 2.81-2.81c.8-.78.8-2.07 0-2.86zM5.41 20L4 18.59l7.72-7.72 1.47 1.35L5.41 20z\"/>\n",
              "  </svg>\n",
              "      </button>\n",
              "\n",
              "\n",
              "\n",
              "    <div id=\"df-786b5c35-1579-4e9d-b2f9-5574aa6aef39\">\n",
              "      <button class=\"colab-df-quickchart\" onclick=\"quickchart('df-786b5c35-1579-4e9d-b2f9-5574aa6aef39')\"\n",
              "              title=\"Suggest charts.\"\n",
              "              style=\"display:none;\">\n",
              "\n",
              "<svg xmlns=\"http://www.w3.org/2000/svg\" height=\"24px\"viewBox=\"0 0 24 24\"\n",
              "     width=\"24px\">\n",
              "    <g>\n",
              "        <path d=\"M19 3H5c-1.1 0-2 .9-2 2v14c0 1.1.9 2 2 2h14c1.1 0 2-.9 2-2V5c0-1.1-.9-2-2-2zM9 17H7v-7h2v7zm4 0h-2V7h2v10zm4 0h-2v-4h2v4z\"/>\n",
              "    </g>\n",
              "</svg>\n",
              "      </button>\n",
              "    </div>\n",
              "\n",
              "<style>\n",
              "  .colab-df-quickchart {\n",
              "    background-color: #E8F0FE;\n",
              "    border: none;\n",
              "    border-radius: 50%;\n",
              "    cursor: pointer;\n",
              "    display: none;\n",
              "    fill: #1967D2;\n",
              "    height: 32px;\n",
              "    padding: 0 0 0 0;\n",
              "    width: 32px;\n",
              "  }\n",
              "\n",
              "  .colab-df-quickchart:hover {\n",
              "    background-color: #E2EBFA;\n",
              "    box-shadow: 0px 1px 2px rgba(60, 64, 67, 0.3), 0px 1px 3px 1px rgba(60, 64, 67, 0.15);\n",
              "    fill: #174EA6;\n",
              "  }\n",
              "\n",
              "  [theme=dark] .colab-df-quickchart {\n",
              "    background-color: #3B4455;\n",
              "    fill: #D2E3FC;\n",
              "  }\n",
              "\n",
              "  [theme=dark] .colab-df-quickchart:hover {\n",
              "    background-color: #434B5C;\n",
              "    box-shadow: 0px 1px 3px 1px rgba(0, 0, 0, 0.15);\n",
              "    filter: drop-shadow(0px 1px 2px rgba(0, 0, 0, 0.3));\n",
              "    fill: #FFFFFF;\n",
              "  }\n",
              "</style>\n",
              "\n",
              "    <script>\n",
              "      async function quickchart(key) {\n",
              "        const containerElement = document.querySelector('#' + key);\n",
              "        const charts = await google.colab.kernel.invokeFunction(\n",
              "            'suggestCharts', [key], {});\n",
              "      }\n",
              "    </script>\n",
              "\n",
              "      <script>\n",
              "\n",
              "function displayQuickchartButton(domScope) {\n",
              "  let quickchartButtonEl =\n",
              "    domScope.querySelector('#df-786b5c35-1579-4e9d-b2f9-5574aa6aef39 button.colab-df-quickchart');\n",
              "  quickchartButtonEl.style.display =\n",
              "    google.colab.kernel.accessAllowed ? 'block' : 'none';\n",
              "}\n",
              "\n",
              "        displayQuickchartButton(document);\n",
              "      </script>\n",
              "      <style>\n",
              "    .colab-df-container {\n",
              "      display:flex;\n",
              "      flex-wrap:wrap;\n",
              "      gap: 12px;\n",
              "    }\n",
              "\n",
              "    .colab-df-convert {\n",
              "      background-color: #E8F0FE;\n",
              "      border: none;\n",
              "      border-radius: 50%;\n",
              "      cursor: pointer;\n",
              "      display: none;\n",
              "      fill: #1967D2;\n",
              "      height: 32px;\n",
              "      padding: 0 0 0 0;\n",
              "      width: 32px;\n",
              "    }\n",
              "\n",
              "    .colab-df-convert:hover {\n",
              "      background-color: #E2EBFA;\n",
              "      box-shadow: 0px 1px 2px rgba(60, 64, 67, 0.3), 0px 1px 3px 1px rgba(60, 64, 67, 0.15);\n",
              "      fill: #174EA6;\n",
              "    }\n",
              "\n",
              "    [theme=dark] .colab-df-convert {\n",
              "      background-color: #3B4455;\n",
              "      fill: #D2E3FC;\n",
              "    }\n",
              "\n",
              "    [theme=dark] .colab-df-convert:hover {\n",
              "      background-color: #434B5C;\n",
              "      box-shadow: 0px 1px 3px 1px rgba(0, 0, 0, 0.15);\n",
              "      filter: drop-shadow(0px 1px 2px rgba(0, 0, 0, 0.3));\n",
              "      fill: #FFFFFF;\n",
              "    }\n",
              "  </style>\n",
              "\n",
              "      <script>\n",
              "        const buttonEl =\n",
              "          document.querySelector('#df-4a589799-e605-4f43-a0fc-44b4f6899e05 button.colab-df-convert');\n",
              "        buttonEl.style.display =\n",
              "          google.colab.kernel.accessAllowed ? 'block' : 'none';\n",
              "\n",
              "        async function convertToInteractive(key) {\n",
              "          const element = document.querySelector('#df-4a589799-e605-4f43-a0fc-44b4f6899e05');\n",
              "          const dataTable =\n",
              "            await google.colab.kernel.invokeFunction('convertToInteractive',\n",
              "                                                     [key], {});\n",
              "          if (!dataTable) return;\n",
              "\n",
              "          const docLinkHtml = 'Like what you see? Visit the ' +\n",
              "            '<a target=\"_blank\" href=https://colab.research.google.com/notebooks/data_table.ipynb>data table notebook</a>'\n",
              "            + ' to learn more about interactive tables.';\n",
              "          element.innerHTML = '';\n",
              "          dataTable['output_type'] = 'display_data';\n",
              "          await google.colab.output.renderOutput(dataTable, element);\n",
              "          const docLink = document.createElement('div');\n",
              "          docLink.innerHTML = docLinkHtml;\n",
              "          element.appendChild(docLink);\n",
              "        }\n",
              "      </script>\n",
              "    </div>\n",
              "  </div>\n"
            ]
          },
          "metadata": {},
          "execution_count": 12
        }
      ]
    },
    {
      "cell_type": "code",
      "source": [
        "df_alvo = pd.DataFrame(ds.target)"
      ],
      "metadata": {
        "id": "UvEuB4iCv3fv"
      },
      "execution_count": 19,
      "outputs": []
    },
    {
      "cell_type": "code",
      "source": [
        "df_alvo[0]"
      ],
      "metadata": {
        "colab": {
          "base_uri": "https://localhost:8080/"
        },
        "id": "tVuSOPzw1lNr",
        "outputId": "fbcfd399-9b73-415f-e283-3f518e7706a3"
      },
      "execution_count": 24,
      "outputs": [
        {
          "output_type": "execute_result",
          "data": {
            "text/plain": [
              "0      0\n",
              "1      0\n",
              "2      0\n",
              "3      0\n",
              "4      0\n",
              "      ..\n",
              "564    0\n",
              "565    0\n",
              "566    0\n",
              "567    0\n",
              "568    1\n",
              "Name: 0, Length: 569, dtype: int64"
            ]
          },
          "metadata": {},
          "execution_count": 24
        }
      ]
    },
    {
      "cell_type": "code",
      "source": [
        "np.random.seed(123)\n",
        "torch.manual_seed(123)"
      ],
      "metadata": {
        "colab": {
          "base_uri": "https://localhost:8080/"
        },
        "id": "R0UlNJqZyKdg",
        "outputId": "10809173-df15-4f96-8ea0-887cefc5cff6"
      },
      "execution_count": 14,
      "outputs": [
        {
          "output_type": "execute_result",
          "data": {
            "text/plain": [
              "<torch._C.Generator at 0x7a03b57e2a90>"
            ]
          },
          "metadata": {},
          "execution_count": 14
        }
      ]
    },
    {
      "cell_type": "code",
      "source": [
        "sns.countplot(x=df_alvo[0])"
      ],
      "metadata": {
        "colab": {
          "base_uri": "https://localhost:8080/",
          "height": 466
        },
        "id": "F9x9o5NIy-lo",
        "outputId": "49ff6f7e-fa56-4a29-de27-b4a7d328e76d"
      },
      "execution_count": 30,
      "outputs": [
        {
          "output_type": "execute_result",
          "data": {
            "text/plain": [
              "<Axes: xlabel='0', ylabel='count'>"
            ]
          },
          "metadata": {},
          "execution_count": 30
        },
        {
          "output_type": "display_data",
          "data": {
            "text/plain": [
              "<Figure size 640x480 with 1 Axes>"
            ],
            "image/png": "[encoded data removed]"
          },
          "metadata": {}
        }
      ]
    },
    {
      "cell_type": "code",
      "source": [
        "dfPreditoresTreinamento, dfPreditoresTeste, dfAlvoTreinamento, dfAlvoTeste = train_test_split(df_preditores,df_alvo,test_size=.25)"
      ],
      "metadata": {
        "id": "uXGFmfZ_wHe_"
      },
      "execution_count": 31,
      "outputs": []
    },
    {
      "cell_type": "code",
      "source": [
        "print('Tamanho Treinamento preditor',len(dfPreditoresTreinamento))\n",
        "print('Tamanho Treinamento Alvo',len(dfAlvoTreinamento))\n",
        "print('Tamanho Teste preditor',len(dfPreditoresTeste))\n",
        "print('Tamanho Teste Alvo',len(dfAlvoTeste))"
      ],
      "metadata": {
        "colab": {
          "base_uri": "https://localhost:8080/"
        },
        "id": "K1maLl351CdW",
        "outputId": "160ffbb4-5edb-4b7d-f3d5-5e11659b19fa"
      },
      "execution_count": 38,
      "outputs": [
        {
          "output_type": "stream",
          "name": "stdout",
          "text": [
            "Tamanho Treinamento preditor 426\n",
            "Tamanho Treinamento Alvo 426\n",
            "Tamanho Teste preditor 143\n",
            "Tamanho Teste Alvo 143\n"
          ]
        }
      ]
    },
    {
      "cell_type": "code",
      "source": [
        "len(dfPreditoresTreinamento)"
      ],
      "metadata": {
        "colab": {
          "base_uri": "https://localhost:8080/"
        },
        "id": "vbNprR9u36PN",
        "outputId": "bfd45127-bab3-42dc-b2b1-dacf207e9f8d"
      },
      "execution_count": 36,
      "outputs": [
        {
          "output_type": "execute_result",
          "data": {
            "text/plain": [
              "426"
            ]
          },
          "metadata": {},
          "execution_count": 36
        }
      ]
    },
    {
      "cell_type": "markdown",
      "source": [
        "Criando tensores dos df"
      ],
      "metadata": {
        "id": "v0xVQne_4_tJ"
      }
    },
    {
      "cell_type": "code",
      "source": [
        "tensorPreditoresTreinamento = torch.tensor(dfPreditoresTreinamento.to_numpy(), dtype=torch.float)"
      ],
      "metadata": {
        "id": "eon8WuNj5C3e"
      },
      "execution_count": 48,
      "outputs": []
    },
    {
      "cell_type": "code",
      "source": [
        "tensorAlvoTreinamento = torch.tensor(dfAlvoTreinamento.to_numpy(), dtype=torch.float)"
      ],
      "metadata": {
        "id": "EoluxnuP50TL"
      },
      "execution_count": 49,
      "outputs": []
    },
    {
      "cell_type": "code",
      "source": [
        "dsTensor = torch.utils.data.TensorDataset(tensorPreditoresTreinamento, tensorAlvoTreinamento)"
      ],
      "metadata": {
        "id": "Z6HPCxcf6qIR"
      },
      "execution_count": 50,
      "outputs": []
    },
    {
      "cell_type": "code",
      "source": [
        "#A classe DataLoader é responsavel pelo calculo do erro de forma estocastica, atraves da tecnica de minibatch\n",
        "# mantem ainda um registro dos regustris que ha firam utilizados no calculo do erro para que não sejam repetidos\n",
        "\n",
        "train_dsTensor = torch.utils.data.DataLoader(dsTensor,batch_size=10,shuffle=True)"
      ],
      "metadata": {
        "id": "P3COxs-H7rrB"
      },
      "execution_count": 54,
      "outputs": []
    },
    {
      "cell_type": "code",
      "source": [
        "train_dsTensor\n"
      ],
      "metadata": {
        "colab": {
          "base_uri": "https://localhost:8080/"
        },
        "id": "MtpWnCHsH1aV",
        "outputId": "b97f7cd8-e880-4cf2-92e9-b8fc740a3803"
      },
      "execution_count": 55,
      "outputs": [
        {
          "output_type": "execute_result",
          "data": {
            "text/plain": [
              "<torch.utils.data.dataloader.DataLoader at 0x7a0314151f00>"
            ]
          },
          "metadata": {},
          "execution_count": 55
        }
      ]
    },
    {
      "cell_type": "markdown",
      "source": [
        "Construção do modelo\n",
        "\n",
        "\n",
        "  Esse modelo como se trata de uma classificação binaria, ou seja a classificação será como tumor maligno ou benigno, então precisaremos apenas de 1 neuronio na saida, pois com 1 um neuronio conseguimos classificar binariamente, e como temos  30 features de entrada, por fim quanto a camada oculta temos que (30+1)-2 = 15.5\n",
        "  logo teremos 16 neuronio na camada oculta, ou nas camadas ocultas.\n"
      ],
      "metadata": {
        "id": "46OEncJIH9_X"
      }
    },
    {
      "cell_type": "code",
      "source": [
        "classificador = nn.Sequential(\n",
        "    #30 entradas ligando aos 16 neuronios, produto escalar, nn.Linear é uma rede  densa todas as entradas se ligam a todos os neuronios\n",
        "    nn.Linear(in_features=30, out_features=16),\\\n",
        "    #func ativacao recebendo valor da func soma\n",
        "    nn.ReLU(),\\\n",
        "\n",
        "    #segunda camada oculta\n",
        "    nn.Linear(in_features=16,out_features=16),\\\n",
        "    #func ativacao recebendo valor da func soma da seunda camada oculta\n",
        "    nn.ReLU(),\\\n",
        "\n",
        "    #segunda camada oculta se ligando a saida, 16neuronios camdas oculta com 1 neuronio da saida\n",
        "    nn.Linear(in_features=16,out_features=1),\\\n",
        "    #a func sigmoide será utilizada pois probabilidade de pertencer a class\n",
        "    nn.Sigmoid(),\\\n",
        ")"
      ],
      "metadata": {
        "id": "n-B3rDu6IA_K"
      },
      "execution_count": 58,
      "outputs": []
    },
    {
      "cell_type": "code",
      "source": [
        "#visualizando arquitetura da rede neural\n",
        "classificador.parameters"
      ],
      "metadata": {
        "colab": {
          "base_uri": "https://localhost:8080/"
        },
        "id": "fA9Vf6nTMtHZ",
        "outputId": "d0194f42-b4fd-47be-82d2-ffdbfc9d4cdf"
      },
      "execution_count": 60,
      "outputs": [
        {
          "output_type": "execute_result",
          "data": {
            "text/plain": [
              "<bound method Module.parameters of Sequential(\n",
              "  (0): Linear(in_features=30, out_features=16, bias=True)\n",
              "  (1): ReLU()\n",
              "  (2): Linear(in_features=16, out_features=16, bias=True)\n",
              "  (3): ReLU()\n",
              "  (4): Linear(in_features=16, out_features=1, bias=True)\n",
              "  (5): Sigmoid()\n",
              ")>"
            ]
          },
          "metadata": {},
          "execution_count": 60
        }
      ]
    },
    {
      "cell_type": "markdown",
      "source": [
        "Vai fazer o calculo do erro pra saber se o gradiente cai aumentar ou diminuir os pesos"
      ],
      "metadata": {
        "id": "rZSCEejaWhyW"
      }
    },
    {
      "cell_type": "code",
      "source": [
        "criterio = nn.BCELoss()"
      ],
      "metadata": {
        "id": "J7j_jzIJNVm9"
      },
      "execution_count": 72,
      "outputs": []
    },
    {
      "cell_type": "markdown",
      "source": [
        "Criando o otimizador que irá utilizar o optimizador Adam que é calcula o erro com o estocastico adam\n",
        " e lr( learn rate) e weight_decay que é um parametro que multiplica a lr a cada epoca para ajudar a encontrar o minimo global"
      ],
      "metadata": {
        "id": "j50HKOA1Ws4L"
      }
    },
    {
      "cell_type": "code",
      "source": [
        "\n",
        "otimizador = torch.optim.Adam(classificador.parameters(),lr=0.0001,weight_decay=0.0001)"
      ],
      "metadata": {
        "id": "3t_sTzCXSGzg"
      },
      "execution_count": 63,
      "outputs": []
    },
    {
      "cell_type": "markdown",
      "source": [
        "Treinando mOdelo\n",
        "como foi separado o dataset de teste foi .25% da base (569 registros) 569x0.25 = 143 o treino foi 426, desta forma se utilizarmos 100 epocas para o treinamento e ajuste dos pesos, tendo em vista que o batch_size=10 ou seja cada batch terá 10 registros 426 registros/10 = 42.6 aproximadamente 43 ajustes de pesos por cada epoca\n",
        "\n",
        "Lembrando que em cada epoca ele passa por todos os 426 registros separados em aproximadamente 42.6 batch com 10 registros cada e calcula o erro, desta forma temos que criar um totalizador(acunulador) de erros.\n",
        "Atraves do otimizador.zero_grad() a cada ajuste de peso (ou seja a cada epoca) zeramos o gradiente\n",
        "\n"
      ],
      "metadata": {
        "id": "WR8K1e_MWeEo"
      }
    },
    {
      "cell_type": "code",
      "source": [
        "numeroEpocas =100"
      ],
      "metadata": {
        "id": "2-JgY-NlVnfC"
      },
      "execution_count": 120,
      "outputs": []
    },
    {
      "cell_type": "code",
      "source": [
        "previsoesRealizadasPorEpocas=[]\n",
        "\n",
        "for epocas in range(numeroEpocas):\n",
        "  acumuladorErro = .0\n",
        "  previsoesPorBatch = []\n",
        "  previsoesRealizadasPorEpocas.append(previsoesPorBatch)\n",
        "  for data in train_dsTensor:\n",
        "    previsores, alvo = data\n",
        "    # print(\" Atributos -- > \",previsores)\n",
        "    # print(\"Alvo ou seja classe --> \",alvo)\n",
        "    classificador.zero_grad() #zera o valor de gradiente\n",
        "\n",
        "    previsao = classificador(previsores) #faz o foward da rede\n",
        "    #print(previsao)\n",
        "    erro = criterio(previsao, alvo) #calcula o erro saida prevista menos a saida real\n",
        "\n",
        "    erro.backward() #realiza o backpropagation\n",
        "\n",
        "    otimizador.step() #atualiza os pesos, descida do gradiente acontece efetivamente aqui\n",
        "\n",
        "    acumuladorErro += erro.item() #realizando somatorio do erro so pra visualizar\n",
        "\n",
        "    previsoesPorBatch.append(previsao)\n",
        "\n",
        "\n",
        "  print('Epoca %3d: perda %.5f'%(epocas+1,acumuladorErro/len(train_dsTensor))) #calcula a media do erro dos 426 registros a cada epoca\n"
      ],
      "metadata": {
        "colab": {
          "base_uri": "https://localhost:8080/"
        },
        "id": "7eat1GrZeIvN",
        "outputId": "0c44053c-2fbc-4269-e971-34c5cc683299"
      },
      "execution_count": 121,
      "outputs": [
        {
          "output_type": "stream",
          "name": "stdout",
          "text": [
            "Epoca   1: perda 0.18067\n",
            "Epoca   2: perda 0.17902\n",
            "Epoca   3: perda 0.18817\n",
            "Epoca   4: perda 0.18907\n",
            "Epoca   5: perda 0.18520\n",
            "Epoca   6: perda 0.18526\n",
            "Epoca   7: perda 0.18295\n",
            "Epoca   8: perda 0.18198\n",
            "Epoca   9: perda 0.18746\n",
            "Epoca  10: perda 0.18009\n",
            "Epoca  11: perda 0.18893\n",
            "Epoca  12: perda 0.18206\n",
            "Epoca  13: perda 0.18483\n",
            "Epoca  14: perda 0.17992\n",
            "Epoca  15: perda 0.18209\n",
            "Epoca  16: perda 0.17773\n",
            "Epoca  17: perda 0.17823\n",
            "Epoca  18: perda 0.17989\n",
            "Epoca  19: perda 0.18697\n",
            "Epoca  20: perda 0.18032\n",
            "Epoca  21: perda 0.17691\n",
            "Epoca  22: perda 0.17853\n",
            "Epoca  23: perda 0.18072\n",
            "Epoca  24: perda 0.17837\n",
            "Epoca  25: perda 0.17926\n",
            "Epoca  26: perda 0.18103\n",
            "Epoca  27: perda 0.17488\n",
            "Epoca  28: perda 0.18815\n",
            "Epoca  29: perda 0.18013\n",
            "Epoca  30: perda 0.17886\n",
            "Epoca  31: perda 0.17657\n",
            "Epoca  32: perda 0.17554\n",
            "Epoca  33: perda 0.18873\n",
            "Epoca  34: perda 0.18257\n",
            "Epoca  35: perda 0.18235\n",
            "Epoca  36: perda 0.17857\n",
            "Epoca  37: perda 0.18237\n",
            "Epoca  38: perda 0.17450\n",
            "Epoca  39: perda 0.17597\n",
            "Epoca  40: perda 0.17890\n",
            "Epoca  41: perda 0.18037\n",
            "Epoca  42: perda 0.18572\n",
            "Epoca  43: perda 0.17549\n",
            "Epoca  44: perda 0.17556\n",
            "Epoca  45: perda 0.17896\n",
            "Epoca  46: perda 0.17820\n",
            "Epoca  47: perda 0.17724\n",
            "Epoca  48: perda 0.17475\n",
            "Epoca  49: perda 0.17473\n",
            "Epoca  50: perda 0.17423\n",
            "Epoca  51: perda 0.17946\n",
            "Epoca  52: perda 0.17425\n",
            "Epoca  53: perda 0.17721\n",
            "Epoca  54: perda 0.17739\n",
            "Epoca  55: perda 0.17849\n",
            "Epoca  56: perda 0.17938\n",
            "Epoca  57: perda 0.17712\n",
            "Epoca  58: perda 0.17572\n",
            "Epoca  59: perda 0.17859\n",
            "Epoca  60: perda 0.18025\n",
            "Epoca  61: perda 0.18382\n",
            "Epoca  62: perda 0.17789\n",
            "Epoca  63: perda 0.18060\n",
            "Epoca  64: perda 0.17354\n",
            "Epoca  65: perda 0.17332\n",
            "Epoca  66: perda 0.17865\n",
            "Epoca  67: perda 0.17548\n",
            "Epoca  68: perda 0.17143\n",
            "Epoca  69: perda 0.17891\n",
            "Epoca  70: perda 0.17791\n",
            "Epoca  71: perda 0.18673\n",
            "Epoca  72: perda 0.17685\n",
            "Epoca  73: perda 0.17168\n",
            "Epoca  74: perda 0.17403\n",
            "Epoca  75: perda 0.17548\n",
            "Epoca  76: perda 0.17152\n",
            "Epoca  77: perda 0.17269\n",
            "Epoca  78: perda 0.17056\n",
            "Epoca  79: perda 0.18746\n",
            "Epoca  80: perda 0.18260\n",
            "Epoca  81: perda 0.18074\n",
            "Epoca  82: perda 0.17156\n",
            "Epoca  83: perda 0.17744\n",
            "Epoca  84: perda 0.17932\n",
            "Epoca  85: perda 0.17306\n",
            "Epoca  86: perda 0.17521\n",
            "Epoca  87: perda 0.17260\n",
            "Epoca  88: perda 0.16984\n",
            "Epoca  89: perda 0.17093\n",
            "Epoca  90: perda 0.17665\n",
            "Epoca  91: perda 0.17338\n",
            "Epoca  92: perda 0.18486\n",
            "Epoca  93: perda 0.17887\n",
            "Epoca  94: perda 0.17315\n",
            "Epoca  95: perda 0.17515\n",
            "Epoca  96: perda 0.17405\n",
            "Epoca  97: perda 0.17533\n",
            "Epoca  98: perda 0.18605\n",
            "Epoca  99: perda 0.17044\n",
            "Epoca 100: perda 0.17712\n"
          ]
        }
      ]
    },
    {
      "cell_type": "code",
      "source": [
        "len(previsoesRealizadasPorEpocas)"
      ],
      "metadata": {
        "colab": {
          "base_uri": "https://localhost:8080/"
        },
        "id": "mTTj4oNWmcah",
        "outputId": "f588bce9-aa0a-482d-80ed-b01bdd1da5a9"
      },
      "execution_count": 123,
      "outputs": [
        {
          "output_type": "execute_result",
          "data": {
            "text/plain": [
              "100"
            ]
          },
          "metadata": {},
          "execution_count": 123
        }
      ]
    },
    {
      "cell_type": "code",
      "source": [
        "aux = previsoesRealizadasPorEpocas[99]\n"
      ],
      "metadata": {
        "id": "uE_YSpsT5wZi"
      },
      "execution_count": 146,
      "outputs": []
    },
    {
      "cell_type": "code",
      "source": [
        "len(aux)"
      ],
      "metadata": {
        "colab": {
          "base_uri": "https://localhost:8080/"
        },
        "id": "ENnc2bKl6jP6",
        "outputId": "851cc511-373a-4fec-fafb-5ca8d44e01d6"
      },
      "execution_count": 148,
      "outputs": [
        {
          "output_type": "execute_result",
          "data": {
            "text/plain": [
              "43"
            ]
          },
          "metadata": {},
          "execution_count": 148
        }
      ]
    },
    {
      "cell_type": "markdown",
      "source": [
        "Agora que a rede neural ja está treinada e com os pesos, podemos ver esses pesos  "
      ],
      "metadata": {
        "id": "uAurvRpZ-tXq"
      }
    },
    {
      "cell_type": "code",
      "source": [
        "pesosFinaisDoModelo =list(classificador.parameters())"
      ],
      "metadata": {
        "id": "OI4j_0lw-pv0"
      },
      "execution_count": 160,
      "outputs": []
    },
    {
      "cell_type": "code",
      "source": [
        "pesosFinaisDoModelo"
      ],
      "metadata": {
        "colab": {
          "base_uri": "https://localhost:8080/"
        },
        "id": "VodFkFC7_j22",
        "outputId": "9ba26b5c-346f-4d17-df96-cf9a70074503"
      },
      "execution_count": 161,
      "outputs": [
        {
          "output_type": "execute_result",
          "data": {
            "text/plain": [
              "[Parameter containing:\n",
              " tensor([[ 9.3580e-03, -1.3033e-02, -3.9011e-02,  4.5862e-02, -1.1173e-01,\n",
              "          -3.0411e-01, -7.4420e-01, -5.6799e-01, -6.7189e-02,  8.7035e-02,\n",
              "          -8.3216e-03,  1.0997e-01, -2.0915e-01, -1.5671e-01, -3.1833e-02,\n",
              "          -2.3583e-01, -3.2147e-01, -1.1493e-01, -4.6194e-02, -2.0581e-02,\n",
              "           2.1430e-01, -5.2434e-03,  8.6831e-02,  1.7110e-01, -1.1763e-01,\n",
              "          -4.4735e-01, -6.8912e-01, -3.6580e-01,  5.8927e-02, -1.8569e-01],\n",
              "         [ 2.4947e-01,  7.2658e-02,  1.3986e-01,  5.5713e-02,  1.0037e-01,\n",
              "          -4.7079e-01, -8.5980e-01, -6.3089e-01, -8.9466e-02,  6.2243e-02,\n",
              "           3.9103e-02, -5.0925e-02, -6.0927e-02,  1.3526e-01, -6.5450e-02,\n",
              "          -2.9221e-01, -3.5667e-01, -1.8183e-01, -2.0253e-02, -4.4715e-02,\n",
              "           1.5908e-01,  2.0567e-03,  8.7386e-02,  6.7147e-02, -8.7347e-02,\n",
              "          -6.9461e-01, -7.6980e-01, -3.8667e-01, -6.8362e-02, -2.0792e-01],\n",
              "         [-3.0441e-03,  5.8726e-03, -4.0799e-04, -3.7237e-04,  7.2640e-03,\n",
              "           2.9363e-02,  4.1816e-02,  2.0467e-02,  8.2378e-03,  2.7585e-03,\n",
              "          -5.8841e-03, -2.1758e-03,  2.0873e-03, -3.0021e-03,  6.8460e-04,\n",
              "           6.2930e-03,  9.7403e-03,  1.6083e-03,  2.7810e-03,  4.2185e-04,\n",
              "          -2.1749e-03,  9.5909e-03,  1.6757e-03, -1.3216e-04,  1.3614e-02,\n",
              "           4.6878e-02,  5.6137e-02,  3.3947e-02,  1.8875e-02,  1.1199e-02],\n",
              "         [-2.2328e-01,  1.4014e-01, -1.5036e-03,  1.4304e-01, -1.6720e-02,\n",
              "           1.9934e-01,  3.4374e-01,  1.9784e-01, -2.5821e-02, -4.0414e-02,\n",
              "           4.8565e-02, -1.7424e-01,  8.3864e-02, -3.6992e-02,  1.6388e-03,\n",
              "           6.9588e-02,  8.0097e-02,  3.6057e-02, -1.1612e-02,  2.2990e-03,\n",
              "           3.1789e-02, -8.1585e-02,  4.5203e-02, -2.4080e-02, -2.9172e-03,\n",
              "           3.4451e-01,  3.5699e-01,  2.4555e-01,  1.3372e-02,  1.7076e-02],\n",
              "         [-1.7462e-01,  4.0723e-02,  9.7397e-02, -6.2224e-02,  5.7528e-02,\n",
              "           2.8430e-01,  6.2689e-01,  4.2643e-01, -3.7225e-02, -2.4016e-02,\n",
              "          -1.1963e-01, -3.5639e-02,  5.2646e-02, -7.5355e-02,  9.2411e-03,\n",
              "           1.3958e-01,  2.0643e-01,  7.4571e-02,  1.9182e-03,  7.1233e-03,\n",
              "          -1.2400e-01, -6.7156e-02, -2.0686e-02,  1.6971e-01,  2.0719e-02,\n",
              "           3.8375e-01,  4.8264e-01,  4.1850e-01, -1.0542e-01, -2.7424e-02],\n",
              "         [-3.1854e-02, -7.6031e-02,  6.7956e-02,  1.0217e-01,  3.8206e-02,\n",
              "          -2.9743e-01, -7.3505e-01, -4.9175e-01, -9.7893e-02,  1.0655e-01,\n",
              "           8.6514e-02,  2.2022e-01, -1.8518e-01,  9.6910e-02, -3.0468e-02,\n",
              "          -1.8322e-01, -2.5822e-01, -1.1519e-01, -1.7740e-02, -2.0798e-02,\n",
              "           7.7279e-02, -1.7347e-01,  3.7725e-02,  2.9329e-02, -1.4221e-01,\n",
              "          -5.9142e-01, -7.7425e-01, -5.1502e-01,  7.9288e-02, -5.8468e-02],\n",
              "         [ 2.0371e-38,  1.8727e-38, -8.5418e-13, -2.0751e-04, -2.5019e-38,\n",
              "          -5.5802e-38, -1.1437e-38, -5.9054e-38,  2.5518e-39, -1.9915e-38,\n",
              "           3.9372e-38, -1.1172e-39, -3.4675e-38, -1.1418e-31,  2.4786e-38,\n",
              "          -4.6540e-38,  4.4003e-38,  4.2416e-38, -2.7582e-38,  1.7706e-38,\n",
              "           2.2033e-38,  2.3593e-38, -8.8926e-12, -3.3656e-04,  2.6657e-38,\n",
              "          -5.1147e-39,  2.1817e-38,  1.6854e-38,  2.1201e-38, -3.5944e-38],\n",
              "         [ 1.1764e-38,  1.2715e-38,  8.7774e-39, -3.0234e-38, -4.2245e-39,\n",
              "          -1.7011e-38,  1.9309e-38, -2.4890e-38,  3.5185e-38,  4.9568e-39,\n",
              "          -6.2617e-38, -4.4862e-38, -8.6507e-40,  2.1835e-38,  2.6664e-38,\n",
              "          -4.9887e-38, -2.0591e-38, -6.6563e-38,  3.0451e-39,  4.6807e-38,\n",
              "           1.8361e-38, -4.0404e-38, -5.7761e-38, -1.6185e-38, -6.7208e-38,\n",
              "          -3.7132e-38, -4.9851e-39, -2.2046e-38, -4.7857e-38,  2.5882e-38],\n",
              "         [-3.8889e-03, -2.8867e-02, -1.9345e-01,  2.4954e-02,  1.1516e-01,\n",
              "           5.9943e-01,  6.2348e-01,  5.6207e-01,  9.2157e-02, -6.2934e-03,\n",
              "           3.3572e-02, -1.4322e-01,  1.9958e-01, -1.0977e-01,  7.1862e-02,\n",
              "           3.1652e-01,  3.7627e-01,  1.7949e-01,  1.3648e-01,  5.8560e-02,\n",
              "          -2.2858e-01,  3.4512e-02, -1.4907e-01,  1.7556e-01,  1.4371e-01,\n",
              "           6.3698e-01,  7.2218e-01,  5.1091e-01,  1.6177e-01,  9.0147e-02],\n",
              "         [ 6.3271e-39, -2.4150e-39, -1.0294e-38, -3.5254e-13, -2.9148e-38,\n",
              "          -5.7628e-38,  1.0720e-38, -5.5342e-39, -6.7590e-38, -5.0909e-38,\n",
              "           3.9174e-38, -1.1463e-38,  1.0881e-38,  2.9450e-41, -1.4645e-38,\n",
              "           6.1909e-38, -6.3994e-38,  1.8818e-38, -5.5776e-38, -8.1975e-39,\n",
              "           4.6003e-39,  6.8663e-39, -1.3610e-35, -7.2638e-11, -5.2016e-38,\n",
              "           3.2505e-38,  3.0396e-38,  2.3033e-38,  3.3254e-38,  2.2024e-38],\n",
              "         [ 9.6059e-02,  6.4497e-02,  2.2876e-01,  3.7539e-02, -4.0432e-02,\n",
              "          -3.7884e-01, -7.0220e-01, -6.3172e-01, -2.1246e-02,  1.0807e-01,\n",
              "           7.8407e-02,  1.2530e-01, -1.4656e-01,  1.4090e-01, -4.6413e-02,\n",
              "          -2.4743e-01, -3.4378e-01, -1.6269e-01, -3.4252e-02, -3.0848e-02,\n",
              "          -1.0783e-02, -1.0147e-01,  1.8719e-01,  1.1943e-01,  3.2696e-02,\n",
              "          -6.5869e-01, -5.5800e-01, -4.5440e-01, -1.6919e-01, -7.8921e-02],\n",
              "         [ 1.2647e-01, -1.1345e-01, -2.0050e-02,  1.2682e-01, -2.1238e-02,\n",
              "          -4.2884e-01, -7.8233e-01, -6.1253e-01,  1.6535e-01,  9.3642e-02,\n",
              "           3.5200e-02,  1.5597e-01, -1.3741e-01, -2.0376e-01, -4.6522e-02,\n",
              "          -2.3182e-01, -3.3731e-01, -1.3943e-01, -1.8271e-02, -2.8997e-02,\n",
              "           2.4821e-01, -7.8425e-02,  2.0086e-01, -9.1489e-02, -7.7952e-02,\n",
              "          -4.0716e-01, -7.2832e-01, -3.8133e-01, -2.9008e-02, -9.0203e-02],\n",
              "         [ 6.2186e-02,  1.4987e-01, -1.3562e-01,  3.6162e-02,  2.7358e-02,\n",
              "           5.9584e-01,  8.3996e-01,  7.5612e-01,  7.4947e-02, -1.9373e-01,\n",
              "           4.6582e-02, -9.5863e-02,  1.9102e-01,  1.5259e-01,  6.8140e-02,\n",
              "           3.2013e-01,  3.9194e-01,  2.6361e-01, -1.5496e-02,  7.2135e-02,\n",
              "           5.3222e-04,  1.3874e-01,  4.5122e-02,  3.0975e-02, -9.3140e-02,\n",
              "           6.5235e-01,  5.2348e-01,  4.3192e-01,  7.6514e-02,  1.4249e-01],\n",
              "         [ 3.3954e-03, -2.3574e-02, -1.6238e-01,  3.7015e-03,  4.4419e-02,\n",
              "           3.6396e-01,  6.0582e-01,  7.1261e-01, -1.5713e-01, -1.6681e-01,\n",
              "           7.6049e-02, -1.7784e-01, -9.9102e-02,  1.8539e-01,  6.2118e-02,\n",
              "           3.3691e-01,  4.9834e-01,  2.1669e-01,  1.4315e-01,  7.2086e-02,\n",
              "           3.6071e-02,  7.7116e-02, -1.3561e-01,  1.1575e-01, -6.6346e-02,\n",
              "           4.2970e-01,  5.7813e-01,  6.0193e-01,  7.8370e-02,  1.7657e-01],\n",
              "         [-4.5020e-30, -2.8252e-19, -5.2767e-07, -5.5300e-04, -4.3629e-38,\n",
              "           3.9998e-38,  2.0012e-38, -6.2742e-38, -1.0549e-38, -4.1851e-38,\n",
              "           5.8002e-39, -4.6364e-39,  1.7439e-38, -1.0765e-13, -4.8268e-38,\n",
              "           6.0630e-38,  2.6815e-38,  1.4121e-38, -4.1295e-38,  8.6097e-39,\n",
              "          -1.5229e-27, -9.9039e-15, -1.2718e-06, -6.6669e-04, -1.5204e-38,\n",
              "           1.7735e-38,  1.6317e-38,  8.2747e-39, -1.4141e-38,  3.3833e-38],\n",
              "         [-4.8779e-38,  4.5708e-39,  2.6744e-38, -2.6335e-10, -1.4885e-38,\n",
              "           4.6622e-39,  6.2914e-38,  2.3471e-38,  4.1327e-39,  1.4556e-38,\n",
              "          -7.3777e-39, -6.2476e-38, -1.3160e-38, -2.3626e-38, -4.7917e-38,\n",
              "          -2.3133e-38, -4.6160e-38,  5.4899e-38, -1.7896e-38, -3.1748e-38,\n",
              "          -1.1488e-38,  1.4018e-38,  2.4384e-38, -7.7890e-08, -2.0451e-38,\n",
              "           1.9304e-38,  9.8762e-39,  1.0783e-38,  7.4269e-39,  2.6184e-38]],\n",
              "        requires_grad=True),\n",
              " Parameter containing:\n",
              " tensor([ 1.7308e-01,  3.6920e-02, -6.0615e-03, -9.8667e-02, -4.1626e-01,\n",
              "          1.2202e-01, -1.1537e-38,  2.6143e-38, -1.0279e-01, -2.3973e-38,\n",
              "          1.3862e-01,  1.6972e-01, -2.0445e-01, -1.5698e-01, -3.0594e-38,\n",
              "         -1.2221e-39], requires_grad=True),\n",
              " Parameter containing:\n",
              " tensor([[ 8.2452e-05,  2.5720e-05, -2.5763e-38,  1.5113e-05, -1.4517e-05,\n",
              "           9.9268e-06,  1.0411e-38,  2.5033e-38, -2.8992e-04, -4.0952e-38,\n",
              "          -2.8814e-03,  6.1688e-12,  3.8066e-06,  1.1529e-04, -4.2777e-38,\n",
              "          -6.5831e-38],\n",
              "         [-4.2871e-04, -1.6652e-04,  6.5382e-39, -9.4697e-06, -1.4754e-04,\n",
              "          -6.1904e-05, -1.9488e-38, -4.0053e-38, -2.0024e-04,  3.5496e-40,\n",
              "          -3.7905e-04, -3.5723e-38, -3.0880e-06, -4.2761e-05, -4.9245e-38,\n",
              "          -4.5456e-38],\n",
              "         [ 1.6315e-01,  3.7002e-02,  1.0047e-03,  2.0303e-01,  2.3572e-01,\n",
              "          -5.5200e-02, -1.3985e-06, -6.1745e-38,  2.4555e-01, -4.0342e-40,\n",
              "          -4.5881e-02,  6.5167e-02,  2.6713e-01,  1.2032e-01,  6.8100e-06,\n",
              "           9.4952e-19],\n",
              "         [-3.7619e-03, -1.2118e-02, -9.0388e-09, -2.0750e-01,  6.4826e-02,\n",
              "          -1.3620e-02,  2.8740e-40, -1.4564e-38,  1.8799e-01,  2.6496e-39,\n",
              "          -2.2367e-01,  1.1921e-01,  1.0821e-01,  9.5684e-02, -2.2910e-38,\n",
              "          -1.1820e-38],\n",
              "         [-8.4265e-05,  1.3359e-04, -4.5087e-38, -2.5188e-04,  7.0594e-05,\n",
              "           9.1166e-05,  3.1216e-38,  3.0203e-38, -3.4676e-04,  6.6480e-38,\n",
              "           1.3155e-04, -1.1791e-04, -2.7434e-04, -1.5502e-04, -4.7817e-38,\n",
              "          -6.6880e-38],\n",
              "         [-1.5835e-05, -5.1979e-06,  6.5534e-38, -2.8815e-08, -2.3275e-07,\n",
              "          -2.0965e-07, -1.1874e-38, -3.0710e-38, -2.7017e-07,  1.1510e-38,\n",
              "          -2.3349e-05, -9.4885e-22, -7.4888e-10, -2.2031e-09,  4.2468e-39,\n",
              "          -3.1593e-38],\n",
              "         [-1.5825e-01, -2.7790e-02,  1.0332e-03, -3.3792e-02,  1.0123e-01,\n",
              "           1.4068e-01, -5.9246e-05,  3.1698e-38, -1.3405e-01, -1.1835e-38,\n",
              "           5.7453e-02,  4.8287e-02,  2.5983e-01,  2.6110e-01,  8.4963e-05,\n",
              "           5.0948e-11],\n",
              "         [ 1.1968e-01, -1.6563e-02,  4.9659e-03, -1.2325e-01, -1.7824e-01,\n",
              "           1.4613e-01,  3.0115e-38, -3.6663e-38, -5.6524e-02,  5.3433e-38,\n",
              "           1.1685e-01,  8.9213e-02, -4.8353e-02, -2.7261e-01, -1.5071e-07,\n",
              "          -1.8515e-38],\n",
              "         [-7.9430e-02,  1.7285e-01, -1.0868e-03, -7.5813e-02,  2.5543e-01,\n",
              "           1.6121e-01,  1.5216e-05,  6.6232e-38, -6.9231e-02, -5.7769e-39,\n",
              "           1.2962e-01,  6.3649e-02, -9.7855e-02,  1.7336e-01, -3.4626e-05,\n",
              "          -8.0925e-14],\n",
              "         [ 1.9161e-01,  7.2404e-02, -1.0598e-38,  3.2801e-02, -4.1070e-02,\n",
              "           9.2311e-02,  6.0060e-38, -4.5974e-38, -9.0036e-02,  3.7468e-38,\n",
              "          -1.8576e-01, -5.4295e-02, -8.6174e-02, -6.8950e-02,  2.3853e-38,\n",
              "           5.8835e-38],\n",
              "         [ 1.4520e-01, -9.5466e-02, -1.5257e-03, -2.4895e-01, -9.1561e-02,\n",
              "          -3.8965e-02, -2.4501e-38,  2.5593e-38, -9.5206e-03, -4.6984e-38,\n",
              "           1.7636e-01, -9.1322e-02,  1.7279e-01,  1.2317e-01, -1.2735e-33,\n",
              "           1.1966e-38],\n",
              "         [ 1.4954e-01,  3.7737e-03, -1.0278e-03,  1.2427e-01,  3.0024e-02,\n",
              "           2.2970e-01,  1.0584e-04, -6.8142e-38, -2.4645e-01, -2.1750e-39,\n",
              "          -2.0706e-02,  1.9948e-01, -1.2376e-01, -1.6422e-01, -1.2130e-04,\n",
              "          -5.3291e-10],\n",
              "         [-4.0027e-19, -4.2553e-26,  4.3750e-38,  2.2759e-38, -4.5163e-33,\n",
              "          -3.6090e-34,  3.1223e-38,  7.0257e-39, -3.9720e-28,  5.1399e-38,\n",
              "          -1.9653e-19,  2.0338e-38,  2.4685e-38,  2.2178e-38,  1.3585e-38,\n",
              "          -5.0373e-38],\n",
              "         [-8.5663e-06,  9.7648e-06,  2.9538e-38, -4.2511e-08, -1.3223e-08,\n",
              "          -3.4294e-07, -3.1160e-38, -1.2061e-38, -8.1231e-08,  2.7129e-38,\n",
              "          -7.4783e-06, -1.0633e-21, -1.1071e-10, -1.8032e-09, -4.4813e-38,\n",
              "           4.5171e-39],\n",
              "         [ 2.0530e-02,  2.3000e-01, -1.0125e-03, -4.4697e-02, -8.1505e-02,\n",
              "          -3.5369e-02,  1.1473e-04, -2.9417e-38, -1.7368e-01, -7.8208e-39,\n",
              "           2.1099e-01,  7.2364e-02, -1.1177e-01, -2.5837e-01, -1.3261e-04,\n",
              "          -9.8348e-10],\n",
              "         [-3.2744e-04, -1.5833e-04,  1.0031e-38, -3.4977e-05, -6.4308e-05,\n",
              "          -7.4159e-05,  1.5726e-38, -3.7257e-38, -1.1320e-04, -1.1042e-38,\n",
              "          -3.1288e-04, -5.3035e-09, -3.4219e-06, -1.8389e-05, -2.3123e-38,\n",
              "           2.7591e-38]], requires_grad=True),\n",
              " Parameter containing:\n",
              " tensor([ 3.3092e-39,  3.8342e-39, -4.4097e-01, -3.7766e-05,  5.1806e-18,\n",
              "          1.1124e-38, -6.1868e-02,  4.0367e-01,  2.8964e-02,  1.0751e-02,\n",
              "          1.8857e-02,  4.8009e-02, -8.6798e-39, -1.1328e-38,  4.1100e-01,\n",
              "          9.2007e-39], requires_grad=True),\n",
              " Parameter containing:\n",
              " tensor([[-1.4917e-06, -2.4296e-03, -1.0757e-01,  1.1372e-01, -5.7938e-05,\n",
              "          -2.6615e-38, -2.0735e-01,  2.8242e-01,  1.5743e-01,  1.1819e-01,\n",
              "           1.0253e-02,  2.4759e-01,  5.0758e-06, -1.8115e-38,  2.7710e-01,\n",
              "           1.5471e-03]], requires_grad=True),\n",
              " Parameter containing:\n",
              " tensor([0.3368], requires_grad=True)]"
            ]
          },
          "metadata": {},
          "execution_count": 161
        }
      ]
    },
    {
      "cell_type": "code",
      "source": [
        "#na camada de entrada temos 30 entradas logo 30 pesos e 16 neuronios\n",
        "pesos0 = pesosFinaisDoModelo[0]\n",
        "pesos0.shape"
      ],
      "metadata": {
        "colab": {
          "base_uri": "https://localhost:8080/"
        },
        "id": "1ypMuTMqAEjt",
        "outputId": "e8c198d7-4831-40df-ce1e-983b5f190d34"
      },
      "execution_count": 163,
      "outputs": [
        {
          "output_type": "execute_result",
          "data": {
            "text/plain": [
              "torch.Size([16, 30])"
            ]
          },
          "metadata": {},
          "execution_count": 163
        }
      ]
    },
    {
      "cell_type": "code",
      "source": [
        "pesos0"
      ],
      "metadata": {
        "colab": {
          "base_uri": "https://localhost:8080/"
        },
        "id": "r8hkX69ZAi3_",
        "outputId": "81c15ef8-16f2-4767-cec1-d68caafe16a2"
      },
      "execution_count": 164,
      "outputs": [
        {
          "output_type": "execute_result",
          "data": {
            "text/plain": [
              "Parameter containing:\n",
              "tensor([[ 9.3580e-03, -1.3033e-02, -3.9011e-02,  4.5862e-02, -1.1173e-01,\n",
              "         -3.0411e-01, -7.4420e-01, -5.6799e-01, -6.7189e-02,  8.7035e-02,\n",
              "         -8.3216e-03,  1.0997e-01, -2.0915e-01, -1.5671e-01, -3.1833e-02,\n",
              "         -2.3583e-01, -3.2147e-01, -1.1493e-01, -4.6194e-02, -2.0581e-02,\n",
              "          2.1430e-01, -5.2434e-03,  8.6831e-02,  1.7110e-01, -1.1763e-01,\n",
              "         -4.4735e-01, -6.8912e-01, -3.6580e-01,  5.8927e-02, -1.8569e-01],\n",
              "        [ 2.4947e-01,  7.2658e-02,  1.3986e-01,  5.5713e-02,  1.0037e-01,\n",
              "         -4.7079e-01, -8.5980e-01, -6.3089e-01, -8.9466e-02,  6.2243e-02,\n",
              "          3.9103e-02, -5.0925e-02, -6.0927e-02,  1.3526e-01, -6.5450e-02,\n",
              "         -2.9221e-01, -3.5667e-01, -1.8183e-01, -2.0253e-02, -4.4715e-02,\n",
              "          1.5908e-01,  2.0567e-03,  8.7386e-02,  6.7147e-02, -8.7347e-02,\n",
              "         -6.9461e-01, -7.6980e-01, -3.8667e-01, -6.8362e-02, -2.0792e-01],\n",
              "        [-3.0441e-03,  5.8726e-03, -4.0799e-04, -3.7237e-04,  7.2640e-03,\n",
              "          2.9363e-02,  4.1816e-02,  2.0467e-02,  8.2378e-03,  2.7585e-03,\n",
              "         -5.8841e-03, -2.1758e-03,  2.0873e-03, -3.0021e-03,  6.8460e-04,\n",
              "          6.2930e-03,  9.7403e-03,  1.6083e-03,  2.7810e-03,  4.2185e-04,\n",
              "         -2.1749e-03,  9.5909e-03,  1.6757e-03, -1.3216e-04,  1.3614e-02,\n",
              "          4.6878e-02,  5.6137e-02,  3.3947e-02,  1.8875e-02,  1.1199e-02],\n",
              "        [-2.2328e-01,  1.4014e-01, -1.5036e-03,  1.4304e-01, -1.6720e-02,\n",
              "          1.9934e-01,  3.4374e-01,  1.9784e-01, -2.5821e-02, -4.0414e-02,\n",
              "          4.8565e-02, -1.7424e-01,  8.3864e-02, -3.6992e-02,  1.6388e-03,\n",
              "          6.9588e-02,  8.0097e-02,  3.6057e-02, -1.1612e-02,  2.2990e-03,\n",
              "          3.1789e-02, -8.1585e-02,  4.5203e-02, -2.4080e-02, -2.9172e-03,\n",
              "          3.4451e-01,  3.5699e-01,  2.4555e-01,  1.3372e-02,  1.7076e-02],\n",
              "        [-1.7462e-01,  4.0723e-02,  9.7397e-02, -6.2224e-02,  5.7528e-02,\n",
              "          2.8430e-01,  6.2689e-01,  4.2643e-01, -3.7225e-02, -2.4016e-02,\n",
              "         -1.1963e-01, -3.5639e-02,  5.2646e-02, -7.5355e-02,  9.2411e-03,\n",
              "          1.3958e-01,  2.0643e-01,  7.4571e-02,  1.9182e-03,  7.1233e-03,\n",
              "         -1.2400e-01, -6.7156e-02, -2.0686e-02,  1.6971e-01,  2.0719e-02,\n",
              "          3.8375e-01,  4.8264e-01,  4.1850e-01, -1.0542e-01, -2.7424e-02],\n",
              "        [-3.1854e-02, -7.6031e-02,  6.7956e-02,  1.0217e-01,  3.8206e-02,\n",
              "         -2.9743e-01, -7.3505e-01, -4.9175e-01, -9.7893e-02,  1.0655e-01,\n",
              "          8.6514e-02,  2.2022e-01, -1.8518e-01,  9.6910e-02, -3.0468e-02,\n",
              "         -1.8322e-01, -2.5822e-01, -1.1519e-01, -1.7740e-02, -2.0798e-02,\n",
              "          7.7279e-02, -1.7347e-01,  3.7725e-02,  2.9329e-02, -1.4221e-01,\n",
              "         -5.9142e-01, -7.7425e-01, -5.1502e-01,  7.9288e-02, -5.8468e-02],\n",
              "        [ 2.0371e-38,  1.8727e-38, -8.5418e-13, -2.0751e-04, -2.5019e-38,\n",
              "         -5.5802e-38, -1.1437e-38, -5.9054e-38,  2.5518e-39, -1.9915e-38,\n",
              "          3.9372e-38, -1.1172e-39, -3.4675e-38, -1.1418e-31,  2.4786e-38,\n",
              "         -4.6540e-38,  4.4003e-38,  4.2416e-38, -2.7582e-38,  1.7706e-38,\n",
              "          2.2033e-38,  2.3593e-38, -8.8926e-12, -3.3656e-04,  2.6657e-38,\n",
              "         -5.1147e-39,  2.1817e-38,  1.6854e-38,  2.1201e-38, -3.5944e-38],\n",
              "        [ 1.1764e-38,  1.2715e-38,  8.7774e-39, -3.0234e-38, -4.2245e-39,\n",
              "         -1.7011e-38,  1.9309e-38, -2.4890e-38,  3.5185e-38,  4.9568e-39,\n",
              "         -6.2617e-38, -4.4862e-38, -8.6507e-40,  2.1835e-38,  2.6664e-38,\n",
              "         -4.9887e-38, -2.0591e-38, -6.6563e-38,  3.0451e-39,  4.6807e-38,\n",
              "          1.8361e-38, -4.0404e-38, -5.7761e-38, -1.6185e-38, -6.7208e-38,\n",
              "         -3.7132e-38, -4.9851e-39, -2.2046e-38, -4.7857e-38,  2.5882e-38],\n",
              "        [-3.8889e-03, -2.8867e-02, -1.9345e-01,  2.4954e-02,  1.1516e-01,\n",
              "          5.9943e-01,  6.2348e-01,  5.6207e-01,  9.2157e-02, -6.2934e-03,\n",
              "          3.3572e-02, -1.4322e-01,  1.9958e-01, -1.0977e-01,  7.1862e-02,\n",
              "          3.1652e-01,  3.7627e-01,  1.7949e-01,  1.3648e-01,  5.8560e-02,\n",
              "         -2.2858e-01,  3.4512e-02, -1.4907e-01,  1.7556e-01,  1.4371e-01,\n",
              "          6.3698e-01,  7.2218e-01,  5.1091e-01,  1.6177e-01,  9.0147e-02],\n",
              "        [ 6.3271e-39, -2.4150e-39, -1.0294e-38, -3.5254e-13, -2.9148e-38,\n",
              "         -5.7628e-38,  1.0720e-38, -5.5342e-39, -6.7590e-38, -5.0909e-38,\n",
              "          3.9174e-38, -1.1463e-38,  1.0881e-38,  2.9450e-41, -1.4645e-38,\n",
              "          6.1909e-38, -6.3994e-38,  1.8818e-38, -5.5776e-38, -8.1975e-39,\n",
              "          4.6003e-39,  6.8663e-39, -1.3610e-35, -7.2638e-11, -5.2016e-38,\n",
              "          3.2505e-38,  3.0396e-38,  2.3033e-38,  3.3254e-38,  2.2024e-38],\n",
              "        [ 9.6059e-02,  6.4497e-02,  2.2876e-01,  3.7539e-02, -4.0432e-02,\n",
              "         -3.7884e-01, -7.0220e-01, -6.3172e-01, -2.1246e-02,  1.0807e-01,\n",
              "          7.8407e-02,  1.2530e-01, -1.4656e-01,  1.4090e-01, -4.6413e-02,\n",
              "         -2.4743e-01, -3.4378e-01, -1.6269e-01, -3.4252e-02, -3.0848e-02,\n",
              "         -1.0783e-02, -1.0147e-01,  1.8719e-01,  1.1943e-01,  3.2696e-02,\n",
              "         -6.5869e-01, -5.5800e-01, -4.5440e-01, -1.6919e-01, -7.8921e-02],\n",
              "        [ 1.2647e-01, -1.1345e-01, -2.0050e-02,  1.2682e-01, -2.1238e-02,\n",
              "         -4.2884e-01, -7.8233e-01, -6.1253e-01,  1.6535e-01,  9.3642e-02,\n",
              "          3.5200e-02,  1.5597e-01, -1.3741e-01, -2.0376e-01, -4.6522e-02,\n",
              "         -2.3182e-01, -3.3731e-01, -1.3943e-01, -1.8271e-02, -2.8997e-02,\n",
              "          2.4821e-01, -7.8425e-02,  2.0086e-01, -9.1489e-02, -7.7952e-02,\n",
              "         -4.0716e-01, -7.2832e-01, -3.8133e-01, -2.9008e-02, -9.0203e-02],\n",
              "        [ 6.2186e-02,  1.4987e-01, -1.3562e-01,  3.6162e-02,  2.7358e-02,\n",
              "          5.9584e-01,  8.3996e-01,  7.5612e-01,  7.4947e-02, -1.9373e-01,\n",
              "          4.6582e-02, -9.5863e-02,  1.9102e-01,  1.5259e-01,  6.8140e-02,\n",
              "          3.2013e-01,  3.9194e-01,  2.6361e-01, -1.5496e-02,  7.2135e-02,\n",
              "          5.3222e-04,  1.3874e-01,  4.5122e-02,  3.0975e-02, -9.3140e-02,\n",
              "          6.5235e-01,  5.2348e-01,  4.3192e-01,  7.6514e-02,  1.4249e-01],\n",
              "        [ 3.3954e-03, -2.3574e-02, -1.6238e-01,  3.7015e-03,  4.4419e-02,\n",
              "          3.6396e-01,  6.0582e-01,  7.1261e-01, -1.5713e-01, -1.6681e-01,\n",
              "          7.6049e-02, -1.7784e-01, -9.9102e-02,  1.8539e-01,  6.2118e-02,\n",
              "          3.3691e-01,  4.9834e-01,  2.1669e-01,  1.4315e-01,  7.2086e-02,\n",
              "          3.6071e-02,  7.7116e-02, -1.3561e-01,  1.1575e-01, -6.6346e-02,\n",
              "          4.2970e-01,  5.7813e-01,  6.0193e-01,  7.8370e-02,  1.7657e-01],\n",
              "        [-4.5020e-30, -2.8252e-19, -5.2767e-07, -5.5300e-04, -4.3629e-38,\n",
              "          3.9998e-38,  2.0012e-38, -6.2742e-38, -1.0549e-38, -4.1851e-38,\n",
              "          5.8002e-39, -4.6364e-39,  1.7439e-38, -1.0765e-13, -4.8268e-38,\n",
              "          6.0630e-38,  2.6815e-38,  1.4121e-38, -4.1295e-38,  8.6097e-39,\n",
              "         -1.5229e-27, -9.9039e-15, -1.2718e-06, -6.6669e-04, -1.5204e-38,\n",
              "          1.7735e-38,  1.6317e-38,  8.2747e-39, -1.4141e-38,  3.3833e-38],\n",
              "        [-4.8779e-38,  4.5708e-39,  2.6744e-38, -2.6335e-10, -1.4885e-38,\n",
              "          4.6622e-39,  6.2914e-38,  2.3471e-38,  4.1327e-39,  1.4556e-38,\n",
              "         -7.3777e-39, -6.2476e-38, -1.3160e-38, -2.3626e-38, -4.7917e-38,\n",
              "         -2.3133e-38, -4.6160e-38,  5.4899e-38, -1.7896e-38, -3.1748e-38,\n",
              "         -1.1488e-38,  1.4018e-38,  2.4384e-38, -7.7890e-08, -2.0451e-38,\n",
              "          1.9304e-38,  9.8762e-39,  1.0783e-38,  7.4269e-39,  2.6184e-38]],\n",
              "       requires_grad=True)"
            ]
          },
          "metadata": {},
          "execution_count": 164
        }
      ]
    },
    {
      "cell_type": "code",
      "source": [
        "#valores do bias da camada de entrada, para cada uma da 16 neuronios\n",
        "bias0 = pesosFinaisDoModelo[1]\n",
        "bias0.shape\n"
      ],
      "metadata": {
        "colab": {
          "base_uri": "https://localhost:8080/"
        },
        "id": "BlEfCshGAlYx",
        "outputId": "89d25473-f568-4a57-964f-585d91bc8277"
      },
      "execution_count": 179,
      "outputs": [
        {
          "output_type": "execute_result",
          "data": {
            "text/plain": [
              "torch.Size([16])"
            ]
          },
          "metadata": {},
          "execution_count": 179
        }
      ]
    },
    {
      "cell_type": "code",
      "source": [
        "bias0"
      ],
      "metadata": {
        "colab": {
          "base_uri": "https://localhost:8080/"
        },
        "id": "d-3eXOqyBss6",
        "outputId": "10ec79c7-46c0-4aa2-cafa-858af67c2502"
      },
      "execution_count": 180,
      "outputs": [
        {
          "output_type": "execute_result",
          "data": {
            "text/plain": [
              "Parameter containing:\n",
              "tensor([ 1.7308e-01,  3.6920e-02, -6.0615e-03, -9.8667e-02, -4.1626e-01,\n",
              "         1.2202e-01, -1.1537e-38,  2.6143e-38, -1.0279e-01, -2.3973e-38,\n",
              "         1.3862e-01,  1.6972e-01, -2.0445e-01, -1.5698e-01, -3.0594e-38,\n",
              "        -1.2221e-39], requires_grad=True)"
            ]
          },
          "metadata": {},
          "execution_count": 180
        }
      ]
    },
    {
      "cell_type": "code",
      "source": [
        "#pesos da primeira camda oculta para a segunda camada oculta\n",
        "peso1=pesosFinaisDoModelo[2]\n",
        "peso1.shape\n"
      ],
      "metadata": {
        "colab": {
          "base_uri": "https://localhost:8080/"
        },
        "id": "hgvnzAn3BMhD",
        "outputId": "d7e144d3-f635-4a2c-91c8-bbbc3f8abaf9"
      },
      "execution_count": 177,
      "outputs": [
        {
          "output_type": "execute_result",
          "data": {
            "text/plain": [
              "torch.Size([16, 16])"
            ]
          },
          "metadata": {},
          "execution_count": 177
        }
      ]
    },
    {
      "cell_type": "markdown",
      "source": [],
      "metadata": {
        "id": "OWpb1vBdH-Ne"
      }
    },
    {
      "cell_type": "code",
      "source": [
        "peso1"
      ],
      "metadata": {
        "colab": {
          "base_uri": "https://localhost:8080/"
        },
        "id": "ORq8bPcgCppg",
        "outputId": "b0b548fe-cafa-4b9d-ab17-ee48fe5ec69c"
      },
      "execution_count": 178,
      "outputs": [
        {
          "output_type": "execute_result",
          "data": {
            "text/plain": [
              "Parameter containing:\n",
              "tensor([[ 8.2452e-05,  2.5720e-05, -2.5763e-38,  1.5113e-05, -1.4517e-05,\n",
              "          9.9268e-06,  1.0411e-38,  2.5033e-38, -2.8992e-04, -4.0952e-38,\n",
              "         -2.8814e-03,  6.1688e-12,  3.8066e-06,  1.1529e-04, -4.2777e-38,\n",
              "         -6.5831e-38],\n",
              "        [-4.2871e-04, -1.6652e-04,  6.5382e-39, -9.4697e-06, -1.4754e-04,\n",
              "         -6.1904e-05, -1.9488e-38, -4.0053e-38, -2.0024e-04,  3.5496e-40,\n",
              "         -3.7905e-04, -3.5723e-38, -3.0880e-06, -4.2761e-05, -4.9245e-38,\n",
              "         -4.5456e-38],\n",
              "        [ 1.6315e-01,  3.7002e-02,  1.0047e-03,  2.0303e-01,  2.3572e-01,\n",
              "         -5.5200e-02, -1.3985e-06, -6.1745e-38,  2.4555e-01, -4.0342e-40,\n",
              "         -4.5881e-02,  6.5167e-02,  2.6713e-01,  1.2032e-01,  6.8100e-06,\n",
              "          9.4952e-19],\n",
              "        [-3.7619e-03, -1.2118e-02, -9.0388e-09, -2.0750e-01,  6.4826e-02,\n",
              "         -1.3620e-02,  2.8740e-40, -1.4564e-38,  1.8799e-01,  2.6496e-39,\n",
              "         -2.2367e-01,  1.1921e-01,  1.0821e-01,  9.5684e-02, -2.2910e-38,\n",
              "         -1.1820e-38],\n",
              "        [-8.4265e-05,  1.3359e-04, -4.5087e-38, -2.5188e-04,  7.0594e-05,\n",
              "          9.1166e-05,  3.1216e-38,  3.0203e-38, -3.4676e-04,  6.6480e-38,\n",
              "          1.3155e-04, -1.1791e-04, -2.7434e-04, -1.5502e-04, -4.7817e-38,\n",
              "         -6.6880e-38],\n",
              "        [-1.5835e-05, -5.1979e-06,  6.5534e-38, -2.8815e-08, -2.3275e-07,\n",
              "         -2.0965e-07, -1.1874e-38, -3.0710e-38, -2.7017e-07,  1.1510e-38,\n",
              "         -2.3349e-05, -9.4885e-22, -7.4888e-10, -2.2031e-09,  4.2468e-39,\n",
              "         -3.1593e-38],\n",
              "        [-1.5825e-01, -2.7790e-02,  1.0332e-03, -3.3792e-02,  1.0123e-01,\n",
              "          1.4068e-01, -5.9246e-05,  3.1698e-38, -1.3405e-01, -1.1835e-38,\n",
              "          5.7453e-02,  4.8287e-02,  2.5983e-01,  2.6110e-01,  8.4963e-05,\n",
              "          5.0948e-11],\n",
              "        [ 1.1968e-01, -1.6563e-02,  4.9659e-03, -1.2325e-01, -1.7824e-01,\n",
              "          1.4613e-01,  3.0115e-38, -3.6663e-38, -5.6524e-02,  5.3433e-38,\n",
              "          1.1685e-01,  8.9213e-02, -4.8353e-02, -2.7261e-01, -1.5071e-07,\n",
              "         -1.8515e-38],\n",
              "        [-7.9430e-02,  1.7285e-01, -1.0868e-03, -7.5813e-02,  2.5543e-01,\n",
              "          1.6121e-01,  1.5216e-05,  6.6232e-38, -6.9231e-02, -5.7769e-39,\n",
              "          1.2962e-01,  6.3649e-02, -9.7855e-02,  1.7336e-01, -3.4626e-05,\n",
              "         -8.0925e-14],\n",
              "        [ 1.9161e-01,  7.2404e-02, -1.0598e-38,  3.2801e-02, -4.1070e-02,\n",
              "          9.2311e-02,  6.0060e-38, -4.5974e-38, -9.0036e-02,  3.7468e-38,\n",
              "         -1.8576e-01, -5.4295e-02, -8.6174e-02, -6.8950e-02,  2.3853e-38,\n",
              "          5.8835e-38],\n",
              "        [ 1.4520e-01, -9.5466e-02, -1.5257e-03, -2.4895e-01, -9.1561e-02,\n",
              "         -3.8965e-02, -2.4501e-38,  2.5593e-38, -9.5206e-03, -4.6984e-38,\n",
              "          1.7636e-01, -9.1322e-02,  1.7279e-01,  1.2317e-01, -1.2735e-33,\n",
              "          1.1966e-38],\n",
              "        [ 1.4954e-01,  3.7737e-03, -1.0278e-03,  1.2427e-01,  3.0024e-02,\n",
              "          2.2970e-01,  1.0584e-04, -6.8142e-38, -2.4645e-01, -2.1750e-39,\n",
              "         -2.0706e-02,  1.9948e-01, -1.2376e-01, -1.6422e-01, -1.2130e-04,\n",
              "         -5.3291e-10],\n",
              "        [-4.0027e-19, -4.2553e-26,  4.3750e-38,  2.2759e-38, -4.5163e-33,\n",
              "         -3.6090e-34,  3.1223e-38,  7.0257e-39, -3.9720e-28,  5.1399e-38,\n",
              "         -1.9653e-19,  2.0338e-38,  2.4685e-38,  2.2178e-38,  1.3585e-38,\n",
              "         -5.0373e-38],\n",
              "        [-8.5663e-06,  9.7648e-06,  2.9538e-38, -4.2511e-08, -1.3223e-08,\n",
              "         -3.4294e-07, -3.1160e-38, -1.2061e-38, -8.1231e-08,  2.7129e-38,\n",
              "         -7.4783e-06, -1.0633e-21, -1.1071e-10, -1.8032e-09, -4.4813e-38,\n",
              "          4.5171e-39],\n",
              "        [ 2.0530e-02,  2.3000e-01, -1.0125e-03, -4.4697e-02, -8.1505e-02,\n",
              "         -3.5369e-02,  1.1473e-04, -2.9417e-38, -1.7368e-01, -7.8208e-39,\n",
              "          2.1099e-01,  7.2364e-02, -1.1177e-01, -2.5837e-01, -1.3261e-04,\n",
              "         -9.8348e-10],\n",
              "        [-3.2744e-04, -1.5833e-04,  1.0031e-38, -3.4977e-05, -6.4308e-05,\n",
              "         -7.4159e-05,  1.5726e-38, -3.7257e-38, -1.1320e-04, -1.1042e-38,\n",
              "         -3.1288e-04, -5.3035e-09, -3.4219e-06, -1.8389e-05, -2.3123e-38,\n",
              "          2.7591e-38]], requires_grad=True)"
            ]
          },
          "metadata": {},
          "execution_count": 178
        }
      ]
    },
    {
      "cell_type": "code",
      "source": [
        "bias1 = pesosFinaisDoModelo[3]\n",
        "bias1.shape"
      ],
      "metadata": {
        "colab": {
          "base_uri": "https://localhost:8080/"
        },
        "id": "jpvDbpFRCr48",
        "outputId": "caa2299e-d73b-4b25-8552-7b8cae0f6c0e"
      },
      "execution_count": 183,
      "outputs": [
        {
          "output_type": "execute_result",
          "data": {
            "text/plain": [
              "torch.Size([16])"
            ]
          },
          "metadata": {},
          "execution_count": 183
        }
      ]
    },
    {
      "cell_type": "code",
      "source": [
        "bias1"
      ],
      "metadata": {
        "colab": {
          "base_uri": "https://localhost:8080/"
        },
        "id": "ba9mnp1ADg60",
        "outputId": "829c638b-db27-429f-d7d3-7edeccba1688"
      },
      "execution_count": 185,
      "outputs": [
        {
          "output_type": "execute_result",
          "data": {
            "text/plain": [
              "Parameter containing:\n",
              "tensor([ 3.3092e-39,  3.8342e-39, -4.4097e-01, -3.7766e-05,  5.1806e-18,\n",
              "         1.1124e-38, -6.1868e-02,  4.0367e-01,  2.8964e-02,  1.0751e-02,\n",
              "         1.8857e-02,  4.8009e-02, -8.6798e-39, -1.1328e-38,  4.1100e-01,\n",
              "         9.2007e-39], requires_grad=True)"
            ]
          },
          "metadata": {},
          "execution_count": 185
        }
      ]
    },
    {
      "cell_type": "code",
      "source": [
        "#pesos da camada de saida\n",
        "peso2 = pesosFinaisDoModelo[4]\n",
        "peso2.shape"
      ],
      "metadata": {
        "colab": {
          "base_uri": "https://localhost:8080/"
        },
        "id": "G3f_q6ADD1XU",
        "outputId": "d562f0f8-5d6e-4ed7-8791-84ef16b8ed6a"
      },
      "execution_count": 186,
      "outputs": [
        {
          "output_type": "execute_result",
          "data": {
            "text/plain": [
              "torch.Size([1, 16])"
            ]
          },
          "metadata": {},
          "execution_count": 186
        }
      ]
    },
    {
      "cell_type": "markdown",
      "source": [],
      "metadata": {
        "id": "TPq7W4oOFlSo"
      }
    },
    {
      "cell_type": "code",
      "source": [
        "peso2"
      ],
      "metadata": {
        "colab": {
          "base_uri": "https://localhost:8080/"
        },
        "id": "nIKhKsHpECbF",
        "outputId": "a07a1290-7543-46ae-b2c8-2e281e0442ec"
      },
      "execution_count": 187,
      "outputs": [
        {
          "output_type": "execute_result",
          "data": {
            "text/plain": [
              "Parameter containing:\n",
              "tensor([[-1.4917e-06, -2.4296e-03, -1.0757e-01,  1.1372e-01, -5.7938e-05,\n",
              "         -2.6615e-38, -2.0735e-01,  2.8242e-01,  1.5743e-01,  1.1819e-01,\n",
              "          1.0253e-02,  2.4759e-01,  5.0758e-06, -1.8115e-38,  2.7710e-01,\n",
              "          1.5471e-03]], requires_grad=True)"
            ]
          },
          "metadata": {},
          "execution_count": 187
        }
      ]
    },
    {
      "cell_type": "code",
      "source": [
        "#bias do neuronio da camda de saida\n",
        "bias2 = pesosFinaisDoModelo[5]\n",
        "bias2.shape"
      ],
      "metadata": {
        "colab": {
          "base_uri": "https://localhost:8080/"
        },
        "id": "QOYoajGvFET_",
        "outputId": "8da3910c-556f-4ded-9831-412bedf659a6"
      },
      "execution_count": 191,
      "outputs": [
        {
          "output_type": "execute_result",
          "data": {
            "text/plain": [
              "torch.Size([1])"
            ]
          },
          "metadata": {},
          "execution_count": 191
        }
      ]
    },
    {
      "cell_type": "code",
      "source": [
        "bias2"
      ],
      "metadata": {
        "colab": {
          "base_uri": "https://localhost:8080/"
        },
        "id": "KVqFBy6KFZt-",
        "outputId": "196bd4ed-47c4-4a2f-f2e7-ad265a9ba80e"
      },
      "execution_count": 193,
      "outputs": [
        {
          "output_type": "execute_result",
          "data": {
            "text/plain": [
              "Parameter containing:\n",
              "tensor([0.3368], requires_grad=True)"
            ]
          },
          "metadata": {},
          "execution_count": 193
        }
      ]
    },
    {
      "cell_type": "markdown",
      "source": [
        "Agora que ja temos os pesos, pois nossa rede ja foi treinada podemos iniciar o teste com nosso modelo criado.\n",
        "Vale ressaltar que o objetivo de uma rede neural é encontrar o valor dos pesos.\n",
        "Para que nossa rede pare de treinar precisamos chamar o metodo classificador.eval(),\n",
        "desta forma mudamos para o modo de avaliação, e as operações matematicas deixam de ser monitoradas para determinação do gradiente e as camadas de dropout são desligadas"
      ],
      "metadata": {
        "id": "921UwX4yFmd9"
      }
    },
    {
      "cell_type": "code",
      "source": [
        "classificador.eval()"
      ],
      "metadata": {
        "colab": {
          "base_uri": "https://localhost:8080/"
        },
        "id": "D7VO7nn2Hvbw",
        "outputId": "d91c36fb-155a-4b56-bd56-6a5e5dbde658"
      },
      "execution_count": 196,
      "outputs": [
        {
          "output_type": "execute_result",
          "data": {
            "text/plain": [
              "Sequential(\n",
              "  (0): Linear(in_features=30, out_features=16, bias=True)\n",
              "  (1): ReLU()\n",
              "  (2): Linear(in_features=16, out_features=16, bias=True)\n",
              "  (3): ReLU()\n",
              "  (4): Linear(in_features=16, out_features=1, bias=True)\n",
              "  (5): Sigmoid()\n",
              ")"
            ]
          },
          "metadata": {},
          "execution_count": 196
        }
      ]
    },
    {
      "cell_type": "code",
      "source": [
        "tensorPreditoresTeste = torch.tensor(dfPreditoresTeste.to_numpy(), dtype=torch.float)"
      ],
      "metadata": {
        "id": "SSosp1rkFbm1"
      },
      "execution_count": 194,
      "outputs": []
    },
    {
      "cell_type": "code",
      "source": [
        "previsoes = classificador.forward(tensorPreditoresTeste)"
      ],
      "metadata": {
        "id": "VchSiWMmHg75"
      },
      "execution_count": 197,
      "outputs": []
    },
    {
      "cell_type": "code",
      "source": [
        "previsoes"
      ],
      "metadata": {
        "colab": {
          "base_uri": "https://localhost:8080/"
        },
        "id": "AC6RJCFbHqH-",
        "outputId": "d5f01243-b96c-40e7-fb41-8b721d23aff8"
      },
      "execution_count": 199,
      "outputs": [
        {
          "output_type": "execute_result",
          "data": {
            "text/plain": [
              "tensor([[9.8511e-01],\n",
              "        [9.9241e-01],\n",
              "        [4.6727e-02],\n",
              "        [9.7753e-01],\n",
              "        [4.6418e-05],\n",
              "        [7.6470e-01],\n",
              "        [9.6930e-01],\n",
              "        [8.3149e-01],\n",
              "        [6.3773e-01],\n",
              "        [9.4671e-01],\n",
              "        [9.9560e-01],\n",
              "        [1.8786e-04],\n",
              "        [1.3314e-01],\n",
              "        [9.8728e-01],\n",
              "        [8.9108e-01],\n",
              "        [6.9083e-01],\n",
              "        [9.8436e-01],\n",
              "        [9.8959e-01],\n",
              "        [9.9217e-01],\n",
              "        [9.4708e-01],\n",
              "        [3.6233e-07],\n",
              "        [3.9573e-03],\n",
              "        [8.5568e-01],\n",
              "        [9.6357e-01],\n",
              "        [8.7130e-01],\n",
              "        [5.2197e-03],\n",
              "        [6.3756e-03],\n",
              "        [9.9352e-01],\n",
              "        [6.7446e-04],\n",
              "        [9.9577e-01],\n",
              "        [2.9587e-01],\n",
              "        [9.9809e-01],\n",
              "        [9.8918e-01],\n",
              "        [9.0529e-01],\n",
              "        [2.1387e-02],\n",
              "        [9.9191e-01],\n",
              "        [6.2642e-01],\n",
              "        [9.8332e-01],\n",
              "        [9.6982e-01],\n",
              "        [3.1810e-04],\n",
              "        [2.9598e-02],\n",
              "        [9.2532e-01],\n",
              "        [1.4948e-02],\n",
              "        [6.2232e-01],\n",
              "        [4.0173e-04],\n",
              "        [7.6830e-01],\n",
              "        [7.8985e-05],\n",
              "        [1.9094e-10],\n",
              "        [8.6989e-01],\n",
              "        [7.4269e-03],\n",
              "        [2.5613e-01],\n",
              "        [2.1134e-09],\n",
              "        [8.2525e-01],\n",
              "        [9.3090e-01],\n",
              "        [9.9039e-01],\n",
              "        [6.9176e-01],\n",
              "        [9.6968e-01],\n",
              "        [7.9251e-08],\n",
              "        [8.1793e-07],\n",
              "        [9.4557e-01],\n",
              "        [3.1285e-02],\n",
              "        [9.9396e-01],\n",
              "        [9.3286e-01],\n",
              "        [9.9812e-01],\n",
              "        [9.4947e-01],\n",
              "        [5.1862e-08],\n",
              "        [9.7982e-01],\n",
              "        [9.9083e-01],\n",
              "        [9.8319e-01],\n",
              "        [7.8054e-01],\n",
              "        [9.9815e-01],\n",
              "        [9.9498e-01],\n",
              "        [1.8780e-01],\n",
              "        [9.2266e-01],\n",
              "        [5.2027e-04],\n",
              "        [9.9364e-01],\n",
              "        [9.0345e-01],\n",
              "        [4.4219e-08],\n",
              "        [1.2346e-03],\n",
              "        [4.6406e-03],\n",
              "        [9.1295e-01],\n",
              "        [1.4339e-03],\n",
              "        [6.4953e-06],\n",
              "        [9.8169e-01],\n",
              "        [9.9064e-01],\n",
              "        [9.8774e-01],\n",
              "        [7.5886e-02],\n",
              "        [9.8997e-01],\n",
              "        [2.4268e-03],\n",
              "        [9.8180e-01],\n",
              "        [2.5783e-02],\n",
              "        [9.8421e-01],\n",
              "        [9.8897e-01],\n",
              "        [9.9691e-05],\n",
              "        [9.9453e-01],\n",
              "        [9.9085e-01],\n",
              "        [8.6142e-01],\n",
              "        [9.4859e-01],\n",
              "        [9.8339e-01],\n",
              "        [9.8638e-01],\n",
              "        [9.8005e-01],\n",
              "        [9.9766e-01],\n",
              "        [9.7027e-01],\n",
              "        [9.8971e-01],\n",
              "        [8.9615e-01],\n",
              "        [9.9664e-01],\n",
              "        [9.9641e-01],\n",
              "        [9.9404e-01],\n",
              "        [9.9713e-01],\n",
              "        [9.9542e-01],\n",
              "        [9.9839e-01],\n",
              "        [9.9054e-01],\n",
              "        [9.5373e-01],\n",
              "        [2.4847e-05],\n",
              "        [5.9432e-01],\n",
              "        [5.2297e-05],\n",
              "        [9.9411e-01],\n",
              "        [3.6142e-04],\n",
              "        [9.9712e-01],\n",
              "        [9.6742e-01],\n",
              "        [8.9701e-01],\n",
              "        [9.8715e-01],\n",
              "        [9.8661e-01],\n",
              "        [9.9199e-01],\n",
              "        [1.4914e-05],\n",
              "        [9.8243e-01],\n",
              "        [1.7024e-02],\n",
              "        [4.3246e-01],\n",
              "        [9.0972e-01],\n",
              "        [8.7117e-01],\n",
              "        [8.4235e-06],\n",
              "        [9.9672e-01],\n",
              "        [9.7986e-01],\n",
              "        [1.0671e-02],\n",
              "        [3.0874e-02],\n",
              "        [9.9489e-01],\n",
              "        [9.8630e-01],\n",
              "        [9.7214e-01],\n",
              "        [5.6443e-02],\n",
              "        [1.7128e-04],\n",
              "        [2.3493e-05],\n",
              "        [9.5044e-01],\n",
              "        [2.2134e-09]], grad_fn=<SigmoidBackward0>)"
            ]
          },
          "metadata": {},
          "execution_count": 199
        }
      ]
    },
    {
      "cell_type": "code",
      "source": [
        "len(previsoes)"
      ],
      "metadata": {
        "colab": {
          "base_uri": "https://localhost:8080/"
        },
        "id": "TWag-WJoIp0m",
        "outputId": "04dcc773-f89a-4ab7-89ac-9564b2188f60"
      },
      "execution_count": 200,
      "outputs": [
        {
          "output_type": "execute_result",
          "data": {
            "text/plain": [
              "143"
            ]
          },
          "metadata": {},
          "execution_count": 200
        }
      ]
    },
    {
      "cell_type": "markdown",
      "source": [
        "Criando um limiar para a func de ativação da camada de saida com sigmoide que representa a probabilidade.\n",
        "Ex.: o meu limiar é 0.5, significa que todas as previsoes maior que 50%, ou seja maior que 50% de chance de estar com cancer de mama"
      ],
      "metadata": {
        "id": "itZ4ab0zI1jv"
      }
    },
    {
      "cell_type": "code",
      "source": [
        "previsoesCalculada = np.array(previsoes > 0.5)"
      ],
      "metadata": {
        "id": "PbGqgfDJIsiM"
      },
      "execution_count": 203,
      "outputs": []
    },
    {
      "cell_type": "code",
      "source": [
        "previsoesCalculada"
      ],
      "metadata": {
        "colab": {
          "base_uri": "https://localhost:8080/"
        },
        "id": "-1Hj62BeJa36",
        "outputId": "67a5cac5-d165-41ac-e0cc-767f5b106b2f"
      },
      "execution_count": 204,
      "outputs": [
        {
          "output_type": "execute_result",
          "data": {
            "text/plain": [
              "array([[ True],\n",
              "       [ True],\n",
              "       [False],\n",
              "       [ True],\n",
              "       [False],\n",
              "       [ True],\n",
              "       [ True],\n",
              "       [ True],\n",
              "       [ True],\n",
              "       [ True],\n",
              "       [ True],\n",
              "       [False],\n",
              "       [False],\n",
              "       [ True],\n",
              "       [ True],\n",
              "       [ True],\n",
              "       [ True],\n",
              "       [ True],\n",
              "       [ True],\n",
              "       [ True],\n",
              "       [False],\n",
              "       [False],\n",
              "       [ True],\n",
              "       [ True],\n",
              "       [ True],\n",
              "       [False],\n",
              "       [False],\n",
              "       [ True],\n",
              "       [False],\n",
              "       [ True],\n",
              "       [False],\n",
              "       [ True],\n",
              "       [ True],\n",
              "       [ True],\n",
              "       [False],\n",
              "       [ True],\n",
              "       [ True],\n",
              "       [ True],\n",
              "       [ True],\n",
              "       [False],\n",
              "       [False],\n",
              "       [ True],\n",
              "       [False],\n",
              "       [ True],\n",
              "       [False],\n",
              "       [ True],\n",
              "       [False],\n",
              "       [False],\n",
              "       [ True],\n",
              "       [False],\n",
              "       [False],\n",
              "       [False],\n",
              "       [ True],\n",
              "       [ True],\n",
              "       [ True],\n",
              "       [ True],\n",
              "       [ True],\n",
              "       [False],\n",
              "       [False],\n",
              "       [ True],\n",
              "       [False],\n",
              "       [ True],\n",
              "       [ True],\n",
              "       [ True],\n",
              "       [ True],\n",
              "       [False],\n",
              "       [ True],\n",
              "       [ True],\n",
              "       [ True],\n",
              "       [ True],\n",
              "       [ True],\n",
              "       [ True],\n",
              "       [False],\n",
              "       [ True],\n",
              "       [False],\n",
              "       [ True],\n",
              "       [ True],\n",
              "       [False],\n",
              "       [False],\n",
              "       [False],\n",
              "       [ True],\n",
              "       [False],\n",
              "       [False],\n",
              "       [ True],\n",
              "       [ True],\n",
              "       [ True],\n",
              "       [False],\n",
              "       [ True],\n",
              "       [False],\n",
              "       [ True],\n",
              "       [False],\n",
              "       [ True],\n",
              "       [ True],\n",
              "       [False],\n",
              "       [ True],\n",
              "       [ True],\n",
              "       [ True],\n",
              "       [ True],\n",
              "       [ True],\n",
              "       [ True],\n",
              "       [ True],\n",
              "       [ True],\n",
              "       [ True],\n",
              "       [ True],\n",
              "       [ True],\n",
              "       [ True],\n",
              "       [ True],\n",
              "       [ True],\n",
              "       [ True],\n",
              "       [ True],\n",
              "       [ True],\n",
              "       [ True],\n",
              "       [ True],\n",
              "       [False],\n",
              "       [ True],\n",
              "       [False],\n",
              "       [ True],\n",
              "       [False],\n",
              "       [ True],\n",
              "       [ True],\n",
              "       [ True],\n",
              "       [ True],\n",
              "       [ True],\n",
              "       [ True],\n",
              "       [False],\n",
              "       [ True],\n",
              "       [False],\n",
              "       [False],\n",
              "       [ True],\n",
              "       [ True],\n",
              "       [False],\n",
              "       [ True],\n",
              "       [ True],\n",
              "       [False],\n",
              "       [False],\n",
              "       [ True],\n",
              "       [ True],\n",
              "       [ True],\n",
              "       [False],\n",
              "       [False],\n",
              "       [False],\n",
              "       [ True],\n",
              "       [False]])"
            ]
          },
          "metadata": {},
          "execution_count": 204
        }
      ]
    },
    {
      "cell_type": "code",
      "source": [
        "dfAlvoTeste"
      ],
      "metadata": {
        "colab": {
          "base_uri": "https://localhost:8080/",
          "height": 424
        },
        "id": "a7GoAwPiKf_w",
        "outputId": "43a1f6c8-88ef-46ad-d1fe-beb336019d93"
      },
      "execution_count": 206,
      "outputs": [
        {
          "output_type": "execute_result",
          "data": {
            "text/plain": [
              "     0\n",
              "333  1\n",
              "273  1\n",
              "201  0\n",
              "178  1\n",
              "85   0\n",
              "..  ..\n",
              "230  0\n",
              "282  0\n",
              "535  0\n",
              "436  1\n",
              "236  0\n",
              "\n",
              "[143 rows x 1 columns]"
            ],
            "text/html": [
              "\n",
              "\n",
              "  <div id=\"df-35017569-0654-49f6-9f25-ebd5e2636328\">\n",
              "    <div class=\"colab-df-container\">\n",
              "      <div>\n",
              "<style scoped>\n",
              "    .dataframe tbody tr th:only-of-type {\n",
              "        vertical-align: middle;\n",
              "    }\n",
              "\n",
              "    .dataframe tbody tr th {\n",
              "        vertical-align: top;\n",
              "    }\n",
              "\n",
              "    .dataframe thead th {\n",
              "        text-align: right;\n",
              "    }\n",
              "</style>\n",
              "<table border=\"1\" class=\"dataframe\">\n",
              "  <thead>\n",
              "    <tr style=\"text-align: right;\">\n",
              "      <th></th>\n",
              "      <th>0</th>\n",
              "    </tr>\n",
              "  </thead>\n",
              "  <tbody>\n",
              "    <tr>\n",
              "      <th>333</th>\n",
              "      <td>1</td>\n",
              "    </tr>\n",
              "    <tr>\n",
              "      <th>273</th>\n",
              "      <td>1</td>\n",
              "    </tr>\n",
              "    <tr>\n",
              "      <th>201</th>\n",
              "      <td>0</td>\n",
              "    </tr>\n",
              "    <tr>\n",
              "      <th>178</th>\n",
              "      <td>1</td>\n",
              "    </tr>\n",
              "    <tr>\n",
              "      <th>85</th>\n",
              "      <td>0</td>\n",
              "    </tr>\n",
              "    <tr>\n",
              "      <th>...</th>\n",
              "      <td>...</td>\n",
              "    </tr>\n",
              "    <tr>\n",
              "      <th>230</th>\n",
              "      <td>0</td>\n",
              "    </tr>\n",
              "    <tr>\n",
              "      <th>282</th>\n",
              "      <td>0</td>\n",
              "    </tr>\n",
              "    <tr>\n",
              "      <th>535</th>\n",
              "      <td>0</td>\n",
              "    </tr>\n",
              "    <tr>\n",
              "      <th>436</th>\n",
              "      <td>1</td>\n",
              "    </tr>\n",
              "    <tr>\n",
              "      <th>236</th>\n",
              "      <td>0</td>\n",
              "    </tr>\n",
              "  </tbody>\n",
              "</table>\n",
              "<p>143 rows × 1 columns</p>\n",
              "</div>\n",
              "      <button class=\"colab-df-convert\" onclick=\"convertToInteractive('df-35017569-0654-49f6-9f25-ebd5e2636328')\"\n",
              "              title=\"Convert this dataframe to an interactive table.\"\n",
              "              style=\"display:none;\">\n",
              "\n",
              "  <svg xmlns=\"http://www.w3.org/2000/svg\" height=\"24px\"viewBox=\"0 0 24 24\"\n",
              "       width=\"24px\">\n",
              "    <path d=\"M0 0h24v24H0V0z\" fill=\"none\"/>\n",
              "    <path d=\"M18.56 5.44l.94 2.06.94-2.06 2.06-.94-2.06-.94-.94-2.06-.94 2.06-2.06.94zm-11 1L8.5 8.5l.94-2.06 2.06-.94-2.06-.94L8.5 2.5l-.94 2.06-2.06.94zm10 10l.94 2.06.94-2.06 2.06-.94-2.06-.94-.94-2.06-.94 2.06-2.06.94z\"/><path d=\"M17.41 7.96l-1.37-1.37c-.4-.4-.92-.59-1.43-.59-.52 0-1.04.2-1.43.59L10.3 9.45l-7.72 7.72c-.78.78-.78 2.05 0 2.83L4 21.41c.39.39.9.59 1.41.59.51 0 1.02-.2 1.41-.59l7.78-7.78 2.81-2.81c.8-.78.8-2.07 0-2.86zM5.41 20L4 18.59l7.72-7.72 1.47 1.35L5.41 20z\"/>\n",
              "  </svg>\n",
              "      </button>\n",
              "\n",
              "\n",
              "\n",
              "    <div id=\"df-5e90a742-98dd-4ffd-826f-6c5d1e5283a4\">\n",
              "      <button class=\"colab-df-quickchart\" onclick=\"quickchart('df-5e90a742-98dd-4ffd-826f-6c5d1e5283a4')\"\n",
              "              title=\"Suggest charts.\"\n",
              "              style=\"display:none;\">\n",
              "\n",
              "<svg xmlns=\"http://www.w3.org/2000/svg\" height=\"24px\"viewBox=\"0 0 24 24\"\n",
              "     width=\"24px\">\n",
              "    <g>\n",
              "        <path d=\"M19 3H5c-1.1 0-2 .9-2 2v14c0 1.1.9 2 2 2h14c1.1 0 2-.9 2-2V5c0-1.1-.9-2-2-2zM9 17H7v-7h2v7zm4 0h-2V7h2v10zm4 0h-2v-4h2v4z\"/>\n",
              "    </g>\n",
              "</svg>\n",
              "      </button>\n",
              "    </div>\n",
              "\n",
              "<style>\n",
              "  .colab-df-quickchart {\n",
              "    background-color: #E8F0FE;\n",
              "    border: none;\n",
              "    border-radius: 50%;\n",
              "    cursor: pointer;\n",
              "    display: none;\n",
              "    fill: #1967D2;\n",
              "    height: 32px;\n",
              "    padding: 0 0 0 0;\n",
              "    width: 32px;\n",
              "  }\n",
              "\n",
              "  .colab-df-quickchart:hover {\n",
              "    background-color: #E2EBFA;\n",
              "    box-shadow: 0px 1px 2px rgba(60, 64, 67, 0.3), 0px 1px 3px 1px rgba(60, 64, 67, 0.15);\n",
              "    fill: #174EA6;\n",
              "  }\n",
              "\n",
              "  [theme=dark] .colab-df-quickchart {\n",
              "    background-color: #3B4455;\n",
              "    fill: #D2E3FC;\n",
              "  }\n",
              "\n",
              "  [theme=dark] .colab-df-quickchart:hover {\n",
              "    background-color: #434B5C;\n",
              "    box-shadow: 0px 1px 3px 1px rgba(0, 0, 0, 0.15);\n",
              "    filter: drop-shadow(0px 1px 2px rgba(0, 0, 0, 0.3));\n",
              "    fill: #FFFFFF;\n",
              "  }\n",
              "</style>\n",
              "\n",
              "    <script>\n",
              "      async function quickchart(key) {\n",
              "        const containerElement = document.querySelector('#' + key);\n",
              "        const charts = await google.colab.kernel.invokeFunction(\n",
              "            'suggestCharts', [key], {});\n",
              "      }\n",
              "    </script>\n",
              "\n",
              "      <script>\n",
              "\n",
              "function displayQuickchartButton(domScope) {\n",
              "  let quickchartButtonEl =\n",
              "    domScope.querySelector('#df-5e90a742-98dd-4ffd-826f-6c5d1e5283a4 button.colab-df-quickchart');\n",
              "  quickchartButtonEl.style.display =\n",
              "    google.colab.kernel.accessAllowed ? 'block' : 'none';\n",
              "}\n",
              "\n",
              "        displayQuickchartButton(document);\n",
              "      </script>\n",
              "      <style>\n",
              "    .colab-df-container {\n",
              "      display:flex;\n",
              "      flex-wrap:wrap;\n",
              "      gap: 12px;\n",
              "    }\n",
              "\n",
              "    .colab-df-convert {\n",
              "      background-color: #E8F0FE;\n",
              "      border: none;\n",
              "      border-radius: 50%;\n",
              "      cursor: pointer;\n",
              "      display: none;\n",
              "      fill: #1967D2;\n",
              "      height: 32px;\n",
              "      padding: 0 0 0 0;\n",
              "      width: 32px;\n",
              "    }\n",
              "\n",
              "    .colab-df-convert:hover {\n",
              "      background-color: #E2EBFA;\n",
              "      box-shadow: 0px 1px 2px rgba(60, 64, 67, 0.3), 0px 1px 3px 1px rgba(60, 64, 67, 0.15);\n",
              "      fill: #174EA6;\n",
              "    }\n",
              "\n",
              "    [theme=dark] .colab-df-convert {\n",
              "      background-color: #3B4455;\n",
              "      fill: #D2E3FC;\n",
              "    }\n",
              "\n",
              "    [theme=dark] .colab-df-convert:hover {\n",
              "      background-color: #434B5C;\n",
              "      box-shadow: 0px 1px 3px 1px rgba(0, 0, 0, 0.15);\n",
              "      filter: drop-shadow(0px 1px 2px rgba(0, 0, 0, 0.3));\n",
              "      fill: #FFFFFF;\n",
              "    }\n",
              "  </style>\n",
              "\n",
              "      <script>\n",
              "        const buttonEl =\n",
              "          document.querySelector('#df-35017569-0654-49f6-9f25-ebd5e2636328 button.colab-df-convert');\n",
              "        buttonEl.style.display =\n",
              "          google.colab.kernel.accessAllowed ? 'block' : 'none';\n",
              "\n",
              "        async function convertToInteractive(key) {\n",
              "          const element = document.querySelector('#df-35017569-0654-49f6-9f25-ebd5e2636328');\n",
              "          const dataTable =\n",
              "            await google.colab.kernel.invokeFunction('convertToInteractive',\n",
              "                                                     [key], {});\n",
              "          if (!dataTable) return;\n",
              "\n",
              "          const docLinkHtml = 'Like what you see? Visit the ' +\n",
              "            '<a target=\"_blank\" href=https://colab.research.google.com/notebooks/data_table.ipynb>data table notebook</a>'\n",
              "            + ' to learn more about interactive tables.';\n",
              "          element.innerHTML = '';\n",
              "          dataTable['output_type'] = 'display_data';\n",
              "          await google.colab.output.renderOutput(dataTable, element);\n",
              "          const docLink = document.createElement('div');\n",
              "          docLink.innerHTML = docLinkHtml;\n",
              "          element.appendChild(docLink);\n",
              "        }\n",
              "      </script>\n",
              "    </div>\n",
              "  </div>\n"
            ]
          },
          "metadata": {},
          "execution_count": 206
        }
      ]
    },
    {
      "cell_type": "markdown",
      "source": [
        "AGora podemos avaliar nosso modelo pois"
      ],
      "metadata": {
        "id": "lMki0_60JhvJ"
      }
    },
    {
      "cell_type": "code",
      "source": [
        "from sklearn.metrics import accuracy_score,confusion_matrix"
      ],
      "metadata": {
        "id": "XzzqcM_sJtNs"
      },
      "execution_count": 209,
      "outputs": []
    },
    {
      "cell_type": "code",
      "source": [
        "taxaAcerto = accuracy_score(dfAlvoTeste,previsoesCalculada)"
      ],
      "metadata": {
        "id": "dqH6hvFgJyB4"
      },
      "execution_count": 207,
      "outputs": []
    },
    {
      "cell_type": "code",
      "source": [
        "taxaAcerto"
      ],
      "metadata": {
        "colab": {
          "base_uri": "https://localhost:8080/"
        },
        "id": "mFAxgD56JcyY",
        "outputId": "3d08f776-7f37-4956-9d85-ee4678c84e1c"
      },
      "execution_count": 210,
      "outputs": [
        {
          "output_type": "execute_result",
          "data": {
            "text/plain": [
              "0.958041958041958"
            ]
          },
          "metadata": {},
          "execution_count": 210
        }
      ]
    },
    {
      "cell_type": "code",
      "source": [
        "matriz = confusion_matrix(dfAlvoTeste,previsoesCalculada)\n",
        "matriz\n"
      ],
      "metadata": {
        "colab": {
          "base_uri": "https://localhost:8080/"
        },
        "id": "J72zNJJfLDIZ",
        "outputId": "dc2e6e41-29bf-4575-8afc-d1288b657a1c"
      },
      "execution_count": 213,
      "outputs": [
        {
          "output_type": "execute_result",
          "data": {
            "text/plain": [
              "array([[48,  6],\n",
              "       [ 0, 89]])"
            ]
          },
          "metadata": {},
          "execution_count": 213
        }
      ]
    },
    {
      "cell_type": "markdown",
      "source": [
        "classificou 48 como verdadeiro positivos quando eram 48 positivos e 6 positivos quando na verdade eram falso\n",
        "classificou 89 como falso positivo quando na verdade eram 89"
      ],
      "metadata": {
        "id": "wDlTCCFHLmp9"
      }
    },
    {
      "cell_type": "code",
      "source": [
        "sns.heatmap(matriz,annot=True)"
      ],
      "metadata": {
        "colab": {
          "base_uri": "https://localhost:8080/",
          "height": 447
        },
        "id": "jUpZuTbiLe7t",
        "outputId": "aa37ba58-4c79-44f5-c6fa-1fb0e56ebd8a"
      },
      "execution_count": 216,
      "outputs": [
        {
          "output_type": "execute_result",
          "data": {
            "text/plain": [
              "<Axes: >"
            ]
          },
          "metadata": {},
          "execution_count": 216
        },
        {
          "output_type": "display_data",
          "data": {
            "text/plain": [
              "<Figure size 640x480 with 2 Axes>"
            ],
            "image/png": "[encoded data removed]"
          },
          "metadata": {}
        }
      ]
    },
    {
      "cell_type": "code",
      "source": [],
      "metadata": {
        "id": "rNDHRE0bMNUo"
      },
      "execution_count": null,
      "outputs": []
    }
  ]
}