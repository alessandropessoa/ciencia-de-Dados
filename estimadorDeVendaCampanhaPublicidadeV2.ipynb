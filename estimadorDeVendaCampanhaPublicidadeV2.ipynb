{
 "cells": [
  {
   "cell_type": "markdown",
   "id": "a21ee371",
   "metadata": {},
   "source": [
    "# Regressor para estimação de vendas de Tv de acordo com investimento em publicidade\n"
   ]
  },
  {
   "cell_type": "code",
   "execution_count": 5,
   "id": "86154696",
   "metadata": {},
   "outputs": [
    {
     "name": "stderr",
     "output_type": "stream",
     "text": [
      "Matplotlib is building the font cache; this may take a moment.\n"
     ]
    }
   ],
   "source": [
    "from matplotlib import pyplot as plt\n",
    "from scipy import stats"
   ]
  },
  {
   "cell_type": "code",
   "execution_count": 10,
   "id": "52a0a81e",
   "metadata": {},
   "outputs": [],
   "source": [
    "import pandas as pd"
   ]
  },
  {
   "cell_type": "code",
   "execution_count": 25,
   "id": "64340475",
   "metadata": {},
   "outputs": [],
   "source": [
    "from sklearn import preprocessing as prep"
   ]
  },
  {
   "cell_type": "code",
   "execution_count": 23,
   "id": "bee2eb25",
   "metadata": {},
   "outputs": [],
   "source": [
    "dataset = pd.read_csv('investimento_vendas_produto.csv',sep=';')"
   ]
  },
  {
   "cell_type": "code",
   "execution_count": 39,
   "id": "5282acd1",
   "metadata": {},
   "outputs": [
    {
     "data": {
      "text/html": [
       "<div>\n",
       "<style scoped>\n",
       "    .dataframe tbody tr th:only-of-type {\n",
       "        vertical-align: middle;\n",
       "    }\n",
       "\n",
       "    .dataframe tbody tr th {\n",
       "        vertical-align: top;\n",
       "    }\n",
       "\n",
       "    .dataframe thead th {\n",
       "        text-align: right;\n",
       "    }\n",
       "</style>\n",
       "<table border=\"1\" class=\"dataframe\">\n",
       "  <thead>\n",
       "    <tr style=\"text-align: right;\">\n",
       "      <th></th>\n",
       "      <th>Investimento</th>\n",
       "      <th>vendas_do_produto</th>\n",
       "    </tr>\n",
       "  </thead>\n",
       "  <tbody>\n",
       "    <tr>\n",
       "      <th>0</th>\n",
       "      <td>1000</td>\n",
       "      <td>550</td>\n",
       "    </tr>\n",
       "    <tr>\n",
       "      <th>1</th>\n",
       "      <td>1200</td>\n",
       "      <td>650</td>\n",
       "    </tr>\n",
       "    <tr>\n",
       "      <th>2</th>\n",
       "      <td>1350</td>\n",
       "      <td>600</td>\n",
       "    </tr>\n",
       "    <tr>\n",
       "      <th>3</th>\n",
       "      <td>1700</td>\n",
       "      <td>900</td>\n",
       "    </tr>\n",
       "    <tr>\n",
       "      <th>4</th>\n",
       "      <td>1900</td>\n",
       "      <td>800</td>\n",
       "    </tr>\n",
       "  </tbody>\n",
       "</table>\n",
       "</div>"
      ],
      "text/plain": [
       "   Investimento  vendas_do_produto\n",
       "0          1000                550\n",
       "1          1200                650\n",
       "2          1350                600\n",
       "3          1700                900\n",
       "4          1900                800"
      ]
     },
     "execution_count": 39,
     "metadata": {},
     "output_type": "execute_result"
    }
   ],
   "source": [
    "dataset.head()"
   ]
  },
  {
   "cell_type": "code",
   "execution_count": 132,
   "id": "bafa2056",
   "metadata": {},
   "outputs": [
    {
     "data": {
      "text/html": [
       "<div>\n",
       "<style scoped>\n",
       "    .dataframe tbody tr th:only-of-type {\n",
       "        vertical-align: middle;\n",
       "    }\n",
       "\n",
       "    .dataframe tbody tr th {\n",
       "        vertical-align: top;\n",
       "    }\n",
       "\n",
       "    .dataframe thead th {\n",
       "        text-align: right;\n",
       "    }\n",
       "</style>\n",
       "<table border=\"1\" class=\"dataframe\">\n",
       "  <thead>\n",
       "    <tr style=\"text-align: right;\">\n",
       "      <th></th>\n",
       "      <th>Investimento</th>\n",
       "      <th>vendas_do_produto</th>\n",
       "    </tr>\n",
       "  </thead>\n",
       "  <tbody>\n",
       "    <tr>\n",
       "      <th>count</th>\n",
       "      <td>65.000000</td>\n",
       "      <td>65.000000</td>\n",
       "    </tr>\n",
       "    <tr>\n",
       "      <th>mean</th>\n",
       "      <td>10082.307692</td>\n",
       "      <td>4215.169231</td>\n",
       "    </tr>\n",
       "    <tr>\n",
       "      <th>std</th>\n",
       "      <td>5560.213229</td>\n",
       "      <td>2287.937155</td>\n",
       "    </tr>\n",
       "    <tr>\n",
       "      <th>min</th>\n",
       "      <td>1000.000000</td>\n",
       "      <td>550.000000</td>\n",
       "    </tr>\n",
       "    <tr>\n",
       "      <th>25%</th>\n",
       "      <td>5300.000000</td>\n",
       "      <td>2350.000000</td>\n",
       "    </tr>\n",
       "    <tr>\n",
       "      <th>50%</th>\n",
       "      <td>10000.000000</td>\n",
       "      <td>3855.000000</td>\n",
       "    </tr>\n",
       "    <tr>\n",
       "      <th>75%</th>\n",
       "      <td>14800.000000</td>\n",
       "      <td>6300.000000</td>\n",
       "    </tr>\n",
       "    <tr>\n",
       "      <th>max</th>\n",
       "      <td>19600.000000</td>\n",
       "      <td>8165.000000</td>\n",
       "    </tr>\n",
       "  </tbody>\n",
       "</table>\n",
       "</div>"
      ],
      "text/plain": [
       "       Investimento  vendas_do_produto\n",
       "count     65.000000          65.000000\n",
       "mean   10082.307692        4215.169231\n",
       "std     5560.213229        2287.937155\n",
       "min     1000.000000         550.000000\n",
       "25%     5300.000000        2350.000000\n",
       "50%    10000.000000        3855.000000\n",
       "75%    14800.000000        6300.000000\n",
       "max    19600.000000        8165.000000"
      ]
     },
     "execution_count": 132,
     "metadata": {},
     "output_type": "execute_result"
    }
   ],
   "source": [
    "dataset.describe()"
   ]
  },
  {
   "cell_type": "code",
   "execution_count": 135,
   "id": "1fc1b3af",
   "metadata": {},
   "outputs": [
    {
     "data": {
      "text/plain": [
       "Investimento         0\n",
       "vendas_do_produto    0\n",
       "dtype: int64"
      ]
     },
     "execution_count": 135,
     "metadata": {},
     "output_type": "execute_result"
    }
   ],
   "source": [
    "dataset.isnull().sum()"
   ]
  },
  {
   "cell_type": "code",
   "execution_count": 136,
   "id": "38810c84",
   "metadata": {},
   "outputs": [],
   "source": [
    "invetimentoPublicidade, tvsVendidas = dataset.iloc[:,0],dataset.iloc[:,1]"
   ]
  },
  {
   "cell_type": "code",
   "execution_count": 138,
   "id": "7d8ebbc1",
   "metadata": {},
   "outputs": [],
   "source": [
    "import numpy as np\n",
    "\n",
    "a = np.array(invetimentoPublicidade)"
   ]
  },
  {
   "cell_type": "code",
   "execution_count": 140,
   "id": "268f2a35",
   "metadata": {},
   "outputs": [
    {
     "data": {
      "text/plain": [
       "array([ 1000,  1200,  1350,  1700,  1900,  2200,  2500,  2800,  3100,\n",
       "        3500,  3800,  4000,  4300,  4500,  4800,  5000,  5300,  5500,\n",
       "        5800,  6100,  6400,  6700,  7000,  7300,  7600,  7900,  8200,\n",
       "        8500,  8800,  9100,  9400,  9700, 10000, 10300, 10600, 10900,\n",
       "       11200, 11500, 11800, 12100, 12400, 12700, 13000, 13300, 13600,\n",
       "       13900, 14200, 14500, 14800, 15100, 15400, 15700, 16000, 16300,\n",
       "       16600, 16900, 17200, 17500, 17800, 18100, 18400, 18700, 19000,\n",
       "       19300, 19600])"
      ]
     },
     "execution_count": 140,
     "metadata": {},
     "output_type": "execute_result"
    }
   ],
   "source": [
    "a\n"
   ]
  },
  {
   "cell_type": "code",
   "execution_count": 157,
   "id": "7ecd6ea3",
   "metadata": {},
   "outputs": [
    {
     "data": {
      "text/plain": [
       "array([[ 1000,  1200,  1350,  1700],\n",
       "       [ 1900,  2200,  2500,  2800],\n",
       "       [ 3100,  3500,  3800,  4000],\n",
       "       [ 4300,  4500,  4800,  5000],\n",
       "       [ 5300,  5500,  5800,  6100],\n",
       "       [ 6400,  6700,  7000,  7300],\n",
       "       [ 7600,  7900,  8200,  8500],\n",
       "       [ 8800,  9100,  9400,  9700],\n",
       "       [10000, 10300, 10600, 10900],\n",
       "       [11200, 11500, 11800, 12100],\n",
       "       [12400, 12700, 13000, 13300],\n",
       "       [13600, 13900, 14200, 14500],\n",
       "       [14800, 15100, 15400, 15700],\n",
       "       [16000, 16300, 16600, 16900],\n",
       "       [17200, 17500, 17800, 18100],\n",
       "       [18400, 18700, 19000, 19300]])"
      ]
     },
     "execution_count": 157,
     "metadata": {},
     "output_type": "execute_result"
    }
   ],
   "source": [
    "a[:-1].reshape(-1,4)"
   ]
  },
  {
   "cell_type": "code",
   "execution_count": 63,
   "id": "4804c399",
   "metadata": {},
   "outputs": [
    {
     "data": {
      "image/png": "[encoded data removed]",
      "text/plain": [
       "<Figure size 640x480 with 1 Axes>"
      ]
     },
     "metadata": {},
     "output_type": "display_data"
    }
   ],
   "source": [
    "plt.plot(invetimentoPublicidade, tvsVendidas)\n",
    "plt.xlabel(\"INVESTIMENTO EM PUBLICIDADE\")\n",
    "plt.ylabel(\"VENDAS DE TV's\")\n",
    "plt.grid()"
   ]
  },
  {
   "cell_type": "code",
   "execution_count": 64,
   "id": "a0559a06",
   "metadata": {},
   "outputs": [],
   "source": [
    "corr = stats.pearsonr(invetimentoPublicidade, tvsVendidas)"
   ]
  },
  {
   "cell_type": "code",
   "execution_count": 50,
   "id": "fde5eadb",
   "metadata": {},
   "outputs": [
    {
     "data": {
      "text/plain": [
       "PearsonRResult(statistic=0.980051684922513, pvalue=6.329649177568891e-46)"
      ]
     },
     "execution_count": 50,
     "metadata": {},
     "output_type": "execute_result"
    }
   ],
   "source": [
    "corr"
   ]
  },
  {
   "cell_type": "code",
   "execution_count": 71,
   "id": "91ab5952",
   "metadata": {},
   "outputs": [],
   "source": [
    "coeficienteAngular, intercepto, r,p_valor, std_err = stats.linregress(invetimentoPublicidade, tvsVendidas)\n",
    " "
   ]
  },
  {
   "cell_type": "code",
   "execution_count": 123,
   "id": "73548420",
   "metadata": {},
   "outputs": [
    {
     "name": "stdout",
     "output_type": "stream",
     "text": [
      " Coeficiente de Angular(inclinação Slope): 0.40327530097867637 \n",
      " Coefiente Linear ou Intercepto: 149.2235615942227\n",
      " Correlação Pearson: 0.9800516849225134\n",
      " P-valor:6.329649177565552e-46 \n",
      " Erro da Inclinação (gradiente): 0.010303238251617807\n"
     ]
    }
   ],
   "source": [
    "print(f' Coeficiente de Angular(inclinação Slope): {coeficienteAngular} \\n \\\n",
    "Coefiente Linear ou Intercepto: {intercepto}\\n \\\n",
    "Correlação Pearson: {r}\\n \\\n",
    "P-valor:{p_valor} \\n \\\n",
    "Erro da Inclinação (gradiente): {std_err}')"
   ]
  },
  {
   "cell_type": "code",
   "execution_count": 96,
   "id": "a8d7ee02",
   "metadata": {},
   "outputs": [],
   "source": [
    "def estimador(valor):\n",
    "    global coeficienteAngular, intercepto\n",
    "    estimativa = coeficienteAngular*valor+intercepto\n",
    "    return estimativa\n",
    "    "
   ]
  },
  {
   "cell_type": "code",
   "execution_count": 159,
   "id": "2fdef8e9",
   "metadata": {},
   "outputs": [
    {
     "data": {
      "text/plain": [
       "11497.390531134175"
      ]
     },
     "execution_count": 159,
     "metadata": {},
     "output_type": "execute_result"
    }
   ],
   "source": [
    "estimador(28140)"
   ]
  },
  {
   "cell_type": "code",
   "execution_count": 99,
   "id": "43171887",
   "metadata": {},
   "outputs": [],
   "source": [
    "valoresEstimados = list(map(estimador,invetimentoPublicidade))"
   ]
  },
  {
   "cell_type": "code",
   "execution_count": 186,
   "id": "a361c55b",
   "metadata": {},
   "outputs": [
    {
     "data": {
      "image/png": "[encoded data removed]",
      "text/plain": [
       "<Figure size 640x480 with 1 Axes>"
      ]
     },
     "metadata": {},
     "output_type": "display_data"
    }
   ],
   "source": [
    "ax =plt.axes()\n",
    "ax.set_facecolor('#555')\n",
    "plt.plot(invetimentoPublicidade, tvsVendidas,'o',label='Dados Coletados')     #plota valores reais\n",
    "plt.plot(invetimentoPublicidade,valoresEstimados,color='r',label=\"Estimação do Modelo Regressor\") #plotar curva estimada\n",
    "plt.legend()\n",
    "plt.xlabel(\"INVESTIMENTO EM PUBLICIDADE\")\n",
    "plt.ylabel(\"VENDAS DE TV's\")\n",
    "plt.grid()\n",
    "\n"
   ]
  },
  {
   "cell_type": "code",
   "execution_count": 174,
   "id": "dfd91886",
   "metadata": {},
   "outputs": [],
   "source": [
    "from sklearn.metrics import r2_score, mean_squared_error, mean_absolute_error\n"
   ]
  },
  {
   "cell_type": "code",
   "execution_count": 173,
   "id": "b9107f13",
   "metadata": {},
   "outputs": [
    {
     "data": {
      "text/plain": [
       "0.9605013051194576"
      ]
     },
     "execution_count": 173,
     "metadata": {},
     "output_type": "execute_result"
    }
   ],
   "source": [
    "r2_score(tvsVendidas,valoresEstimados) #Coeficiente de determinação (R²) varia de 0 a 1, e indica o quanto da variabilidade dos dados foi explicada pelo modelo, que nesse3 cao foi 96%"
   ]
  },
  {
   "cell_type": "code",
   "execution_count": 175,
   "id": "3bed8c7c",
   "metadata": {},
   "outputs": [
    {
     "name": "stdout",
     "output_type": "stream",
     "text": [
      "MAE: 269.25\n"
     ]
    }
   ],
   "source": [
    "print('MAE: %.2f' % mean_absolute_error(tvsVendidas,valoresEstimados))"
   ]
  },
  {
   "cell_type": "code",
   "execution_count": 176,
   "id": "071ed6f9",
   "metadata": {},
   "outputs": [
    {
     "name": "stdout",
     "output_type": "stream",
     "text": [
      "MSE - Erro medio quadrado: 203581.14\n"
     ]
    }
   ],
   "source": [
    "print('MSE - Erro medio quadrado: %.2f' % mean_squared_error(tvsVendidas,valoresEstimados))"
   ]
  },
  {
   "cell_type": "code",
   "execution_count": 179,
   "id": "a30d61cf",
   "metadata": {},
   "outputs": [
    {
     "name": "stdout",
     "output_type": "stream",
     "text": [
      "RMSE - Raiz do Erro medio quadrado: 451.20\n"
     ]
    }
   ],
   "source": [
    "rmse = (mean_squared_error(tvsVendidas,valoresEstimados))**(0.5)\n",
    "print('RMSE - Raiz do Erro medio quadrado: %.2f' %(rmse))"
   ]
  },
  {
   "cell_type": "code",
   "execution_count": null,
   "id": "c6b79591",
   "metadata": {},
   "outputs": [],
   "source": []
  }
 ],
 "metadata": {
  "kernelspec": {
   "display_name": "Python 3 (ipykernel)",
   "language": "python",
   "name": "python3"
  },
  "language_info": {
   "codemirror_mode": {
    "name": "ipython",
    "version": 3
   },
   "file_extension": ".py",
   "mimetype": "text/x-python",
   "name": "python",
   "nbconvert_exporter": "python",
   "pygments_lexer": "ipython3",
   "version": "3.10.9"
  }
 },
 "nbformat": 4,
 "nbformat_minor": 5
}
