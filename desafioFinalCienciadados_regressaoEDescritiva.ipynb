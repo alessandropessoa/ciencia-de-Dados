{
 "cells": [
  {
   "cell_type": "code",
   "execution_count": 1,
   "id": "34d86006-5c0d-420c-9507-4853d2c5da76",
   "metadata": {
    "tags": []
   },
   "outputs": [],
   "source": [
    "from matplotlib import pyplot as plt\n",
    "import pandas as pd\n",
    "from sklearn.metrics import mean_squared_error, r2_score\n",
    "from typing import List,Any\n",
    "import numpy as np\n",
    "from sklearn import linear_model,model_selection, metrics\n"
   ]
  },
  {
   "cell_type": "code",
   "execution_count": 2,
   "id": "d94421fe-1f4a-480b-ae1e-75f52a0abcc4",
   "metadata": {
    "tags": []
   },
   "outputs": [],
   "source": [
    "dsPacientes = pd.read_csv('dados_pacientes.csv',sep=';',encoding='latin')"
   ]
  },
  {
   "cell_type": "code",
   "execution_count": 3,
   "id": "ecab7639-243a-42a3-a8fa-379a276015c1",
   "metadata": {
    "tags": []
   },
   "outputs": [],
   "source": [
    "dsEstados = pd.read_csv('estados_brasileiros.csv',sep=';',encoding='latin')"
   ]
  },
  {
   "cell_type": "code",
   "execution_count": 4,
   "id": "274e5254-ded4-4c01-a80d-57009999f1df",
   "metadata": {
    "tags": []
   },
   "outputs": [],
   "source": [
    "dsMedicos = pd.read_excel('dados_medicos.xlsx')"
   ]
  },
  {
   "cell_type": "code",
   "execution_count": 5,
   "id": "17316898-5251-4c73-aba1-954d428a9164",
   "metadata": {
    "tags": []
   },
   "outputs": [
    {
     "data": {
      "text/html": [
       "<div>\n",
       "<style scoped>\n",
       "    .dataframe tbody tr th:only-of-type {\n",
       "        vertical-align: middle;\n",
       "    }\n",
       "\n",
       "    .dataframe tbody tr th {\n",
       "        vertical-align: top;\n",
       "    }\n",
       "\n",
       "    .dataframe thead th {\n",
       "        text-align: right;\n",
       "    }\n",
       "</style>\n",
       "<table border=\"1\" class=\"dataframe\">\n",
       "  <thead>\n",
       "    <tr style=\"text-align: right;\">\n",
       "      <th></th>\n",
       "      <th>id_cliente</th>\n",
       "      <th>id_estado</th>\n",
       "      <th>idade</th>\n",
       "      <th>genero</th>\n",
       "      <th>estado Civil</th>\n",
       "      <th>renda</th>\n",
       "      <th>nivel_educacao</th>\n",
       "    </tr>\n",
       "  </thead>\n",
       "  <tbody>\n",
       "    <tr>\n",
       "      <th>0</th>\n",
       "      <td>1</td>\n",
       "      <td>21</td>\n",
       "      <td>24</td>\n",
       "      <td>Feminino</td>\n",
       "      <td>Divorciado</td>\n",
       "      <td>8672.21</td>\n",
       "      <td>Superior</td>\n",
       "    </tr>\n",
       "    <tr>\n",
       "      <th>1</th>\n",
       "      <td>2</td>\n",
       "      <td>14</td>\n",
       "      <td>60</td>\n",
       "      <td>Feminino</td>\n",
       "      <td>Casado</td>\n",
       "      <td>2946.06</td>\n",
       "      <td>Superior</td>\n",
       "    </tr>\n",
       "    <tr>\n",
       "      <th>2</th>\n",
       "      <td>3</td>\n",
       "      <td>26</td>\n",
       "      <td>23</td>\n",
       "      <td>Feminino</td>\n",
       "      <td>Solteiro</td>\n",
       "      <td>5872.48</td>\n",
       "      <td>Médio</td>\n",
       "    </tr>\n",
       "    <tr>\n",
       "      <th>3</th>\n",
       "      <td>4</td>\n",
       "      <td>18</td>\n",
       "      <td>51</td>\n",
       "      <td>Masculino</td>\n",
       "      <td>Casado</td>\n",
       "      <td>7871.49</td>\n",
       "      <td>Superior</td>\n",
       "    </tr>\n",
       "    <tr>\n",
       "      <th>4</th>\n",
       "      <td>5</td>\n",
       "      <td>4</td>\n",
       "      <td>51</td>\n",
       "      <td>Outro</td>\n",
       "      <td>Viúvo</td>\n",
       "      <td>6033.31</td>\n",
       "      <td>Superior</td>\n",
       "    </tr>\n",
       "  </tbody>\n",
       "</table>\n",
       "</div>"
      ],
      "text/plain": [
       "   id_cliente  id_estado  idade     genero estado Civil    renda  \\\n",
       "0           1         21     24   Feminino   Divorciado  8672.21   \n",
       "1           2         14     60   Feminino       Casado  2946.06   \n",
       "2           3         26     23   Feminino     Solteiro  5872.48   \n",
       "3           4         18     51  Masculino       Casado  7871.49   \n",
       "4           5          4     51      Outro        Viúvo  6033.31   \n",
       "\n",
       "  nivel_educacao  \n",
       "0       Superior  \n",
       "1       Superior  \n",
       "2          Médio  \n",
       "3       Superior  \n",
       "4       Superior  "
      ]
     },
     "execution_count": 5,
     "metadata": {},
     "output_type": "execute_result"
    }
   ],
   "source": [
    "dsPacientes.head()"
   ]
  },
  {
   "cell_type": "code",
   "execution_count": 6,
   "id": "641ea0be-2ffd-4391-85dd-74e401681596",
   "metadata": {
    "tags": []
   },
   "outputs": [
    {
     "data": {
      "text/html": [
       "<div>\n",
       "<style scoped>\n",
       "    .dataframe tbody tr th:only-of-type {\n",
       "        vertical-align: middle;\n",
       "    }\n",
       "\n",
       "    .dataframe tbody tr th {\n",
       "        vertical-align: top;\n",
       "    }\n",
       "\n",
       "    .dataframe thead th {\n",
       "        text-align: right;\n",
       "    }\n",
       "</style>\n",
       "<table border=\"1\" class=\"dataframe\">\n",
       "  <thead>\n",
       "    <tr style=\"text-align: right;\">\n",
       "      <th></th>\n",
       "      <th>id_estado</th>\n",
       "      <th>estado</th>\n",
       "      <th>sigla_estado</th>\n",
       "      <th>pais</th>\n",
       "    </tr>\n",
       "  </thead>\n",
       "  <tbody>\n",
       "    <tr>\n",
       "      <th>0</th>\n",
       "      <td>1</td>\n",
       "      <td>Acre</td>\n",
       "      <td>AC</td>\n",
       "      <td>Brasil</td>\n",
       "    </tr>\n",
       "    <tr>\n",
       "      <th>1</th>\n",
       "      <td>2</td>\n",
       "      <td>Alagoas</td>\n",
       "      <td>AL</td>\n",
       "      <td>Brasil</td>\n",
       "    </tr>\n",
       "    <tr>\n",
       "      <th>2</th>\n",
       "      <td>3</td>\n",
       "      <td>Amapá</td>\n",
       "      <td>AP</td>\n",
       "      <td>Brasil</td>\n",
       "    </tr>\n",
       "    <tr>\n",
       "      <th>3</th>\n",
       "      <td>4</td>\n",
       "      <td>Amazonas</td>\n",
       "      <td>AM</td>\n",
       "      <td>Brasil</td>\n",
       "    </tr>\n",
       "    <tr>\n",
       "      <th>4</th>\n",
       "      <td>5</td>\n",
       "      <td>Bahia</td>\n",
       "      <td>BA</td>\n",
       "      <td>Brasil</td>\n",
       "    </tr>\n",
       "  </tbody>\n",
       "</table>\n",
       "</div>"
      ],
      "text/plain": [
       "   id_estado    estado sigla_estado    pais\n",
       "0          1      Acre           AC  Brasil\n",
       "1          2   Alagoas           AL  Brasil\n",
       "2          3     Amapá           AP  Brasil\n",
       "3          4  Amazonas           AM  Brasil\n",
       "4          5     Bahia           BA  Brasil"
      ]
     },
     "execution_count": 6,
     "metadata": {},
     "output_type": "execute_result"
    }
   ],
   "source": [
    "dsEstados.head()"
   ]
  },
  {
   "cell_type": "code",
   "execution_count": 7,
   "id": "ad7c354b-5c6a-4490-b7b0-d5fdf4cee02c",
   "metadata": {
    "tags": []
   },
   "outputs": [
    {
     "data": {
      "text/html": [
       "<div>\n",
       "<style scoped>\n",
       "    .dataframe tbody tr th:only-of-type {\n",
       "        vertical-align: middle;\n",
       "    }\n",
       "\n",
       "    .dataframe tbody tr th {\n",
       "        vertical-align: top;\n",
       "    }\n",
       "\n",
       "    .dataframe thead th {\n",
       "        text-align: right;\n",
       "    }\n",
       "</style>\n",
       "<table border=\"1\" class=\"dataframe\">\n",
       "  <thead>\n",
       "    <tr style=\"text-align: right;\">\n",
       "      <th></th>\n",
       "      <th>id_cliente</th>\n",
       "      <th>peso</th>\n",
       "      <th>colesterol</th>\n",
       "    </tr>\n",
       "  </thead>\n",
       "  <tbody>\n",
       "    <tr>\n",
       "      <th>0</th>\n",
       "      <td>1</td>\n",
       "      <td>102.0</td>\n",
       "      <td>111</td>\n",
       "    </tr>\n",
       "    <tr>\n",
       "      <th>1</th>\n",
       "      <td>2</td>\n",
       "      <td>115.0</td>\n",
       "      <td>135</td>\n",
       "    </tr>\n",
       "    <tr>\n",
       "      <th>2</th>\n",
       "      <td>3</td>\n",
       "      <td>115.0</td>\n",
       "      <td>136</td>\n",
       "    </tr>\n",
       "    <tr>\n",
       "      <th>3</th>\n",
       "      <td>4</td>\n",
       "      <td>140.0</td>\n",
       "      <td>167</td>\n",
       "    </tr>\n",
       "    <tr>\n",
       "      <th>4</th>\n",
       "      <td>5</td>\n",
       "      <td>130.0</td>\n",
       "      <td>158</td>\n",
       "    </tr>\n",
       "  </tbody>\n",
       "</table>\n",
       "</div>"
      ],
      "text/plain": [
       "   id_cliente   peso  colesterol\n",
       "0           1  102.0         111\n",
       "1           2  115.0         135\n",
       "2           3  115.0         136\n",
       "3           4  140.0         167\n",
       "4           5  130.0         158"
      ]
     },
     "execution_count": 7,
     "metadata": {},
     "output_type": "execute_result"
    }
   ],
   "source": [
    "dsMedicos.head()"
   ]
  },
  {
   "cell_type": "code",
   "execution_count": 8,
   "id": "a2c44f5f-22ee-4952-9f0e-8de11dac2a79",
   "metadata": {
    "tags": []
   },
   "outputs": [],
   "source": [
    "\n",
    "dsGeral = dsPacientes.join(dsEstados.set_index('id_estado'),on='id_estado')"
   ]
  },
  {
   "cell_type": "code",
   "execution_count": 9,
   "id": "75766976-442e-451d-9bce-a6a1e3ede389",
   "metadata": {
    "tags": []
   },
   "outputs": [
    {
     "data": {
      "text/html": [
       "<div>\n",
       "<style scoped>\n",
       "    .dataframe tbody tr th:only-of-type {\n",
       "        vertical-align: middle;\n",
       "    }\n",
       "\n",
       "    .dataframe tbody tr th {\n",
       "        vertical-align: top;\n",
       "    }\n",
       "\n",
       "    .dataframe thead th {\n",
       "        text-align: right;\n",
       "    }\n",
       "</style>\n",
       "<table border=\"1\" class=\"dataframe\">\n",
       "  <thead>\n",
       "    <tr style=\"text-align: right;\">\n",
       "      <th></th>\n",
       "      <th>id_cliente</th>\n",
       "      <th>id_estado</th>\n",
       "      <th>idade</th>\n",
       "      <th>genero</th>\n",
       "      <th>estado Civil</th>\n",
       "      <th>renda</th>\n",
       "      <th>nivel_educacao</th>\n",
       "      <th>estado</th>\n",
       "      <th>sigla_estado</th>\n",
       "      <th>pais</th>\n",
       "    </tr>\n",
       "  </thead>\n",
       "  <tbody>\n",
       "    <tr>\n",
       "      <th>0</th>\n",
       "      <td>1</td>\n",
       "      <td>21</td>\n",
       "      <td>24</td>\n",
       "      <td>Feminino</td>\n",
       "      <td>Divorciado</td>\n",
       "      <td>8672.21</td>\n",
       "      <td>Superior</td>\n",
       "      <td>Rio Grande do Sul</td>\n",
       "      <td>RS</td>\n",
       "      <td>Brasil</td>\n",
       "    </tr>\n",
       "    <tr>\n",
       "      <th>1</th>\n",
       "      <td>2</td>\n",
       "      <td>14</td>\n",
       "      <td>60</td>\n",
       "      <td>Feminino</td>\n",
       "      <td>Casado</td>\n",
       "      <td>2946.06</td>\n",
       "      <td>Superior</td>\n",
       "      <td>Pará</td>\n",
       "      <td>PA</td>\n",
       "      <td>Brasil</td>\n",
       "    </tr>\n",
       "    <tr>\n",
       "      <th>2</th>\n",
       "      <td>3</td>\n",
       "      <td>26</td>\n",
       "      <td>23</td>\n",
       "      <td>Feminino</td>\n",
       "      <td>Solteiro</td>\n",
       "      <td>5872.48</td>\n",
       "      <td>Médio</td>\n",
       "      <td>Sergipe</td>\n",
       "      <td>SE</td>\n",
       "      <td>Brasil</td>\n",
       "    </tr>\n",
       "    <tr>\n",
       "      <th>3</th>\n",
       "      <td>4</td>\n",
       "      <td>18</td>\n",
       "      <td>51</td>\n",
       "      <td>Masculino</td>\n",
       "      <td>Casado</td>\n",
       "      <td>7871.49</td>\n",
       "      <td>Superior</td>\n",
       "      <td>Piauí</td>\n",
       "      <td>PI</td>\n",
       "      <td>Brasil</td>\n",
       "    </tr>\n",
       "    <tr>\n",
       "      <th>4</th>\n",
       "      <td>5</td>\n",
       "      <td>4</td>\n",
       "      <td>51</td>\n",
       "      <td>Outro</td>\n",
       "      <td>Viúvo</td>\n",
       "      <td>6033.31</td>\n",
       "      <td>Superior</td>\n",
       "      <td>Amazonas</td>\n",
       "      <td>AM</td>\n",
       "      <td>Brasil</td>\n",
       "    </tr>\n",
       "  </tbody>\n",
       "</table>\n",
       "</div>"
      ],
      "text/plain": [
       "   id_cliente  id_estado  idade     genero estado Civil    renda  \\\n",
       "0           1         21     24   Feminino   Divorciado  8672.21   \n",
       "1           2         14     60   Feminino       Casado  2946.06   \n",
       "2           3         26     23   Feminino     Solteiro  5872.48   \n",
       "3           4         18     51  Masculino       Casado  7871.49   \n",
       "4           5          4     51      Outro        Viúvo  6033.31   \n",
       "\n",
       "  nivel_educacao             estado sigla_estado    pais  \n",
       "0       Superior  Rio Grande do Sul           RS  Brasil  \n",
       "1       Superior               Pará           PA  Brasil  \n",
       "2          Médio            Sergipe           SE  Brasil  \n",
       "3       Superior              Piauí           PI  Brasil  \n",
       "4       Superior           Amazonas           AM  Brasil  "
      ]
     },
     "execution_count": 9,
     "metadata": {},
     "output_type": "execute_result"
    }
   ],
   "source": [
    "dsGeral.head(5)"
   ]
  },
  {
   "cell_type": "code",
   "execution_count": 10,
   "id": "af91c598-79ee-4f0f-bf72-60b113e7bbe7",
   "metadata": {
    "tags": []
   },
   "outputs": [
    {
     "data": {
      "text/plain": [
       "27"
      ]
     },
     "execution_count": 10,
     "metadata": {},
     "output_type": "execute_result"
    }
   ],
   "source": [
    "dsGeral.estado.nunique()"
   ]
  },
  {
   "cell_type": "code",
   "execution_count": 11,
   "id": "c240fdf2-693f-4d58-b690-3593fc97fa9c",
   "metadata": {
    "tags": []
   },
   "outputs": [
    {
     "data": {
      "text/plain": [
       "43.0"
      ]
     },
     "execution_count": 11,
     "metadata": {},
     "output_type": "execute_result"
    }
   ],
   "source": [
    "#Qual é a idade média das pessoas que residem no estado de Minas Gerais?\n",
    "round(dsGeral[dsGeral['estado']=='Minas Gerais'].idade.median(),2)\n"
   ]
  },
  {
   "cell_type": "code",
   "execution_count": 12,
   "id": "dbc718d6-25f1-4579-96ba-2097390e308f",
   "metadata": {
    "tags": []
   },
   "outputs": [
    {
     "data": {
      "image/png": "[encoded data removed]",
      "text/plain": [
       "<Figure size 640x480 with 1 Axes>"
      ]
     },
     "metadata": {},
     "output_type": "display_data"
    }
   ],
   "source": [
    "dsGeral[dsGeral['estado']=='Minas Gerais'].boxplot(['renda'])\n",
    "plt.show()"
   ]
  },
  {
   "cell_type": "code",
   "execution_count": 13,
   "id": "f7000500-6b9a-4c78-bd92-f5e9efedc5ee",
   "metadata": {
    "tags": []
   },
   "outputs": [
    {
     "data": {
      "text/html": [
       "<div>\n",
       "<style scoped>\n",
       "    .dataframe tbody tr th:only-of-type {\n",
       "        vertical-align: middle;\n",
       "    }\n",
       "\n",
       "    .dataframe tbody tr th {\n",
       "        vertical-align: top;\n",
       "    }\n",
       "\n",
       "    .dataframe thead th {\n",
       "        text-align: right;\n",
       "    }\n",
       "</style>\n",
       "<table border=\"1\" class=\"dataframe\">\n",
       "  <thead>\n",
       "    <tr style=\"text-align: right;\">\n",
       "      <th></th>\n",
       "      <th>count</th>\n",
       "      <th>mean</th>\n",
       "      <th>std</th>\n",
       "      <th>min</th>\n",
       "      <th>25%</th>\n",
       "      <th>50%</th>\n",
       "      <th>75%</th>\n",
       "      <th>max</th>\n",
       "    </tr>\n",
       "    <tr>\n",
       "      <th>genero</th>\n",
       "      <th></th>\n",
       "      <th></th>\n",
       "      <th></th>\n",
       "      <th></th>\n",
       "      <th></th>\n",
       "      <th></th>\n",
       "      <th></th>\n",
       "      <th></th>\n",
       "    </tr>\n",
       "  </thead>\n",
       "  <tbody>\n",
       "    <tr>\n",
       "      <th>Feminino</th>\n",
       "      <td>17.0</td>\n",
       "      <td>4594.180588</td>\n",
       "      <td>2344.126811</td>\n",
       "      <td>1178.12</td>\n",
       "      <td>3337.8300</td>\n",
       "      <td>4206.370</td>\n",
       "      <td>6154.5700</td>\n",
       "      <td>8989.50</td>\n",
       "    </tr>\n",
       "    <tr>\n",
       "      <th>Masculino</th>\n",
       "      <td>12.0</td>\n",
       "      <td>5044.618333</td>\n",
       "      <td>2950.240942</td>\n",
       "      <td>1137.73</td>\n",
       "      <td>2519.6425</td>\n",
       "      <td>5638.705</td>\n",
       "      <td>6717.2400</td>\n",
       "      <td>9593.31</td>\n",
       "    </tr>\n",
       "    <tr>\n",
       "      <th>Outro</th>\n",
       "      <td>12.0</td>\n",
       "      <td>6499.575833</td>\n",
       "      <td>2671.797016</td>\n",
       "      <td>1736.27</td>\n",
       "      <td>4789.2525</td>\n",
       "      <td>6456.195</td>\n",
       "      <td>8910.2225</td>\n",
       "      <td>9881.47</td>\n",
       "    </tr>\n",
       "  </tbody>\n",
       "</table>\n",
       "</div>"
      ],
      "text/plain": [
       "           count         mean          std      min        25%       50%  \\\n",
       "genero                                                                     \n",
       "Feminino    17.0  4594.180588  2344.126811  1178.12  3337.8300  4206.370   \n",
       "Masculino   12.0  5044.618333  2950.240942  1137.73  2519.6425  5638.705   \n",
       "Outro       12.0  6499.575833  2671.797016  1736.27  4789.2525  6456.195   \n",
       "\n",
       "                 75%      max  \n",
       "genero                         \n",
       "Feminino   6154.5700  8989.50  \n",
       "Masculino  6717.2400  9593.31  \n",
       "Outro      8910.2225  9881.47  "
      ]
     },
     "execution_count": 13,
     "metadata": {},
     "output_type": "execute_result"
    }
   ],
   "source": [
    "dsGeral[dsGeral['estado']=='Minas Gerais'].groupby(by=\"genero\").agg('renda').describe()"
   ]
  },
  {
   "cell_type": "code",
   "execution_count": 14,
   "id": "38c0a017-3e94-44a5-bbb5-ee19df1dcd26",
   "metadata": {
    "tags": []
   },
   "outputs": [
    {
     "data": {
      "text/html": [
       "<div>\n",
       "<style scoped>\n",
       "    .dataframe tbody tr th:only-of-type {\n",
       "        vertical-align: middle;\n",
       "    }\n",
       "\n",
       "    .dataframe tbody tr th {\n",
       "        vertical-align: top;\n",
       "    }\n",
       "\n",
       "    .dataframe thead th {\n",
       "        text-align: right;\n",
       "    }\n",
       "</style>\n",
       "<table border=\"1\" class=\"dataframe\">\n",
       "  <thead>\n",
       "    <tr style=\"text-align: right;\">\n",
       "      <th></th>\n",
       "      <th>count</th>\n",
       "      <th>mean</th>\n",
       "      <th>std</th>\n",
       "      <th>min</th>\n",
       "      <th>25%</th>\n",
       "      <th>50%</th>\n",
       "      <th>75%</th>\n",
       "      <th>max</th>\n",
       "    </tr>\n",
       "    <tr>\n",
       "      <th>estado Civil</th>\n",
       "      <th></th>\n",
       "      <th></th>\n",
       "      <th></th>\n",
       "      <th></th>\n",
       "      <th></th>\n",
       "      <th></th>\n",
       "      <th></th>\n",
       "      <th></th>\n",
       "    </tr>\n",
       "  </thead>\n",
       "  <tbody>\n",
       "    <tr>\n",
       "      <th>Casado</th>\n",
       "      <td>90.0</td>\n",
       "      <td>41.977778</td>\n",
       "      <td>15.878031</td>\n",
       "      <td>18.0</td>\n",
       "      <td>25.25</td>\n",
       "      <td>45.5</td>\n",
       "      <td>55.00</td>\n",
       "      <td>65.0</td>\n",
       "    </tr>\n",
       "    <tr>\n",
       "      <th>Divorciado</th>\n",
       "      <td>88.0</td>\n",
       "      <td>42.704545</td>\n",
       "      <td>13.641687</td>\n",
       "      <td>18.0</td>\n",
       "      <td>30.75</td>\n",
       "      <td>44.5</td>\n",
       "      <td>54.25</td>\n",
       "      <td>65.0</td>\n",
       "    </tr>\n",
       "    <tr>\n",
       "      <th>Solteiro</th>\n",
       "      <td>87.0</td>\n",
       "      <td>42.689655</td>\n",
       "      <td>13.852470</td>\n",
       "      <td>18.0</td>\n",
       "      <td>32.00</td>\n",
       "      <td>44.0</td>\n",
       "      <td>54.00</td>\n",
       "      <td>65.0</td>\n",
       "    </tr>\n",
       "    <tr>\n",
       "      <th>Viúvo</th>\n",
       "      <td>98.0</td>\n",
       "      <td>43.622449</td>\n",
       "      <td>13.762728</td>\n",
       "      <td>19.0</td>\n",
       "      <td>34.00</td>\n",
       "      <td>43.0</td>\n",
       "      <td>56.00</td>\n",
       "      <td>65.0</td>\n",
       "    </tr>\n",
       "  </tbody>\n",
       "</table>\n",
       "</div>"
      ],
      "text/plain": [
       "              count       mean        std   min    25%   50%    75%   max\n",
       "estado Civil                                                             \n",
       "Casado         90.0  41.977778  15.878031  18.0  25.25  45.5  55.00  65.0\n",
       "Divorciado     88.0  42.704545  13.641687  18.0  30.75  44.5  54.25  65.0\n",
       "Solteiro       87.0  42.689655  13.852470  18.0  32.00  44.0  54.00  65.0\n",
       "Viúvo          98.0  43.622449  13.762728  19.0  34.00  43.0  56.00  65.0"
      ]
     },
     "execution_count": 14,
     "metadata": {},
     "output_type": "execute_result"
    }
   ],
   "source": [
    "#Crie um gráfico de caixa (boxplot) para representar as idades das pessoas que possuem \n",
    "#níveis de educação superior, categorizadas por seu estado civil. Em seguida, escolha o \n",
    "#gráfico que melhor representa essa distribuição.\n",
    "dsGeral[dsGeral['nivel_educacao']=='Superior'].groupby('estado Civil').agg('idade').describe()"
   ]
  },
  {
   "cell_type": "code",
   "execution_count": 15,
   "id": "c781f022-9bad-42da-aaa3-de743e0490dc",
   "metadata": {
    "tags": []
   },
   "outputs": [],
   "source": [
    "aux = dsGeral[dsGeral['nivel_educacao']=='Superior'].groupby('estado Civil').agg('idade')"
   ]
  },
  {
   "cell_type": "code",
   "execution_count": 16,
   "id": "fd6e5879-12ff-487a-a41e-165801aa04df",
   "metadata": {
    "tags": []
   },
   "outputs": [
    {
     "data": {
      "text/plain": [
       "estado Civil  idade\n",
       "Casado        21       5\n",
       "              24       5\n",
       "              52       5\n",
       "              62       5\n",
       "              19       4\n",
       "                      ..\n",
       "Viúvo         45       1\n",
       "              46       1\n",
       "              49       1\n",
       "              50       1\n",
       "              53       1\n",
       "Name: idade, Length: 164, dtype: int64"
      ]
     },
     "execution_count": 16,
     "metadata": {},
     "output_type": "execute_result"
    }
   ],
   "source": [
    "aux.value_counts()"
   ]
  },
  {
   "cell_type": "code",
   "execution_count": 17,
   "id": "654aee56-96c6-42dd-9f6f-2749b7805ab4",
   "metadata": {
    "tags": []
   },
   "outputs": [],
   "source": [
    "def segmentaEstCivil(estCivil:str,nivelEdu=str,ds=type[object])-> Any:\n",
    "    dsGeralSuperior = ds[ds['nivel_educacao']==nivelEdu]\n",
    "    dsGeralSuperiorCasado = dsGeralSuperior.where(dsGeralSuperior['estado Civil']==estCivil).dropna()\n",
    "    \n",
    "    return dsGeralSuperiorCasado"
   ]
  },
  {
   "cell_type": "code",
   "execution_count": 18,
   "id": "f7c579d4-147b-473b-9492-7002e45c10f2",
   "metadata": {
    "tags": []
   },
   "outputs": [
    {
     "data": {
      "text/plain": [
       "0      Divorciado\n",
       "1          Casado\n",
       "3          Casado\n",
       "4           Viúvo\n",
       "6           Viúvo\n",
       "          ...    \n",
       "981      Solteiro\n",
       "983      Solteiro\n",
       "984         Viúvo\n",
       "986         Viúvo\n",
       "988      Solteiro\n",
       "Name: estado Civil, Length: 363, dtype: object"
      ]
     },
     "execution_count": 18,
     "metadata": {},
     "output_type": "execute_result"
    }
   ],
   "source": [
    "dsGeral[dsGeral['nivel_educacao']=='Superior']['estado Civil']"
   ]
  },
  {
   "cell_type": "code",
   "execution_count": 19,
   "id": "42603e34-42de-4b09-92f7-6d84498a679a",
   "metadata": {
    "tags": []
   },
   "outputs": [
    {
     "data": {
      "image/png": "[encoded data removed]",
      "text/plain": [
       "<Figure size 640x480 with 1 Axes>"
      ]
     },
     "metadata": {},
     "output_type": "display_data"
    }
   ],
   "source": [
    "bpltCasado = segmentaEstCivil(estCivil='Casado',nivelEdu='Superior',ds=dsGeral)\n",
    "bpltDivoreciado = segmentaEstCivil(estCivil='Divorciado',nivelEdu='Superior',ds=dsGeral)\n",
    "bpltViuvo = segmentaEstCivil(estCivil='Viúvo',nivelEdu='Superior',ds=dsGeral)\n",
    "bpltSolteiro = segmentaEstCivil(estCivil='Solteiro',nivelEdu='Superior',ds=dsGeral)\n",
    "plt.boxplot([bpltSolteiro.idade,bpltCasado.idade, bpltViuvo.idade,bpltDivoreciado.idade], vert=False,labels=['Solteiro','Casado','Viúvo','Divorciado'])\n",
    "plt.xlabel('Idade')\n",
    "plt.ylabel('Estado Civil')\n",
    "plt.show()"
   ]
  },
  {
   "cell_type": "code",
   "execution_count": 20,
   "id": "c106ee81-94b0-46d9-8c0a-148835954f7a",
   "metadata": {
    "tags": []
   },
   "outputs": [
    {
     "data": {
      "text/plain": [
       "(18.0, 19.0, 18.0, 18.0)"
      ]
     },
     "execution_count": 20,
     "metadata": {},
     "output_type": "execute_result"
    }
   ],
   "source": [
    "bpltCasado.idade.min(), bpltViuvo.idade.min(),bpltDivoreciado.idade.min(),bpltSolteiro.idade.min()"
   ]
  },
  {
   "cell_type": "code",
   "execution_count": 21,
   "id": "07138fb1-0055-43fc-9f0f-0fa48ed96f89",
   "metadata": {
    "tags": []
   },
   "outputs": [
    {
     "data": {
      "text/plain": [
       "(45.5, 43.0, 44.5, 44.0)"
      ]
     },
     "execution_count": 21,
     "metadata": {},
     "output_type": "execute_result"
    }
   ],
   "source": [
    "bpltCasado.idade.median(), bpltViuvo.idade.median(),bpltDivoreciado.idade.median(),bpltSolteiro.idade.median()"
   ]
  },
  {
   "cell_type": "code",
   "execution_count": 22,
   "id": "1071a9f2-9779-41e4-9f49-6f79efba04fb",
   "metadata": {
    "tags": []
   },
   "outputs": [],
   "source": [
    "\n",
    "dsGeralMedicos = dsMedicos.join(dsGeral.set_index('id_cliente'),on='id_cliente')"
   ]
  },
  {
   "cell_type": "code",
   "execution_count": 23,
   "id": "c8a65af4-d20d-449c-988e-eca7517010cc",
   "metadata": {
    "tags": []
   },
   "outputs": [
    {
     "name": "stdout",
     "output_type": "stream",
     "text": [
      "<class 'pandas.core.frame.DataFrame'>\n",
      "RangeIndex: 547 entries, 0 to 546\n",
      "Data columns (total 12 columns):\n",
      " #   Column          Non-Null Count  Dtype  \n",
      "---  ------          --------------  -----  \n",
      " 0   id_cliente      547 non-null    int64  \n",
      " 1   peso            542 non-null    float64\n",
      " 2   colesterol      547 non-null    int64  \n",
      " 3   id_estado       547 non-null    int64  \n",
      " 4   idade           547 non-null    int64  \n",
      " 5   genero          547 non-null    object \n",
      " 6   estado Civil    547 non-null    object \n",
      " 7   renda           547 non-null    float64\n",
      " 8   nivel_educacao  547 non-null    object \n",
      " 9   estado          547 non-null    object \n",
      " 10  sigla_estado    547 non-null    object \n",
      " 11  pais            547 non-null    object \n",
      "dtypes: float64(2), int64(4), object(6)\n",
      "memory usage: 51.4+ KB\n"
     ]
    }
   ],
   "source": [
    "dsGeralMedicos.info()"
   ]
  },
  {
   "cell_type": "code",
   "execution_count": 24,
   "id": "98c128a6-2067-435d-bdf3-114f1a6343e7",
   "metadata": {
    "tags": []
   },
   "outputs": [
    {
     "data": {
      "text/plain": [
       "Superior       205\n",
       "Fundamental    179\n",
       "Médio          163\n",
       "Name: nivel_educacao, dtype: int64"
      ]
     },
     "execution_count": 24,
     "metadata": {},
     "output_type": "execute_result"
    }
   ],
   "source": [
    "dsGeralMedicos['nivel_educacao'].value_counts()"
   ]
  },
  {
   "cell_type": "code",
   "execution_count": 53,
   "id": "79789159-31f5-4207-8fef-a0bbad743092",
   "metadata": {
    "tags": []
   },
   "outputs": [
    {
     "data": {
      "text/html": [
       "<div>\n",
       "<style scoped>\n",
       "    .dataframe tbody tr th:only-of-type {\n",
       "        vertical-align: middle;\n",
       "    }\n",
       "\n",
       "    .dataframe tbody tr th {\n",
       "        vertical-align: top;\n",
       "    }\n",
       "\n",
       "    .dataframe thead th {\n",
       "        text-align: right;\n",
       "    }\n",
       "</style>\n",
       "<table border=\"1\" class=\"dataframe\">\n",
       "  <thead>\n",
       "    <tr style=\"text-align: right;\">\n",
       "      <th></th>\n",
       "      <th>count</th>\n",
       "      <th>mean</th>\n",
       "      <th>std</th>\n",
       "      <th>min</th>\n",
       "      <th>25%</th>\n",
       "      <th>50%</th>\n",
       "      <th>75%</th>\n",
       "      <th>max</th>\n",
       "    </tr>\n",
       "    <tr>\n",
       "      <th>nivel_educacao</th>\n",
       "      <th></th>\n",
       "      <th></th>\n",
       "      <th></th>\n",
       "      <th></th>\n",
       "      <th></th>\n",
       "      <th></th>\n",
       "      <th></th>\n",
       "      <th></th>\n",
       "    </tr>\n",
       "  </thead>\n",
       "  <tbody>\n",
       "    <tr>\n",
       "      <th>Fundamental</th>\n",
       "      <td>179.0</td>\n",
       "      <td>173.418994</td>\n",
       "      <td>37.652281</td>\n",
       "      <td>102.0</td>\n",
       "      <td>142.5</td>\n",
       "      <td>172.0</td>\n",
       "      <td>208.0</td>\n",
       "      <td>235.0</td>\n",
       "    </tr>\n",
       "    <tr>\n",
       "      <th>Médio</th>\n",
       "      <td>163.0</td>\n",
       "      <td>167.245399</td>\n",
       "      <td>40.243716</td>\n",
       "      <td>102.0</td>\n",
       "      <td>131.0</td>\n",
       "      <td>167.0</td>\n",
       "      <td>206.0</td>\n",
       "      <td>232.0</td>\n",
       "    </tr>\n",
       "    <tr>\n",
       "      <th>Superior</th>\n",
       "      <td>205.0</td>\n",
       "      <td>170.360976</td>\n",
       "      <td>39.530039</td>\n",
       "      <td>102.0</td>\n",
       "      <td>136.0</td>\n",
       "      <td>169.0</td>\n",
       "      <td>208.0</td>\n",
       "      <td>235.0</td>\n",
       "    </tr>\n",
       "  </tbody>\n",
       "</table>\n",
       "</div>"
      ],
      "text/plain": [
       "                count        mean        std    min    25%    50%    75%  \\\n",
       "nivel_educacao                                                             \n",
       "Fundamental     179.0  173.418994  37.652281  102.0  142.5  172.0  208.0   \n",
       "Médio           163.0  167.245399  40.243716  102.0  131.0  167.0  206.0   \n",
       "Superior        205.0  170.360976  39.530039  102.0  136.0  169.0  208.0   \n",
       "\n",
       "                  max  \n",
       "nivel_educacao         \n",
       "Fundamental     235.0  \n",
       "Médio           232.0  \n",
       "Superior        235.0  "
      ]
     },
     "execution_count": 53,
     "metadata": {},
     "output_type": "execute_result"
    }
   ],
   "source": [
    "dsGeralMedicos.groupby(by='nivel_educacao').agg('colesterol').describe()\n"
   ]
  },
  {
   "cell_type": "code",
   "execution_count": 59,
   "id": "05444d10-4b73-47dd-87be-297242c3ea38",
   "metadata": {
    "tags": []
   },
   "outputs": [
    {
     "data": {
      "text/plain": [
       "nivel_educacao\n",
       "Fundamental    172.0\n",
       "Médio          167.0\n",
       "Superior       169.0\n",
       "Name: colesterol, dtype: float64"
      ]
     },
     "execution_count": 59,
     "metadata": {},
     "output_type": "execute_result"
    }
   ],
   "source": [
    "dsGeralMedicos.groupby(by='nivel_educacao').agg('colesterol').median()"
   ]
  },
  {
   "cell_type": "code",
   "execution_count": 78,
   "id": "d8287a51-115e-4cf6-a786-18f39e45a14c",
   "metadata": {
    "tags": []
   },
   "outputs": [
    {
     "data": {
      "image/png": "[encoded data removed]",
      "text/plain": [
       "<Figure size 640x480 with 1 Axes>"
      ]
     },
     "metadata": {},
     "output_type": "display_data"
    }
   ],
   "source": [
    "plt.hist(dsGeralMedicos.peso,bins=20,color='b')\n",
    "plt.grid(axis='y', alpha=0.75)\n",
    "plt.xlabel('Peso')\n",
    "plt.ylabel('Frequência')\n",
    "plt.title('Distribuição de densidade')\n",
    "plt.text(150, 40, r'maior probabilidade')\n",
    "plt.show()"
   ]
  },
  {
   "cell_type": "code",
   "execution_count": 56,
   "id": "d9f9dc95-0993-47cd-ab47-6c2bb583b8b4",
   "metadata": {},
   "outputs": [
    {
     "data": {
      "text/plain": [
       "<pandas.core.groupby.generic.SeriesGroupBy object at 0x7f6f0686a090>"
      ]
     },
     "execution_count": 56,
     "metadata": {},
     "output_type": "execute_result"
    }
   ],
   "source": [
    "dsGeralMedicos.groupby(by='nivel_educacao').agg('colesterol')"
   ]
  },
  {
   "cell_type": "code",
   "execution_count": 83,
   "id": "8ac4e851-ae89-4725-8870-af5fe2c8791c",
   "metadata": {
    "tags": []
   },
   "outputs": [
    {
     "data": {
      "text/html": [
       "<div>\n",
       "<style scoped>\n",
       "    .dataframe tbody tr th:only-of-type {\n",
       "        vertical-align: middle;\n",
       "    }\n",
       "\n",
       "    .dataframe tbody tr th {\n",
       "        vertical-align: top;\n",
       "    }\n",
       "\n",
       "    .dataframe thead th {\n",
       "        text-align: right;\n",
       "    }\n",
       "</style>\n",
       "<table border=\"1\" class=\"dataframe\">\n",
       "  <thead>\n",
       "    <tr style=\"text-align: right;\">\n",
       "      <th></th>\n",
       "      <th>id_cliente</th>\n",
       "      <th>peso</th>\n",
       "      <th>colesterol</th>\n",
       "      <th>id_estado</th>\n",
       "      <th>idade</th>\n",
       "      <th>genero</th>\n",
       "      <th>estado Civil</th>\n",
       "      <th>renda</th>\n",
       "      <th>nivel_educacao</th>\n",
       "      <th>estado</th>\n",
       "      <th>sigla_estado</th>\n",
       "      <th>pais</th>\n",
       "    </tr>\n",
       "  </thead>\n",
       "  <tbody>\n",
       "    <tr>\n",
       "      <th>216</th>\n",
       "      <td>217</td>\n",
       "      <td>203.0</td>\n",
       "      <td>235</td>\n",
       "      <td>12</td>\n",
       "      <td>31</td>\n",
       "      <td>Outro</td>\n",
       "      <td>Casado</td>\n",
       "      <td>9989.72</td>\n",
       "      <td>Superior</td>\n",
       "      <td>Mato Grosso do Sul</td>\n",
       "      <td>MS</td>\n",
       "      <td>Brasil</td>\n",
       "    </tr>\n",
       "  </tbody>\n",
       "</table>\n",
       "</div>"
      ],
      "text/plain": [
       "     id_cliente   peso  colesterol  id_estado  idade genero estado Civil  \\\n",
       "216         217  203.0         235         12     31  Outro       Casado   \n",
       "\n",
       "       renda nivel_educacao              estado sigla_estado    pais  \n",
       "216  9989.72       Superior  Mato Grosso do Sul           MS  Brasil  "
      ]
     },
     "execution_count": 83,
     "metadata": {},
     "output_type": "execute_result"
    }
   ],
   "source": [
    "dsGeralMedicos[dsGeralMedicos.renda==dsGeralMedicos.renda.max()]"
   ]
  },
  {
   "cell_type": "code",
   "execution_count": 26,
   "id": "750405b0-494f-4838-a35f-c56177ea9ad6",
   "metadata": {
    "tags": []
   },
   "outputs": [
    {
     "name": "stdout",
     "output_type": "stream",
     "text": [
      "<class 'pandas.core.frame.DataFrame'>\n",
      "RangeIndex: 27 entries, 0 to 26\n",
      "Data columns (total 4 columns):\n",
      " #   Column        Non-Null Count  Dtype \n",
      "---  ------        --------------  ----- \n",
      " 0   id_estado     27 non-null     int64 \n",
      " 1   estado        27 non-null     object\n",
      " 2   sigla_estado  27 non-null     object\n",
      " 3   pais          27 non-null     object\n",
      "dtypes: int64(1), object(3)\n",
      "memory usage: 996.0+ bytes\n"
     ]
    }
   ],
   "source": [
    "dsEstados.info()"
   ]
  },
  {
   "cell_type": "code",
   "execution_count": 27,
   "id": "abd71e8f-776f-483e-aa3a-cb68b8061559",
   "metadata": {
    "tags": []
   },
   "outputs": [
    {
     "name": "stdout",
     "output_type": "stream",
     "text": [
      "<class 'pandas.core.frame.DataFrame'>\n",
      "RangeIndex: 1000 entries, 0 to 999\n",
      "Data columns (total 7 columns):\n",
      " #   Column          Non-Null Count  Dtype  \n",
      "---  ------          --------------  -----  \n",
      " 0   id_cliente      1000 non-null   int64  \n",
      " 1   id_estado       1000 non-null   int64  \n",
      " 2   idade           1000 non-null   int64  \n",
      " 3   genero          1000 non-null   object \n",
      " 4   estado Civil    1000 non-null   object \n",
      " 5   renda           1000 non-null   float64\n",
      " 6   nivel_educacao  1000 non-null   object \n",
      "dtypes: float64(1), int64(3), object(3)\n",
      "memory usage: 54.8+ KB\n"
     ]
    }
   ],
   "source": [
    "dsPacientes.info()"
   ]
  },
  {
   "cell_type": "code",
   "execution_count": 28,
   "id": "6ff88130-892a-4ad4-ac9e-3ff269fb72ed",
   "metadata": {
    "tags": []
   },
   "outputs": [
    {
     "name": "stdout",
     "output_type": "stream",
     "text": [
      "<class 'pandas.core.frame.DataFrame'>\n",
      "RangeIndex: 547 entries, 0 to 546\n",
      "Data columns (total 3 columns):\n",
      " #   Column      Non-Null Count  Dtype  \n",
      "---  ------      --------------  -----  \n",
      " 0   id_cliente  547 non-null    int64  \n",
      " 1   peso        542 non-null    float64\n",
      " 2   colesterol  547 non-null    int64  \n",
      "dtypes: float64(1), int64(2)\n",
      "memory usage: 12.9 KB\n"
     ]
    }
   ],
   "source": [
    "dsMedicos.info()"
   ]
  },
  {
   "cell_type": "code",
   "execution_count": 29,
   "id": "d0bf6429-466c-4c62-9238-207d5ff28422",
   "metadata": {
    "tags": []
   },
   "outputs": [
    {
     "data": {
      "text/plain": [
       "0       Feminino\n",
       "1       Feminino\n",
       "2       Feminino\n",
       "3      Masculino\n",
       "4          Outro\n",
       "         ...    \n",
       "995     Feminino\n",
       "996     Feminino\n",
       "997     Feminino\n",
       "998        Outro\n",
       "999     Feminino\n",
       "Name: genero, Length: 1000, dtype: object"
      ]
     },
     "execution_count": 29,
     "metadata": {},
     "output_type": "execute_result"
    }
   ],
   "source": [
    "dsPacientes['genero']"
   ]
  },
  {
   "cell_type": "code",
   "execution_count": 30,
   "id": "0f97ade3-faf0-4504-b579-f2a02d2827ed",
   "metadata": {
    "tags": []
   },
   "outputs": [],
   "source": [
    "def vsBoxplot(ds:List,col:List,rend=True)->None:\n",
    "    ds.boxplot(column=col)\n",
    "    return rend"
   ]
  },
  {
   "cell_type": "code",
   "execution_count": 31,
   "id": "386676fd-7b0b-4729-bc56-d12aca333f65",
   "metadata": {
    "tags": []
   },
   "outputs": [
    {
     "data": {
      "image/png": "[encoded data removed]",
      "text/plain": [
       "<Figure size 640x480 with 1 Axes>"
      ]
     },
     "metadata": {},
     "output_type": "display_data"
    }
   ],
   "source": [
    "vsBoxplot(dsPacientes,['id_estado'])\n",
    "vsBoxplot(dsPacientes,['renda'])\n",
    "plt.show()"
   ]
  },
  {
   "cell_type": "code",
   "execution_count": 32,
   "id": "98615c38-443c-4fb4-8cb3-e23865fba801",
   "metadata": {
    "tags": []
   },
   "outputs": [
    {
     "data": {
      "text/plain": [
       "array(['Divorciado', 'Casado', 'Solteiro', 'Viúvo'], dtype=object)"
      ]
     },
     "execution_count": 32,
     "metadata": {},
     "output_type": "execute_result"
    }
   ],
   "source": [
    "dsPacientes['estado Civil'].unique()"
   ]
  },
  {
   "cell_type": "code",
   "execution_count": 33,
   "id": "83e0bb57-f89f-4f78-92dc-7a0975f33930",
   "metadata": {
    "tags": []
   },
   "outputs": [],
   "source": [
    "class VerificadorCategorias():\n",
    "    \n",
    "    def __init__(self):\n",
    "        self.conjunto=None\n",
    "    \n",
    "    def _verificadorCategorias(self,ds:List, coluna:str, categorias:List) -> Any:\n",
    "        \"\"\"\n",
    "            Verifica quais categorias estão presentes nas instancia do dataset e caso essa \n",
    "            instância não faça parte da regra de negocio ou esteja duplicada por está está \n",
    "            como uma string Capitalizada.\n",
    "\n",
    "            Caso tudo ocorra como previsto retorna True ou seja 1;\n",
    "        \"\"\"\n",
    "        self.conjunto = set(ds[coluna].unique().tolist())\n",
    "\n",
    "        if not (self.conjunto != set(categorias)):\n",
    "            return 1\n",
    "        else: return conjunto.difference(categorias);\n",
    "    \n",
    "\n",
    "    def resultadoVerificacao(cls,ds:List, coluna:str, categorias:List)->None:\n",
    "        if cls._verificadorCategorias(ds, coluna, categorias):\n",
    "            print(f'(Ok) -- > Feature {coluna.upper()} contém todas as categorias prevista na regra de negocio.\\n')\n",
    "\n",
    "        else: print('Garrou'); \n",
    "        \n",
    "\n",
    "    "
   ]
  },
  {
   "cell_type": "code",
   "execution_count": 34,
   "id": "078f49af-602a-471c-ad80-96905b4ca6aa",
   "metadata": {
    "tags": []
   },
   "outputs": [
    {
     "name": "stdout",
     "output_type": "stream",
     "text": [
      "(Ok) -- > Feature GENERO contém todas as categorias prevista na regra de negocio.\n",
      "\n",
      "(Ok) -- > Feature ESTADO CIVIL contém todas as categorias prevista na regra de negocio.\n",
      "\n"
     ]
    }
   ],
   "source": [
    "vrf = VerificadorCategorias()\n",
    "vrf.resultadoVerificacao(dsPacientes, 'genero', ['Masculino','Feminino','Outro'])\n",
    "vrf.resultadoVerificacao(dsPacientes, 'estado Civil', ['Divorciado', 'Casado', 'Solteiro', 'Viúvo'])"
   ]
  },
  {
   "cell_type": "code",
   "execution_count": 35,
   "id": "4201db54-d05c-446c-9bd4-5d40529d63e3",
   "metadata": {
    "tags": []
   },
   "outputs": [
    {
     "name": "stdout",
     "output_type": "stream",
     "text": [
      "<class 'pandas.core.frame.DataFrame'>\n",
      "RangeIndex: 1000 entries, 0 to 999\n",
      "Data columns (total 7 columns):\n",
      " #   Column          Non-Null Count  Dtype  \n",
      "---  ------          --------------  -----  \n",
      " 0   id_cliente      1000 non-null   int64  \n",
      " 1   id_estado       1000 non-null   int64  \n",
      " 2   idade           1000 non-null   int64  \n",
      " 3   genero          1000 non-null   object \n",
      " 4   estado Civil    1000 non-null   object \n",
      " 5   renda           1000 non-null   float64\n",
      " 6   nivel_educacao  1000 non-null   object \n",
      "dtypes: float64(1), int64(3), object(3)\n",
      "memory usage: 54.8+ KB\n"
     ]
    }
   ],
   "source": [
    "dsPacientes.info()"
   ]
  },
  {
   "cell_type": "code",
   "execution_count": 36,
   "id": "d0895455-21c4-4fc9-b79a-5edee8ec3987",
   "metadata": {},
   "outputs": [
    {
     "data": {
      "text/plain": [
       "True"
      ]
     },
     "execution_count": 36,
     "metadata": {},
     "output_type": "execute_result"
    }
   ],
   "source": [
    "np.issubdtype(dsPacientes['idade'],np.integer)"
   ]
  },
  {
   "cell_type": "code",
   "execution_count": 37,
   "id": "8b8d3db6-8034-4aa0-aa29-142c9805df6c",
   "metadata": {
    "tags": []
   },
   "outputs": [
    {
     "name": "stdout",
     "output_type": "stream",
     "text": [
      "<class 'pandas.core.frame.DataFrame'>\n",
      "RangeIndex: 547 entries, 0 to 546\n",
      "Data columns (total 3 columns):\n",
      " #   Column      Non-Null Count  Dtype  \n",
      "---  ------      --------------  -----  \n",
      " 0   id_cliente  547 non-null    int64  \n",
      " 1   peso        542 non-null    float64\n",
      " 2   colesterol  547 non-null    int64  \n",
      "dtypes: float64(1), int64(2)\n",
      "memory usage: 12.9 KB\n"
     ]
    }
   ],
   "source": [
    "dsMedicos.info()"
   ]
  },
  {
   "cell_type": "code",
   "execution_count": 38,
   "id": "2bbf752f-8f51-46ae-8124-28e7b0541df6",
   "metadata": {
    "tags": []
   },
   "outputs": [
    {
     "data": {
      "text/plain": [
       "143.44"
      ]
     },
     "execution_count": 38,
     "metadata": {},
     "output_type": "execute_result"
    }
   ],
   "source": [
    "mediaMedicoPeso = round(dsMedicos['peso'].mean(),2)\n",
    "mediaMedicoPeso "
   ]
  },
  {
   "cell_type": "code",
   "execution_count": 39,
   "id": "5baf4e4a-de3a-4717-91ad-0105925d5bc8",
   "metadata": {
    "tags": []
   },
   "outputs": [],
   "source": [
    "dsMedicos.fillna(mediaMedicoPeso,inplace=True)"
   ]
  },
  {
   "cell_type": "code",
   "execution_count": 84,
   "id": "6537e7a2-4a0c-4037-b516-def2fb1d9eec",
   "metadata": {
    "tags": []
   },
   "outputs": [
    {
     "name": "stdout",
     "output_type": "stream",
     "text": [
      "<class 'pandas.core.frame.DataFrame'>\n",
      "RangeIndex: 547 entries, 0 to 546\n",
      "Data columns (total 3 columns):\n",
      " #   Column      Non-Null Count  Dtype  \n",
      "---  ------      --------------  -----  \n",
      " 0   id_cliente  547 non-null    int64  \n",
      " 1   peso        547 non-null    float64\n",
      " 2   colesterol  547 non-null    int64  \n",
      "dtypes: float64(1), int64(2)\n",
      "memory usage: 12.9 KB\n"
     ]
    }
   ],
   "source": [
    "dsMedicos.info()"
   ]
  },
  {
   "cell_type": "code",
   "execution_count": 86,
   "id": "04541c42-69c5-4b87-a7c1-918793b3957b",
   "metadata": {
    "tags": []
   },
   "outputs": [
    {
     "name": "stdout",
     "output_type": "stream",
     "text": [
      "<class 'pandas.core.frame.DataFrame'>\n",
      "RangeIndex: 547 entries, 0 to 546\n",
      "Data columns (total 12 columns):\n",
      " #   Column          Non-Null Count  Dtype  \n",
      "---  ------          --------------  -----  \n",
      " 0   id_cliente      547 non-null    int64  \n",
      " 1   peso            542 non-null    float64\n",
      " 2   colesterol      547 non-null    int64  \n",
      " 3   id_estado       547 non-null    int64  \n",
      " 4   idade           547 non-null    int64  \n",
      " 5   genero          547 non-null    object \n",
      " 6   estado Civil    547 non-null    object \n",
      " 7   renda           547 non-null    float64\n",
      " 8   nivel_educacao  547 non-null    object \n",
      " 9   estado          547 non-null    object \n",
      " 10  sigla_estado    547 non-null    object \n",
      " 11  pais            547 non-null    object \n",
      "dtypes: float64(2), int64(4), object(6)\n",
      "memory usage: 51.4+ KB\n"
     ]
    }
   ],
   "source": [
    "dsGeralMedicos.info()"
   ]
  },
  {
   "cell_type": "code",
   "execution_count": 88,
   "id": "5c7c7e20-c4fd-468c-9ecf-96c2498379d1",
   "metadata": {
    "tags": []
   },
   "outputs": [],
   "source": [
    "dsGeralMedicos.fillna(mediaMedicoPeso,inplace=True)"
   ]
  },
  {
   "cell_type": "code",
   "execution_count": 89,
   "id": "82c5f327-60e9-40de-9f3e-d0f314dee128",
   "metadata": {
    "tags": []
   },
   "outputs": [
    {
     "name": "stdout",
     "output_type": "stream",
     "text": [
      "<class 'pandas.core.frame.DataFrame'>\n",
      "RangeIndex: 547 entries, 0 to 546\n",
      "Data columns (total 12 columns):\n",
      " #   Column          Non-Null Count  Dtype  \n",
      "---  ------          --------------  -----  \n",
      " 0   id_cliente      547 non-null    int64  \n",
      " 1   peso            547 non-null    float64\n",
      " 2   colesterol      547 non-null    int64  \n",
      " 3   id_estado       547 non-null    int64  \n",
      " 4   idade           547 non-null    int64  \n",
      " 5   genero          547 non-null    object \n",
      " 6   estado Civil    547 non-null    object \n",
      " 7   renda           547 non-null    float64\n",
      " 8   nivel_educacao  547 non-null    object \n",
      " 9   estado          547 non-null    object \n",
      " 10  sigla_estado    547 non-null    object \n",
      " 11  pais            547 non-null    object \n",
      "dtypes: float64(2), int64(4), object(6)\n",
      "memory usage: 51.4+ KB\n"
     ]
    }
   ],
   "source": [
    "dsGeralMedicos.info()"
   ]
  },
  {
   "cell_type": "code",
   "execution_count": 41,
   "id": "09ed2b7b-e5a0-4fc0-b72e-fd933277ab8b",
   "metadata": {
    "tags": []
   },
   "outputs": [],
   "source": [
    "\n",
    "dsMedicosTreinamento_x, dsMedicosTeste_x, dsMedicosTreinamento_y, dsMedicosTeste_y = model_selection.train_test_split(dsMedicos['peso'],dsMedicos['colesterol'], random_state=0, test_size=.2)"
   ]
  },
  {
   "cell_type": "code",
   "execution_count": 42,
   "id": "e9be492c-c587-41a4-8b65-097b7c9f3727",
   "metadata": {
    "tags": []
   },
   "outputs": [
    {
     "name": "stderr",
     "output_type": "stream",
     "text": [
      "/tmp/ipykernel_28533/2585164475.py:1: FutureWarning: Support for multi-dimensional indexing (e.g. `obj[:, None]`) is deprecated and will be removed in a future version.  Convert to a numpy array before indexing instead.\n",
      "  dsMedicosTreinamento_x= dsMedicosTreinamento_x[:,None]\n"
     ]
    }
   ],
   "source": [
    "dsMedicosTreinamento_x= dsMedicosTreinamento_x[:,None]"
   ]
  },
  {
   "cell_type": "code",
   "execution_count": 91,
   "id": "101a0150-be72-4cda-9bba-fd6153ebdece",
   "metadata": {
    "tags": []
   },
   "outputs": [
    {
     "data": {
      "image/png": "[encoded data removed]",
      "text/plain": [
       "<Figure size 640x480 with 1 Axes>"
      ]
     },
     "metadata": {},
     "output_type": "display_data"
    }
   ],
   "source": [
    "plt.scatter(x=dsMedicos.peso,y=dsMedicos.colesterol)\n",
    "plt.show()"
   ]
  },
  {
   "cell_type": "code",
   "execution_count": 93,
   "id": "96a2a1eb-5db1-4a67-a5ba-852cd259b350",
   "metadata": {},
   "outputs": [],
   "source": [
    "reg = linear_model.LinearRegression()"
   ]
  },
  {
   "cell_type": "code",
   "execution_count": 94,
   "id": "a6b041da-5626-47f0-8a1c-6249e8ea9db6",
   "metadata": {
    "tags": []
   },
   "outputs": [
    {
     "data": {
      "text/html": [
       "<style>#sk-container-id-2 {color: black;}#sk-container-id-2 pre{padding: 0;}#sk-container-id-2 div.sk-toggleable {background-color: white;}#sk-container-id-2 label.sk-toggleable__label {cursor: pointer;display: block;width: 100%;margin-bottom: 0;padding: 0.3em;box-sizing: border-box;text-align: center;}#sk-container-id-2 label.sk-toggleable__label-arrow:before {content: \"▸\";float: left;margin-right: 0.25em;color: #696969;}#sk-container-id-2 label.sk-toggleable__label-arrow:hover:before {color: black;}#sk-container-id-2 div.sk-estimator:hover label.sk-toggleable__label-arrow:before {color: black;}#sk-container-id-2 div.sk-toggleable__content {max-height: 0;max-width: 0;overflow: hidden;text-align: left;background-color: #f0f8ff;}#sk-container-id-2 div.sk-toggleable__content pre {margin: 0.2em;color: black;border-radius: 0.25em;background-color: #f0f8ff;}#sk-container-id-2 input.sk-toggleable__control:checked~div.sk-toggleable__content {max-height: 200px;max-width: 100%;overflow: auto;}#sk-container-id-2 input.sk-toggleable__control:checked~label.sk-toggleable__label-arrow:before {content: \"▾\";}#sk-container-id-2 div.sk-estimator input.sk-toggleable__control:checked~label.sk-toggleable__label {background-color: #d4ebff;}#sk-container-id-2 div.sk-label input.sk-toggleable__control:checked~label.sk-toggleable__label {background-color: #d4ebff;}#sk-container-id-2 input.sk-hidden--visually {border: 0;clip: rect(1px 1px 1px 1px);clip: rect(1px, 1px, 1px, 1px);height: 1px;margin: -1px;overflow: hidden;padding: 0;position: absolute;width: 1px;}#sk-container-id-2 div.sk-estimator {font-family: monospace;background-color: #f0f8ff;border: 1px dotted black;border-radius: 0.25em;box-sizing: border-box;margin-bottom: 0.5em;}#sk-container-id-2 div.sk-estimator:hover {background-color: #d4ebff;}#sk-container-id-2 div.sk-parallel-item::after {content: \"\";width: 100%;border-bottom: 1px solid gray;flex-grow: 1;}#sk-container-id-2 div.sk-label:hover label.sk-toggleable__label {background-color: #d4ebff;}#sk-container-id-2 div.sk-serial::before {content: \"\";position: absolute;border-left: 1px solid gray;box-sizing: border-box;top: 0;bottom: 0;left: 50%;z-index: 0;}#sk-container-id-2 div.sk-serial {display: flex;flex-direction: column;align-items: center;background-color: white;padding-right: 0.2em;padding-left: 0.2em;position: relative;}#sk-container-id-2 div.sk-item {position: relative;z-index: 1;}#sk-container-id-2 div.sk-parallel {display: flex;align-items: stretch;justify-content: center;background-color: white;position: relative;}#sk-container-id-2 div.sk-item::before, #sk-container-id-2 div.sk-parallel-item::before {content: \"\";position: absolute;border-left: 1px solid gray;box-sizing: border-box;top: 0;bottom: 0;left: 50%;z-index: -1;}#sk-container-id-2 div.sk-parallel-item {display: flex;flex-direction: column;z-index: 1;position: relative;background-color: white;}#sk-container-id-2 div.sk-parallel-item:first-child::after {align-self: flex-end;width: 50%;}#sk-container-id-2 div.sk-parallel-item:last-child::after {align-self: flex-start;width: 50%;}#sk-container-id-2 div.sk-parallel-item:only-child::after {width: 0;}#sk-container-id-2 div.sk-dashed-wrapped {border: 1px dashed gray;margin: 0 0.4em 0.5em 0.4em;box-sizing: border-box;padding-bottom: 0.4em;background-color: white;}#sk-container-id-2 div.sk-label label {font-family: monospace;font-weight: bold;display: inline-block;line-height: 1.2em;}#sk-container-id-2 div.sk-label-container {text-align: center;}#sk-container-id-2 div.sk-container {/* jupyter's `normalize.less` sets `[hidden] { display: none; }` but bootstrap.min.css set `[hidden] { display: none !important; }` so we also need the `!important` here to be able to override the default hidden behavior on the sphinx rendered scikit-learn.org. See: https://github.com/scikit-learn/scikit-learn/issues/21755 */display: inline-block !important;position: relative;}#sk-container-id-2 div.sk-text-repr-fallback {display: none;}</style><div id=\"sk-container-id-2\" class=\"sk-top-container\"><div class=\"sk-text-repr-fallback\"><pre>LinearRegression()</pre><b>In a Jupyter environment, please rerun this cell to show the HTML representation or trust the notebook. <br />On GitHub, the HTML representation is unable to render, please try loading this page with nbviewer.org.</b></div><div class=\"sk-container\" hidden><div class=\"sk-item\"><div class=\"sk-estimator sk-toggleable\"><input class=\"sk-toggleable__control sk-hidden--visually\" id=\"sk-estimator-id-2\" type=\"checkbox\" checked><label for=\"sk-estimator-id-2\" class=\"sk-toggleable__label sk-toggleable__label-arrow\">LinearRegression</label><div class=\"sk-toggleable__content\"><pre>LinearRegression()</pre></div></div></div></div></div>"
      ],
      "text/plain": [
       "LinearRegression()"
      ]
     },
     "execution_count": 94,
     "metadata": {},
     "output_type": "execute_result"
    }
   ],
   "source": [
    "reg.fit(dsMedicosTreinamento_x, dsMedicosTreinamento_y)"
   ]
  },
  {
   "cell_type": "code",
   "execution_count": 95,
   "id": "a7e996c7-2cea-4204-9d7c-345c87e32547",
   "metadata": {
    "tags": []
   },
   "outputs": [
    {
     "data": {
      "text/plain": [
       "array([151.25344707])"
      ]
     },
     "execution_count": 95,
     "metadata": {},
     "output_type": "execute_result"
    }
   ],
   "source": [
    "reg.predict([[128]])"
   ]
  },
  {
   "cell_type": "code",
   "execution_count": 45,
   "id": "f4462d0f-331b-4056-8c51-f313daa8deb1",
   "metadata": {
    "tags": []
   },
   "outputs": [
    {
     "data": {
      "text/plain": [
       "(array([1.25256663]), -9.075081611083476)"
      ]
     },
     "execution_count": 45,
     "metadata": {},
     "output_type": "execute_result"
    }
   ],
   "source": [
    "reg.coef_, reg.intercept_"
   ]
  },
  {
   "cell_type": "code",
   "execution_count": 46,
   "id": "50d581ec-2f55-448a-bbe4-8d437df48caf",
   "metadata": {
    "tags": []
   },
   "outputs": [
    {
     "data": {
      "text/html": [
       "<div>\n",
       "<style scoped>\n",
       "    .dataframe tbody tr th:only-of-type {\n",
       "        vertical-align: middle;\n",
       "    }\n",
       "\n",
       "    .dataframe tbody tr th {\n",
       "        vertical-align: top;\n",
       "    }\n",
       "\n",
       "    .dataframe thead th {\n",
       "        text-align: right;\n",
       "    }\n",
       "</style>\n",
       "<table border=\"1\" class=\"dataframe\">\n",
       "  <thead>\n",
       "    <tr style=\"text-align: right;\">\n",
       "      <th></th>\n",
       "      <th>id_cliente</th>\n",
       "      <th>peso</th>\n",
       "      <th>colesterol</th>\n",
       "    </tr>\n",
       "  </thead>\n",
       "  <tbody>\n",
       "    <tr>\n",
       "      <th>0</th>\n",
       "      <td>1</td>\n",
       "      <td>102.0</td>\n",
       "      <td>111</td>\n",
       "    </tr>\n",
       "    <tr>\n",
       "      <th>1</th>\n",
       "      <td>2</td>\n",
       "      <td>115.0</td>\n",
       "      <td>135</td>\n",
       "    </tr>\n",
       "    <tr>\n",
       "      <th>2</th>\n",
       "      <td>3</td>\n",
       "      <td>115.0</td>\n",
       "      <td>136</td>\n",
       "    </tr>\n",
       "    <tr>\n",
       "      <th>3</th>\n",
       "      <td>4</td>\n",
       "      <td>140.0</td>\n",
       "      <td>167</td>\n",
       "    </tr>\n",
       "    <tr>\n",
       "      <th>4</th>\n",
       "      <td>5</td>\n",
       "      <td>130.0</td>\n",
       "      <td>158</td>\n",
       "    </tr>\n",
       "  </tbody>\n",
       "</table>\n",
       "</div>"
      ],
      "text/plain": [
       "   id_cliente   peso  colesterol\n",
       "0           1  102.0         111\n",
       "1           2  115.0         135\n",
       "2           3  115.0         136\n",
       "3           4  140.0         167\n",
       "4           5  130.0         158"
      ]
     },
     "execution_count": 46,
     "metadata": {},
     "output_type": "execute_result"
    }
   ],
   "source": [
    "dsMedicos.head(5)"
   ]
  },
  {
   "cell_type": "code",
   "execution_count": 96,
   "id": "5146d963-ac8b-4073-8190-ea5c2eb980c3",
   "metadata": {
    "tags": []
   },
   "outputs": [
    {
     "name": "stderr",
     "output_type": "stream",
     "text": [
      "/tmp/ipykernel_28533/2583498142.py:1: FutureWarning: Support for multi-dimensional indexing (e.g. `obj[:, None]`) is deprecated and will be removed in a future version.  Convert to a numpy array before indexing instead.\n",
      "  dsMedicosTeste_x_reshape = dsMedicosTeste_x[:,None]\n"
     ]
    }
   ],
   "source": [
    "dsMedicosTeste_x_reshape = dsMedicosTeste_x[:,None]\n",
    "resultadoRegressao =reg.predict(dsMedicosTeste_x_reshape)"
   ]
  },
  {
   "cell_type": "code",
   "execution_count": 101,
   "id": "f67777c9-9c07-4f5e-8c52-7de3ad2a7c03",
   "metadata": {
    "tags": []
   },
   "outputs": [
    {
     "name": "stdout",
     "output_type": "stream",
     "text": [
      "#Um RMSE muito maior que o MAE requer atenção para os  outliers, pois o RMSE penaliza diferenças grandes\n",
      "\n",
      "MAE:4.970852564669072,\n",
      "MSE:38.6467202445779,\n",
      "RMSE:6.216648634479666\n"
     ]
    }
   ],
   "source": [
    "MAE = metrics.mean_absolute_error(resultadoRegressao,dsMedicosTeste_y)\n",
    "MSE =metrics.mean_squared_error(resultadoRegressao,dsMedicosTeste_y)\n",
    "RMSE = np.sqrt(MSE)\n",
    "print('#Um RMSE muito maior que o MAE requer atenção para os  outliers, pois o RMSE penaliza diferenças grandes')\n",
    "print(f'\\nMAE:{MAE},\\nMSE:{MSE},\\nRMSE:{RMSE}')\n",
    "\n"
   ]
  },
  {
   "cell_type": "code",
   "execution_count": 49,
   "id": "bf121063-19f6-4546-a39c-bbbf836b06d2",
   "metadata": {
    "tags": []
   },
   "outputs": [
    {
     "data": {
      "text/plain": [
       "0.9750898753517436"
      ]
     },
     "execution_count": 49,
     "metadata": {},
     "output_type": "execute_result"
    }
   ],
   "source": [
    "r_2 = reg.score(dsMedicosTeste_x_reshape, dsMedicosTeste_y)\n",
    "r_2"
   ]
  },
  {
   "cell_type": "code",
   "execution_count": null,
   "id": "dda88c31-a447-4b7a-a99e-3fbcf36be8b3",
   "metadata": {},
   "outputs": [],
   "source": []
  }
 ],
 "metadata": {
  "kernelspec": {
   "display_name": "Python 3 (ipykernel)",
   "language": "python",
   "name": "python3"
  },
  "language_info": {
   "codemirror_mode": {
    "name": "ipython",
    "version": 3
   },
   "file_extension": ".py",
   "mimetype": "text/x-python",
   "name": "python",
   "nbconvert_exporter": "python",
   "pygments_lexer": "ipython3",
   "version": "3.11.4"
  }
 },
 "nbformat": 4,
 "nbformat_minor": 5
}
