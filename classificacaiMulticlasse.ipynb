{
  "nbformat": 4,
  "nbformat_minor": 0,
  "metadata": {
    "colab": {
      "provenance": [],
      "authorship_tag": "ABX9TyOL7NFROKvH7itAp/ytAn5L",
      "include_colab_link": true
    },
    "kernelspec": {
      "name": "python3",
      "display_name": "Python 3"
    },
    "language_info": {
      "name": "python"
    }
  },
  "cells": [
    {
      "cell_type": "markdown",
      "metadata": {
        "id": "view-in-github",
        "colab_type": "text"
      },
      "source": [
        "<a href=\"https://colab.research.google.com/github/alessandropessoa/ciencia-de-Dados/blob/main/classificacaiMulticlasse.ipynb\" target=\"_parent\"><img src=\"https://colab.research.google.com/assets/colab-badge.svg\" alt=\"Open In Colab\"/></a>"
      ]
    },
    {
      "cell_type": "code",
      "source": [
        "!pip install skorch"
      ],
      "metadata": {
        "colab": {
          "base_uri": "https://localhost:8080/"
        },
        "id": "Q1OjVrCYm611",
        "outputId": "fb41084f-ebe4-49c3-b988-f5806f98e7ad"
      },
      "execution_count": 1,
      "outputs": [
        {
          "output_type": "stream",
          "name": "stdout",
          "text": [
            "Collecting skorch\n",
            "  Downloading skorch-0.14.0-py3-none-any.whl (221 kB)\n",
            "\u001b[?25l     \u001b[90m━━━━━━━━━━━━━━━━━━━━━━━━━━━━━━━━━━━━━━━━\u001b[0m \u001b[32m0.0/221.3 kB\u001b[0m \u001b[31m?\u001b[0m eta \u001b[36m-:--:--\u001b[0m\r\u001b[2K     \u001b[91m━━━━━━━━━━━━\u001b[0m\u001b[91m╸\u001b[0m\u001b[90m━━━━━━━━━━━━━━━━━━━━━━━━━━━\u001b[0m \u001b[32m71.7/221.3 kB\u001b[0m \u001b[31m2.0 MB/s\u001b[0m eta \u001b[36m0:00:01\u001b[0m\r\u001b[2K     \u001b[90m━━━━━━━━━━━━━━━━━━━━━━━━━━━━━━━━━━━━━━━\u001b[0m \u001b[32m221.3/221.3 kB\u001b[0m \u001b[31m3.9 MB/s\u001b[0m eta \u001b[36m0:00:00\u001b[0m\n",
            "\u001b[?25hRequirement already satisfied: numpy>=1.13.3 in /usr/local/lib/python3.10/dist-packages (from skorch) (1.23.5)\n",
            "Requirement already satisfied: scikit-learn>=0.22.0 in /usr/local/lib/python3.10/dist-packages (from skorch) (1.2.2)\n",
            "Requirement already satisfied: scipy>=1.1.0 in /usr/local/lib/python3.10/dist-packages (from skorch) (1.10.1)\n",
            "Requirement already satisfied: tabulate>=0.7.7 in /usr/local/lib/python3.10/dist-packages (from skorch) (0.9.0)\n",
            "Requirement already satisfied: tqdm>=4.14.0 in /usr/local/lib/python3.10/dist-packages (from skorch) (4.66.1)\n",
            "Requirement already satisfied: joblib>=1.1.1 in /usr/local/lib/python3.10/dist-packages (from scikit-learn>=0.22.0->skorch) (1.3.2)\n",
            "Requirement already satisfied: threadpoolctl>=2.0.0 in /usr/local/lib/python3.10/dist-packages (from scikit-learn>=0.22.0->skorch) (3.2.0)\n",
            "Installing collected packages: skorch\n",
            "Successfully installed skorch-0.14.0\n"
          ]
        }
      ]
    },
    {
      "cell_type": "code",
      "execution_count": 2,
      "metadata": {
        "id": "aC0ABzf2mYqa"
      },
      "outputs": [],
      "source": [
        "from torch import nn,optim\n",
        "import pandas as pd\n",
        "import numpy as np\n",
        "from skorch import NeuralNetBinaryClassifier\n",
        "from sklearn.model_selection import cross_val_score # validação cruzada\n",
        "import torch\n",
        "import seaborn as sns\n",
        "from torch.nn import functional as F\n",
        "from sklearn.preprocessing import LabelEncoder\n",
        "from sklearn.metrics import confusion_matrix\n",
        "from sklearn.model_selection import train_test_split\n"
      ]
    },
    {
      "cell_type": "markdown",
      "source": [
        "#Usaremos o dataset Iris para os testes com as redes neurais densas multiclasses.\n",
        "\n",
        "Utilizaremos programação funcional afim de ser mais celere"
      ],
      "metadata": {
        "id": "uLguaiN1nnH_"
      }
    },
    {
      "cell_type": "code",
      "source": [
        "np.random.seed(27)\n",
        "torch.random.manual_seed(27)\n",
        "\n"
      ],
      "metadata": {
        "colab": {
          "base_uri": "https://localhost:8080/"
        },
        "id": "ekggp7H9uufz",
        "outputId": "29afafd2-158f-485d-8e11-bbfaed368ca0"
      },
      "execution_count": 3,
      "outputs": [
        {
          "output_type": "execute_result",
          "data": {
            "text/plain": [
              "<torch._C.Generator at 0x7ee474bc8f10>"
            ]
          },
          "metadata": {},
          "execution_count": 3
        }
      ]
    },
    {
      "cell_type": "code",
      "source": [
        "dataset = pd.read_csv('/content/Iris.csv')"
      ],
      "metadata": {
        "id": "PHT4EljSngeF"
      },
      "execution_count": 4,
      "outputs": []
    },
    {
      "cell_type": "code",
      "source": [
        "dataset"
      ],
      "metadata": {
        "colab": {
          "base_uri": "https://localhost:8080/",
          "height": 424
        },
        "id": "8OHlfozW4gwx",
        "outputId": "597c6778-e331-471c-8506-ad42284da833"
      },
      "execution_count": 5,
      "outputs": [
        {
          "output_type": "execute_result",
          "data": {
            "text/plain": [
              "      Id  SepalLengthCm  SepalWidthCm  PetalLengthCm  PetalWidthCm  \\\n",
              "0      1            5.1           3.5            1.4           0.2   \n",
              "1      2            4.9           3.0            1.4           0.2   \n",
              "2      3            4.7           3.2            1.3           0.2   \n",
              "3      4            4.6           3.1            1.5           0.2   \n",
              "4      5            5.0           3.6            1.4           0.2   \n",
              "..   ...            ...           ...            ...           ...   \n",
              "145  146            6.7           3.0            5.2           2.3   \n",
              "146  147            6.3           2.5            5.0           1.9   \n",
              "147  148            6.5           3.0            5.2           2.0   \n",
              "148  149            6.2           3.4            5.4           2.3   \n",
              "149  150            5.9           3.0            5.1           1.8   \n",
              "\n",
              "            Species  \n",
              "0       Iris-setosa  \n",
              "1       Iris-setosa  \n",
              "2       Iris-setosa  \n",
              "3       Iris-setosa  \n",
              "4       Iris-setosa  \n",
              "..              ...  \n",
              "145  Iris-virginica  \n",
              "146  Iris-virginica  \n",
              "147  Iris-virginica  \n",
              "148  Iris-virginica  \n",
              "149  Iris-virginica  \n",
              "\n",
              "[150 rows x 6 columns]"
            ],
            "text/html": [
              "\n",
              "  <div id=\"df-972ff387-283a-4590-8de9-569f17ff4ff4\" class=\"colab-df-container\">\n",
              "    <div>\n",
              "<style scoped>\n",
              "    .dataframe tbody tr th:only-of-type {\n",
              "        vertical-align: middle;\n",
              "    }\n",
              "\n",
              "    .dataframe tbody tr th {\n",
              "        vertical-align: top;\n",
              "    }\n",
              "\n",
              "    .dataframe thead th {\n",
              "        text-align: right;\n",
              "    }\n",
              "</style>\n",
              "<table border=\"1\" class=\"dataframe\">\n",
              "  <thead>\n",
              "    <tr style=\"text-align: right;\">\n",
              "      <th></th>\n",
              "      <th>Id</th>\n",
              "      <th>SepalLengthCm</th>\n",
              "      <th>SepalWidthCm</th>\n",
              "      <th>PetalLengthCm</th>\n",
              "      <th>PetalWidthCm</th>\n",
              "      <th>Species</th>\n",
              "    </tr>\n",
              "  </thead>\n",
              "  <tbody>\n",
              "    <tr>\n",
              "      <th>0</th>\n",
              "      <td>1</td>\n",
              "      <td>5.1</td>\n",
              "      <td>3.5</td>\n",
              "      <td>1.4</td>\n",
              "      <td>0.2</td>\n",
              "      <td>Iris-setosa</td>\n",
              "    </tr>\n",
              "    <tr>\n",
              "      <th>1</th>\n",
              "      <td>2</td>\n",
              "      <td>4.9</td>\n",
              "      <td>3.0</td>\n",
              "      <td>1.4</td>\n",
              "      <td>0.2</td>\n",
              "      <td>Iris-setosa</td>\n",
              "    </tr>\n",
              "    <tr>\n",
              "      <th>2</th>\n",
              "      <td>3</td>\n",
              "      <td>4.7</td>\n",
              "      <td>3.2</td>\n",
              "      <td>1.3</td>\n",
              "      <td>0.2</td>\n",
              "      <td>Iris-setosa</td>\n",
              "    </tr>\n",
              "    <tr>\n",
              "      <th>3</th>\n",
              "      <td>4</td>\n",
              "      <td>4.6</td>\n",
              "      <td>3.1</td>\n",
              "      <td>1.5</td>\n",
              "      <td>0.2</td>\n",
              "      <td>Iris-setosa</td>\n",
              "    </tr>\n",
              "    <tr>\n",
              "      <th>4</th>\n",
              "      <td>5</td>\n",
              "      <td>5.0</td>\n",
              "      <td>3.6</td>\n",
              "      <td>1.4</td>\n",
              "      <td>0.2</td>\n",
              "      <td>Iris-setosa</td>\n",
              "    </tr>\n",
              "    <tr>\n",
              "      <th>...</th>\n",
              "      <td>...</td>\n",
              "      <td>...</td>\n",
              "      <td>...</td>\n",
              "      <td>...</td>\n",
              "      <td>...</td>\n",
              "      <td>...</td>\n",
              "    </tr>\n",
              "    <tr>\n",
              "      <th>145</th>\n",
              "      <td>146</td>\n",
              "      <td>6.7</td>\n",
              "      <td>3.0</td>\n",
              "      <td>5.2</td>\n",
              "      <td>2.3</td>\n",
              "      <td>Iris-virginica</td>\n",
              "    </tr>\n",
              "    <tr>\n",
              "      <th>146</th>\n",
              "      <td>147</td>\n",
              "      <td>6.3</td>\n",
              "      <td>2.5</td>\n",
              "      <td>5.0</td>\n",
              "      <td>1.9</td>\n",
              "      <td>Iris-virginica</td>\n",
              "    </tr>\n",
              "    <tr>\n",
              "      <th>147</th>\n",
              "      <td>148</td>\n",
              "      <td>6.5</td>\n",
              "      <td>3.0</td>\n",
              "      <td>5.2</td>\n",
              "      <td>2.0</td>\n",
              "      <td>Iris-virginica</td>\n",
              "    </tr>\n",
              "    <tr>\n",
              "      <th>148</th>\n",
              "      <td>149</td>\n",
              "      <td>6.2</td>\n",
              "      <td>3.4</td>\n",
              "      <td>5.4</td>\n",
              "      <td>2.3</td>\n",
              "      <td>Iris-virginica</td>\n",
              "    </tr>\n",
              "    <tr>\n",
              "      <th>149</th>\n",
              "      <td>150</td>\n",
              "      <td>5.9</td>\n",
              "      <td>3.0</td>\n",
              "      <td>5.1</td>\n",
              "      <td>1.8</td>\n",
              "      <td>Iris-virginica</td>\n",
              "    </tr>\n",
              "  </tbody>\n",
              "</table>\n",
              "<p>150 rows × 6 columns</p>\n",
              "</div>\n",
              "    <div class=\"colab-df-buttons\">\n",
              "\n",
              "  <div class=\"colab-df-container\">\n",
              "    <button class=\"colab-df-convert\" onclick=\"convertToInteractive('df-972ff387-283a-4590-8de9-569f17ff4ff4')\"\n",
              "            title=\"Convert this dataframe to an interactive table.\"\n",
              "            style=\"display:none;\">\n",
              "\n",
              "  <svg xmlns=\"http://www.w3.org/2000/svg\" height=\"24px\" viewBox=\"0 -960 960 960\">\n",
              "    <path d=\"M120-120v-720h720v720H120Zm60-500h600v-160H180v160Zm220 220h160v-160H400v160Zm0 220h160v-160H400v160ZM180-400h160v-160H180v160Zm440 0h160v-160H620v160ZM180-180h160v-160H180v160Zm440 0h160v-160H620v160Z\"/>\n",
              "  </svg>\n",
              "    </button>\n",
              "\n",
              "  <style>\n",
              "    .colab-df-container {\n",
              "      display:flex;\n",
              "      gap: 12px;\n",
              "    }\n",
              "\n",
              "    .colab-df-convert {\n",
              "      background-color: #E8F0FE;\n",
              "      border: none;\n",
              "      border-radius: 50%;\n",
              "      cursor: pointer;\n",
              "      display: none;\n",
              "      fill: #1967D2;\n",
              "      height: 32px;\n",
              "      padding: 0 0 0 0;\n",
              "      width: 32px;\n",
              "    }\n",
              "\n",
              "    .colab-df-convert:hover {\n",
              "      background-color: #E2EBFA;\n",
              "      box-shadow: 0px 1px 2px rgba(60, 64, 67, 0.3), 0px 1px 3px 1px rgba(60, 64, 67, 0.15);\n",
              "      fill: #174EA6;\n",
              "    }\n",
              "\n",
              "    .colab-df-buttons div {\n",
              "      margin-bottom: 4px;\n",
              "    }\n",
              "\n",
              "    [theme=dark] .colab-df-convert {\n",
              "      background-color: #3B4455;\n",
              "      fill: #D2E3FC;\n",
              "    }\n",
              "\n",
              "    [theme=dark] .colab-df-convert:hover {\n",
              "      background-color: #434B5C;\n",
              "      box-shadow: 0px 1px 3px 1px rgba(0, 0, 0, 0.15);\n",
              "      filter: drop-shadow(0px 1px 2px rgba(0, 0, 0, 0.3));\n",
              "      fill: #FFFFFF;\n",
              "    }\n",
              "  </style>\n",
              "\n",
              "    <script>\n",
              "      const buttonEl =\n",
              "        document.querySelector('#df-972ff387-283a-4590-8de9-569f17ff4ff4 button.colab-df-convert');\n",
              "      buttonEl.style.display =\n",
              "        google.colab.kernel.accessAllowed ? 'block' : 'none';\n",
              "\n",
              "      async function convertToInteractive(key) {\n",
              "        const element = document.querySelector('#df-972ff387-283a-4590-8de9-569f17ff4ff4');\n",
              "        const dataTable =\n",
              "          await google.colab.kernel.invokeFunction('convertToInteractive',\n",
              "                                                    [key], {});\n",
              "        if (!dataTable) return;\n",
              "\n",
              "        const docLinkHtml = 'Like what you see? Visit the ' +\n",
              "          '<a target=\"_blank\" href=https://colab.research.google.com/notebooks/data_table.ipynb>data table notebook</a>'\n",
              "          + ' to learn more about interactive tables.';\n",
              "        element.innerHTML = '';\n",
              "        dataTable['output_type'] = 'display_data';\n",
              "        await google.colab.output.renderOutput(dataTable, element);\n",
              "        const docLink = document.createElement('div');\n",
              "        docLink.innerHTML = docLinkHtml;\n",
              "        element.appendChild(docLink);\n",
              "      }\n",
              "    </script>\n",
              "  </div>\n",
              "\n",
              "\n",
              "<div id=\"df-3f300c4e-ca70-4576-9bf3-af9320abf6d4\">\n",
              "  <button class=\"colab-df-quickchart\" onclick=\"quickchart('df-3f300c4e-ca70-4576-9bf3-af9320abf6d4')\"\n",
              "            title=\"Suggest charts.\"\n",
              "            style=\"display:none;\">\n",
              "\n",
              "<svg xmlns=\"http://www.w3.org/2000/svg\" height=\"24px\"viewBox=\"0 0 24 24\"\n",
              "     width=\"24px\">\n",
              "    <g>\n",
              "        <path d=\"M19 3H5c-1.1 0-2 .9-2 2v14c0 1.1.9 2 2 2h14c1.1 0 2-.9 2-2V5c0-1.1-.9-2-2-2zM9 17H7v-7h2v7zm4 0h-2V7h2v10zm4 0h-2v-4h2v4z\"/>\n",
              "    </g>\n",
              "</svg>\n",
              "  </button>\n",
              "\n",
              "<style>\n",
              "  .colab-df-quickchart {\n",
              "    background-color: #E8F0FE;\n",
              "    border: none;\n",
              "    border-radius: 50%;\n",
              "    cursor: pointer;\n",
              "    display: none;\n",
              "    fill: #1967D2;\n",
              "    height: 32px;\n",
              "    padding: 0 0 0 0;\n",
              "    width: 32px;\n",
              "  }\n",
              "\n",
              "  .colab-df-quickchart:hover {\n",
              "    background-color: #E2EBFA;\n",
              "    box-shadow: 0px 1px 2px rgba(60, 64, 67, 0.3), 0px 1px 3px 1px rgba(60, 64, 67, 0.15);\n",
              "    fill: #174EA6;\n",
              "  }\n",
              "\n",
              "  [theme=dark] .colab-df-quickchart {\n",
              "    background-color: #3B4455;\n",
              "    fill: #D2E3FC;\n",
              "  }\n",
              "\n",
              "  [theme=dark] .colab-df-quickchart:hover {\n",
              "    background-color: #434B5C;\n",
              "    box-shadow: 0px 1px 3px 1px rgba(0, 0, 0, 0.15);\n",
              "    filter: drop-shadow(0px 1px 2px rgba(0, 0, 0, 0.3));\n",
              "    fill: #FFFFFF;\n",
              "  }\n",
              "</style>\n",
              "\n",
              "  <script>\n",
              "    async function quickchart(key) {\n",
              "      const charts = await google.colab.kernel.invokeFunction(\n",
              "          'suggestCharts', [key], {});\n",
              "    }\n",
              "    (() => {\n",
              "      let quickchartButtonEl =\n",
              "        document.querySelector('#df-3f300c4e-ca70-4576-9bf3-af9320abf6d4 button');\n",
              "      quickchartButtonEl.style.display =\n",
              "        google.colab.kernel.accessAllowed ? 'block' : 'none';\n",
              "    })();\n",
              "  </script>\n",
              "</div>\n",
              "    </div>\n",
              "  </div>\n"
            ]
          },
          "metadata": {},
          "execution_count": 5
        }
      ]
    },
    {
      "cell_type": "code",
      "source": [
        "dsPreditores = dataset[['SepalLengthCm','SepalWidthCm','PetalLengthCm','PetalWidthCm']]\n",
        "dsPreditores\n"
      ],
      "metadata": {
        "colab": {
          "base_uri": "https://localhost:8080/",
          "height": 424
        },
        "id": "nQMnr1ACneud",
        "outputId": "d152f540-ecb0-46e5-99d8-2ab0b7c2613d"
      },
      "execution_count": 8,
      "outputs": [
        {
          "output_type": "execute_result",
          "data": {
            "text/plain": [
              "     SepalLengthCm  SepalWidthCm  PetalLengthCm  PetalWidthCm\n",
              "0              5.1           3.5            1.4           0.2\n",
              "1              4.9           3.0            1.4           0.2\n",
              "2              4.7           3.2            1.3           0.2\n",
              "3              4.6           3.1            1.5           0.2\n",
              "4              5.0           3.6            1.4           0.2\n",
              "..             ...           ...            ...           ...\n",
              "145            6.7           3.0            5.2           2.3\n",
              "146            6.3           2.5            5.0           1.9\n",
              "147            6.5           3.0            5.2           2.0\n",
              "148            6.2           3.4            5.4           2.3\n",
              "149            5.9           3.0            5.1           1.8\n",
              "\n",
              "[150 rows x 4 columns]"
            ],
            "text/html": [
              "\n",
              "  <div id=\"df-226e1c2c-f7ee-4c0f-8678-b6f8aa31bc19\" class=\"colab-df-container\">\n",
              "    <div>\n",
              "<style scoped>\n",
              "    .dataframe tbody tr th:only-of-type {\n",
              "        vertical-align: middle;\n",
              "    }\n",
              "\n",
              "    .dataframe tbody tr th {\n",
              "        vertical-align: top;\n",
              "    }\n",
              "\n",
              "    .dataframe thead th {\n",
              "        text-align: right;\n",
              "    }\n",
              "</style>\n",
              "<table border=\"1\" class=\"dataframe\">\n",
              "  <thead>\n",
              "    <tr style=\"text-align: right;\">\n",
              "      <th></th>\n",
              "      <th>SepalLengthCm</th>\n",
              "      <th>SepalWidthCm</th>\n",
              "      <th>PetalLengthCm</th>\n",
              "      <th>PetalWidthCm</th>\n",
              "    </tr>\n",
              "  </thead>\n",
              "  <tbody>\n",
              "    <tr>\n",
              "      <th>0</th>\n",
              "      <td>5.1</td>\n",
              "      <td>3.5</td>\n",
              "      <td>1.4</td>\n",
              "      <td>0.2</td>\n",
              "    </tr>\n",
              "    <tr>\n",
              "      <th>1</th>\n",
              "      <td>4.9</td>\n",
              "      <td>3.0</td>\n",
              "      <td>1.4</td>\n",
              "      <td>0.2</td>\n",
              "    </tr>\n",
              "    <tr>\n",
              "      <th>2</th>\n",
              "      <td>4.7</td>\n",
              "      <td>3.2</td>\n",
              "      <td>1.3</td>\n",
              "      <td>0.2</td>\n",
              "    </tr>\n",
              "    <tr>\n",
              "      <th>3</th>\n",
              "      <td>4.6</td>\n",
              "      <td>3.1</td>\n",
              "      <td>1.5</td>\n",
              "      <td>0.2</td>\n",
              "    </tr>\n",
              "    <tr>\n",
              "      <th>4</th>\n",
              "      <td>5.0</td>\n",
              "      <td>3.6</td>\n",
              "      <td>1.4</td>\n",
              "      <td>0.2</td>\n",
              "    </tr>\n",
              "    <tr>\n",
              "      <th>...</th>\n",
              "      <td>...</td>\n",
              "      <td>...</td>\n",
              "      <td>...</td>\n",
              "      <td>...</td>\n",
              "    </tr>\n",
              "    <tr>\n",
              "      <th>145</th>\n",
              "      <td>6.7</td>\n",
              "      <td>3.0</td>\n",
              "      <td>5.2</td>\n",
              "      <td>2.3</td>\n",
              "    </tr>\n",
              "    <tr>\n",
              "      <th>146</th>\n",
              "      <td>6.3</td>\n",
              "      <td>2.5</td>\n",
              "      <td>5.0</td>\n",
              "      <td>1.9</td>\n",
              "    </tr>\n",
              "    <tr>\n",
              "      <th>147</th>\n",
              "      <td>6.5</td>\n",
              "      <td>3.0</td>\n",
              "      <td>5.2</td>\n",
              "      <td>2.0</td>\n",
              "    </tr>\n",
              "    <tr>\n",
              "      <th>148</th>\n",
              "      <td>6.2</td>\n",
              "      <td>3.4</td>\n",
              "      <td>5.4</td>\n",
              "      <td>2.3</td>\n",
              "    </tr>\n",
              "    <tr>\n",
              "      <th>149</th>\n",
              "      <td>5.9</td>\n",
              "      <td>3.0</td>\n",
              "      <td>5.1</td>\n",
              "      <td>1.8</td>\n",
              "    </tr>\n",
              "  </tbody>\n",
              "</table>\n",
              "<p>150 rows × 4 columns</p>\n",
              "</div>\n",
              "    <div class=\"colab-df-buttons\">\n",
              "\n",
              "  <div class=\"colab-df-container\">\n",
              "    <button class=\"colab-df-convert\" onclick=\"convertToInteractive('df-226e1c2c-f7ee-4c0f-8678-b6f8aa31bc19')\"\n",
              "            title=\"Convert this dataframe to an interactive table.\"\n",
              "            style=\"display:none;\">\n",
              "\n",
              "  <svg xmlns=\"http://www.w3.org/2000/svg\" height=\"24px\" viewBox=\"0 -960 960 960\">\n",
              "    <path d=\"M120-120v-720h720v720H120Zm60-500h600v-160H180v160Zm220 220h160v-160H400v160Zm0 220h160v-160H400v160ZM180-400h160v-160H180v160Zm440 0h160v-160H620v160ZM180-180h160v-160H180v160Zm440 0h160v-160H620v160Z\"/>\n",
              "  </svg>\n",
              "    </button>\n",
              "\n",
              "  <style>\n",
              "    .colab-df-container {\n",
              "      display:flex;\n",
              "      gap: 12px;\n",
              "    }\n",
              "\n",
              "    .colab-df-convert {\n",
              "      background-color: #E8F0FE;\n",
              "      border: none;\n",
              "      border-radius: 50%;\n",
              "      cursor: pointer;\n",
              "      display: none;\n",
              "      fill: #1967D2;\n",
              "      height: 32px;\n",
              "      padding: 0 0 0 0;\n",
              "      width: 32px;\n",
              "    }\n",
              "\n",
              "    .colab-df-convert:hover {\n",
              "      background-color: #E2EBFA;\n",
              "      box-shadow: 0px 1px 2px rgba(60, 64, 67, 0.3), 0px 1px 3px 1px rgba(60, 64, 67, 0.15);\n",
              "      fill: #174EA6;\n",
              "    }\n",
              "\n",
              "    .colab-df-buttons div {\n",
              "      margin-bottom: 4px;\n",
              "    }\n",
              "\n",
              "    [theme=dark] .colab-df-convert {\n",
              "      background-color: #3B4455;\n",
              "      fill: #D2E3FC;\n",
              "    }\n",
              "\n",
              "    [theme=dark] .colab-df-convert:hover {\n",
              "      background-color: #434B5C;\n",
              "      box-shadow: 0px 1px 3px 1px rgba(0, 0, 0, 0.15);\n",
              "      filter: drop-shadow(0px 1px 2px rgba(0, 0, 0, 0.3));\n",
              "      fill: #FFFFFF;\n",
              "    }\n",
              "  </style>\n",
              "\n",
              "    <script>\n",
              "      const buttonEl =\n",
              "        document.querySelector('#df-226e1c2c-f7ee-4c0f-8678-b6f8aa31bc19 button.colab-df-convert');\n",
              "      buttonEl.style.display =\n",
              "        google.colab.kernel.accessAllowed ? 'block' : 'none';\n",
              "\n",
              "      async function convertToInteractive(key) {\n",
              "        const element = document.querySelector('#df-226e1c2c-f7ee-4c0f-8678-b6f8aa31bc19');\n",
              "        const dataTable =\n",
              "          await google.colab.kernel.invokeFunction('convertToInteractive',\n",
              "                                                    [key], {});\n",
              "        if (!dataTable) return;\n",
              "\n",
              "        const docLinkHtml = 'Like what you see? Visit the ' +\n",
              "          '<a target=\"_blank\" href=https://colab.research.google.com/notebooks/data_table.ipynb>data table notebook</a>'\n",
              "          + ' to learn more about interactive tables.';\n",
              "        element.innerHTML = '';\n",
              "        dataTable['output_type'] = 'display_data';\n",
              "        await google.colab.output.renderOutput(dataTable, element);\n",
              "        const docLink = document.createElement('div');\n",
              "        docLink.innerHTML = docLinkHtml;\n",
              "        element.appendChild(docLink);\n",
              "      }\n",
              "    </script>\n",
              "  </div>\n",
              "\n",
              "\n",
              "<div id=\"df-b0571d97-3883-459d-9d05-56751808650f\">\n",
              "  <button class=\"colab-df-quickchart\" onclick=\"quickchart('df-b0571d97-3883-459d-9d05-56751808650f')\"\n",
              "            title=\"Suggest charts.\"\n",
              "            style=\"display:none;\">\n",
              "\n",
              "<svg xmlns=\"http://www.w3.org/2000/svg\" height=\"24px\"viewBox=\"0 0 24 24\"\n",
              "     width=\"24px\">\n",
              "    <g>\n",
              "        <path d=\"M19 3H5c-1.1 0-2 .9-2 2v14c0 1.1.9 2 2 2h14c1.1 0 2-.9 2-2V5c0-1.1-.9-2-2-2zM9 17H7v-7h2v7zm4 0h-2V7h2v10zm4 0h-2v-4h2v4z\"/>\n",
              "    </g>\n",
              "</svg>\n",
              "  </button>\n",
              "\n",
              "<style>\n",
              "  .colab-df-quickchart {\n",
              "    background-color: #E8F0FE;\n",
              "    border: none;\n",
              "    border-radius: 50%;\n",
              "    cursor: pointer;\n",
              "    display: none;\n",
              "    fill: #1967D2;\n",
              "    height: 32px;\n",
              "    padding: 0 0 0 0;\n",
              "    width: 32px;\n",
              "  }\n",
              "\n",
              "  .colab-df-quickchart:hover {\n",
              "    background-color: #E2EBFA;\n",
              "    box-shadow: 0px 1px 2px rgba(60, 64, 67, 0.3), 0px 1px 3px 1px rgba(60, 64, 67, 0.15);\n",
              "    fill: #174EA6;\n",
              "  }\n",
              "\n",
              "  [theme=dark] .colab-df-quickchart {\n",
              "    background-color: #3B4455;\n",
              "    fill: #D2E3FC;\n",
              "  }\n",
              "\n",
              "  [theme=dark] .colab-df-quickchart:hover {\n",
              "    background-color: #434B5C;\n",
              "    box-shadow: 0px 1px 3px 1px rgba(0, 0, 0, 0.15);\n",
              "    filter: drop-shadow(0px 1px 2px rgba(0, 0, 0, 0.3));\n",
              "    fill: #FFFFFF;\n",
              "  }\n",
              "</style>\n",
              "\n",
              "  <script>\n",
              "    async function quickchart(key) {\n",
              "      const charts = await google.colab.kernel.invokeFunction(\n",
              "          'suggestCharts', [key], {});\n",
              "    }\n",
              "    (() => {\n",
              "      let quickchartButtonEl =\n",
              "        document.querySelector('#df-b0571d97-3883-459d-9d05-56751808650f button');\n",
              "      quickchartButtonEl.style.display =\n",
              "        google.colab.kernel.accessAllowed ? 'block' : 'none';\n",
              "    })();\n",
              "  </script>\n",
              "</div>\n",
              "    </div>\n",
              "  </div>\n"
            ]
          },
          "metadata": {},
          "execution_count": 8
        }
      ]
    },
    {
      "cell_type": "code",
      "source": [
        "dsPreditores =dsPreditores.to_numpy()"
      ],
      "metadata": {
        "id": "vT-R0kJJ1618"
      },
      "execution_count": 9,
      "outputs": []
    },
    {
      "cell_type": "code",
      "source": [
        "dsAlvo = dataset['Species']\n",
        "dsAlvo"
      ],
      "metadata": {
        "colab": {
          "base_uri": "https://localhost:8080/"
        },
        "id": "muzrbob50POK",
        "outputId": "4372639f-4bd9-4046-edf1-b36f6cc54b72"
      },
      "execution_count": 10,
      "outputs": [
        {
          "output_type": "execute_result",
          "data": {
            "text/plain": [
              "0         Iris-setosa\n",
              "1         Iris-setosa\n",
              "2         Iris-setosa\n",
              "3         Iris-setosa\n",
              "4         Iris-setosa\n",
              "            ...      \n",
              "145    Iris-virginica\n",
              "146    Iris-virginica\n",
              "147    Iris-virginica\n",
              "148    Iris-virginica\n",
              "149    Iris-virginica\n",
              "Name: Species, Length: 150, dtype: object"
            ]
          },
          "metadata": {},
          "execution_count": 10
        }
      ]
    },
    {
      "cell_type": "code",
      "source": [
        "dsAlvo = dsAlvo.to_numpy()"
      ],
      "metadata": {
        "id": "YdSyPfVk1y1w"
      },
      "execution_count": 11,
      "outputs": []
    },
    {
      "cell_type": "code",
      "source": [
        "# como o nosso objetivo é realizar a classficação entre 3 tipos de rotulos,\n",
        "#'setosa', 'versicolor', 'virginica', teremos que ter 3 neuronios na saida\n",
        "# as variaveis explanatorias (preditoras ou independentes) são sepal length,sepal width ,petal length\n",
        "#petal width\n",
        "\n",
        "\n"
      ],
      "metadata": {
        "id": "lGe68tlnn-1n"
      },
      "execution_count": null,
      "outputs": []
    },
    {
      "cell_type": "markdown",
      "source": [
        "A arquitetura da rede neural será\n",
        "4 -> 4 ->4 ->3 pois 4+3/2 = 3.5 ≃ 4 neuronios"
      ],
      "metadata": {
        "id": "YV3-ngwRp7WU"
      }
    },
    {
      "cell_type": "code",
      "source": [
        "#Podemos observar que a camda de saida não contem uma função de ativação\n",
        "#pois esta será passada na etapa de treino\n",
        "\n",
        "classificador = nn.Sequential(\n",
        "                              #camada de entrada\n",
        "                              nn.Linear(4,4),\\\n",
        "                              nn.ReLU(),\\\n",
        "\n",
        "                              #camada oculta\n",
        "                              nn.Linear(4,4),\\\n",
        "                              nn.ReLU(),\\\n",
        "\n",
        "                              #camada de saida\n",
        "                              nn.Linear(4,3),\\\n",
        "\n",
        ")\n",
        "\n"
      ],
      "metadata": {
        "id": "dTPFycuuplqC"
      },
      "execution_count": 12,
      "outputs": []
    },
    {
      "cell_type": "code",
      "source": [
        "#Para esse calculo de erro não utilizaremos o BCELoss (Binary Cross Entropy)\n",
        "#pois a nossa classificação não é binaria e sim multiclasse\n",
        "\n",
        "criterion = nn.CrossEntropyLoss()"
      ],
      "metadata": {
        "id": "Ss46jc2srl04"
      },
      "execution_count": 13,
      "outputs": []
    },
    {
      "cell_type": "code",
      "source": [
        "otimizador = optim.Adam(classificador.parameters(),lr=.001, weight_decay=.0001)"
      ],
      "metadata": {
        "id": "lpFo5dKEskAX"
      },
      "execution_count": 14,
      "outputs": []
    },
    {
      "cell_type": "code",
      "source": [
        "sns.countplot(dsPreditores) #preditores\n"
      ],
      "metadata": {
        "colab": {
          "base_uri": "https://localhost:8080/",
          "height": 447
        },
        "id": "6ak7te4euHsN",
        "outputId": "d2afa7a2-f00b-4138-d43b-f4c2378ced96"
      },
      "execution_count": 15,
      "outputs": [
        {
          "output_type": "execute_result",
          "data": {
            "text/plain": [
              "<Axes: ylabel='count'>"
            ]
          },
          "metadata": {},
          "execution_count": 15
        },
        {
          "output_type": "display_data",
          "data": {
            "text/plain": [
              "<Figure size 640x480 with 1 Axes>"
            ],
            "image/png": "[encoded data removed]"
          },
          "metadata": {}
        }
      ]
    },
    {
      "cell_type": "code",
      "source": [
        "sns.countplot(x=dsAlvo) #variaveis alvo"
      ],
      "metadata": {
        "colab": {
          "base_uri": "https://localhost:8080/",
          "height": 447
        },
        "id": "141lR_p2w8nl",
        "outputId": "46bf1b83-4e8b-4cb2-eb64-23c56568cd10"
      },
      "execution_count": 16,
      "outputs": [
        {
          "output_type": "execute_result",
          "data": {
            "text/plain": [
              "<Axes: ylabel='count'>"
            ]
          },
          "metadata": {},
          "execution_count": 16
        },
        {
          "output_type": "display_data",
          "data": {
            "text/plain": [
              "<Figure size 640x480 with 1 Axes>"
            ],
            "image/png": "[encoded data removed]"
          },
          "metadata": {}
        }
      ]
    },
    {
      "cell_type": "code",
      "source": [
        "#podemos perceber que os encoders serão 0= setosa , 1=versicolor e 2=virginica\n",
        "\n",
        "encoder = LabelEncoder()\n",
        "dsAlvo_encoder = encoder.fit_transform(dsAlvo)\n",
        "dsAlvo_encoder"
      ],
      "metadata": {
        "colab": {
          "base_uri": "https://localhost:8080/"
        },
        "id": "MwFJwCX1xE1u",
        "outputId": "63859712-0d23-4deb-84ab-ebbacbce71df"
      },
      "execution_count": 17,
      "outputs": [
        {
          "output_type": "execute_result",
          "data": {
            "text/plain": [
              "array([0, 0, 0, 0, 0, 0, 0, 0, 0, 0, 0, 0, 0, 0, 0, 0, 0, 0, 0, 0, 0, 0,\n",
              "       0, 0, 0, 0, 0, 0, 0, 0, 0, 0, 0, 0, 0, 0, 0, 0, 0, 0, 0, 0, 0, 0,\n",
              "       0, 0, 0, 0, 0, 0, 1, 1, 1, 1, 1, 1, 1, 1, 1, 1, 1, 1, 1, 1, 1, 1,\n",
              "       1, 1, 1, 1, 1, 1, 1, 1, 1, 1, 1, 1, 1, 1, 1, 1, 1, 1, 1, 1, 1, 1,\n",
              "       1, 1, 1, 1, 1, 1, 1, 1, 1, 1, 1, 1, 2, 2, 2, 2, 2, 2, 2, 2, 2, 2,\n",
              "       2, 2, 2, 2, 2, 2, 2, 2, 2, 2, 2, 2, 2, 2, 2, 2, 2, 2, 2, 2, 2, 2,\n",
              "       2, 2, 2, 2, 2, 2, 2, 2, 2, 2, 2, 2, 2, 2, 2, 2, 2, 2])"
            ]
          },
          "metadata": {},
          "execution_count": 17
        }
      ]
    },
    {
      "cell_type": "code",
      "source": [
        "preditoresTreinamento, preditoresTeste, alvoTreinamento,alvoTeste = train_test_split(dsPreditores,dsAlvo_encoder,test_size=.25)"
      ],
      "metadata": {
        "id": "FfgmOPxExlyN"
      },
      "execution_count": 18,
      "outputs": []
    },
    {
      "cell_type": "code",
      "source": [
        "preditoresTreinamento.shape"
      ],
      "metadata": {
        "colab": {
          "base_uri": "https://localhost:8080/"
        },
        "id": "KlI54vTI2ttD",
        "outputId": "6638502f-6003-4dd5-ec42-354d8a41f87f"
      },
      "execution_count": 19,
      "outputs": [
        {
          "output_type": "execute_result",
          "data": {
            "text/plain": [
              "(112, 4)"
            ]
          },
          "metadata": {},
          "execution_count": 19
        }
      ]
    },
    {
      "cell_type": "code",
      "source": [
        "preditoresTeste.shape"
      ],
      "metadata": {
        "colab": {
          "base_uri": "https://localhost:8080/"
        },
        "id": "NyUzeGlY23YU",
        "outputId": "3d4a75a5-f837-4a41-8553-835da1b9e163"
      },
      "execution_count": 20,
      "outputs": [
        {
          "output_type": "execute_result",
          "data": {
            "text/plain": [
              "(38, 4)"
            ]
          },
          "metadata": {},
          "execution_count": 20
        }
      ]
    },
    {
      "cell_type": "code",
      "source": [
        "tensor_preditoresTreinamento = torch.tensor(preditoresTreinamento,dtype=torch.float)\n",
        "tensor_preditoresTreinamento"
      ],
      "metadata": {
        "colab": {
          "base_uri": "https://localhost:8080/"
        },
        "id": "yfz9nMbN26jc",
        "outputId": "d13bacda-4964-412a-dcd2-4ef37467c8bf"
      },
      "execution_count": 21,
      "outputs": [
        {
          "output_type": "execute_result",
          "data": {
            "text/plain": [
              "tensor([[5.8000, 2.7000, 3.9000, 1.2000],\n",
              "        [4.8000, 3.1000, 1.6000, 0.2000],\n",
              "        [4.6000, 3.4000, 1.4000, 0.3000],\n",
              "        [6.3000, 2.9000, 5.6000, 1.8000],\n",
              "        [5.9000, 3.2000, 4.8000, 1.8000],\n",
              "        [7.2000, 3.2000, 6.0000, 1.8000],\n",
              "        [4.6000, 3.6000, 1.0000, 0.2000],\n",
              "        [6.0000, 2.9000, 4.5000, 1.5000],\n",
              "        [6.8000, 3.0000, 5.5000, 2.1000],\n",
              "        [7.4000, 2.8000, 6.1000, 1.9000],\n",
              "        [6.1000, 2.9000, 4.7000, 1.4000],\n",
              "        [5.0000, 3.5000, 1.6000, 0.6000],\n",
              "        [5.4000, 3.7000, 1.5000, 0.2000],\n",
              "        [5.1000, 3.5000, 1.4000, 0.2000],\n",
              "        [5.5000, 2.4000, 3.8000, 1.1000],\n",
              "        [5.2000, 3.5000, 1.5000, 0.2000],\n",
              "        [6.3000, 2.3000, 4.4000, 1.3000],\n",
              "        [5.7000, 3.8000, 1.7000, 0.3000],\n",
              "        [6.7000, 3.1000, 5.6000, 2.4000],\n",
              "        [4.8000, 3.4000, 1.6000, 0.2000],\n",
              "        [4.8000, 3.0000, 1.4000, 0.3000],\n",
              "        [6.5000, 2.8000, 4.6000, 1.5000],\n",
              "        [5.8000, 2.7000, 5.1000, 1.9000],\n",
              "        [6.2000, 2.8000, 4.8000, 1.8000],\n",
              "        [5.7000, 3.0000, 4.2000, 1.2000],\n",
              "        [7.1000, 3.0000, 5.9000, 2.1000],\n",
              "        [6.7000, 3.3000, 5.7000, 2.5000],\n",
              "        [5.5000, 2.5000, 4.0000, 1.3000],\n",
              "        [6.4000, 3.1000, 5.5000, 1.8000],\n",
              "        [6.4000, 2.8000, 5.6000, 2.2000],\n",
              "        [4.3000, 3.0000, 1.1000, 0.1000],\n",
              "        [6.9000, 3.1000, 5.4000, 2.1000],\n",
              "        [5.0000, 3.2000, 1.2000, 0.2000],\n",
              "        [6.5000, 3.0000, 5.2000, 2.0000],\n",
              "        [6.7000, 3.3000, 5.7000, 2.1000],\n",
              "        [5.1000, 3.8000, 1.9000, 0.4000],\n",
              "        [4.9000, 2.4000, 3.3000, 1.0000],\n",
              "        [5.1000, 3.8000, 1.6000, 0.2000],\n",
              "        [5.0000, 3.4000, 1.6000, 0.4000],\n",
              "        [5.8000, 4.0000, 1.2000, 0.2000],\n",
              "        [5.8000, 2.7000, 4.1000, 1.0000],\n",
              "        [5.4000, 3.0000, 4.5000, 1.5000],\n",
              "        [6.3000, 3.4000, 5.6000, 2.4000],\n",
              "        [6.3000, 3.3000, 6.0000, 2.5000],\n",
              "        [4.5000, 2.3000, 1.3000, 0.3000],\n",
              "        [6.5000, 3.2000, 5.1000, 2.0000],\n",
              "        [4.9000, 3.0000, 1.4000, 0.2000],\n",
              "        [6.6000, 3.0000, 4.4000, 1.4000],\n",
              "        [5.8000, 2.8000, 5.1000, 2.4000],\n",
              "        [7.7000, 3.0000, 6.1000, 2.3000],\n",
              "        [7.0000, 3.2000, 4.7000, 1.4000],\n",
              "        [4.9000, 3.1000, 1.5000, 0.1000],\n",
              "        [5.9000, 3.0000, 4.2000, 1.5000],\n",
              "        [6.8000, 3.2000, 5.9000, 2.3000],\n",
              "        [5.6000, 2.9000, 3.6000, 1.3000],\n",
              "        [5.8000, 2.7000, 5.1000, 1.9000],\n",
              "        [5.0000, 2.0000, 3.5000, 1.0000],\n",
              "        [6.2000, 2.2000, 4.5000, 1.5000],\n",
              "        [5.4000, 3.9000, 1.3000, 0.4000],\n",
              "        [6.1000, 2.8000, 4.7000, 1.2000],\n",
              "        [4.7000, 3.2000, 1.6000, 0.2000],\n",
              "        [4.4000, 2.9000, 1.4000, 0.2000],\n",
              "        [5.2000, 3.4000, 1.4000, 0.2000],\n",
              "        [5.0000, 3.4000, 1.5000, 0.2000],\n",
              "        [7.2000, 3.6000, 6.1000, 2.5000],\n",
              "        [7.3000, 2.9000, 6.3000, 1.8000],\n",
              "        [5.1000, 3.5000, 1.4000, 0.3000],\n",
              "        [5.5000, 2.4000, 3.7000, 1.0000],\n",
              "        [6.9000, 3.1000, 4.9000, 1.5000],\n",
              "        [6.7000, 2.5000, 5.8000, 1.8000],\n",
              "        [5.1000, 3.3000, 1.7000, 0.5000],\n",
              "        [5.7000, 2.9000, 4.2000, 1.3000],\n",
              "        [5.6000, 2.8000, 4.9000, 2.0000],\n",
              "        [5.9000, 3.0000, 5.1000, 1.8000],\n",
              "        [4.4000, 3.2000, 1.3000, 0.2000],\n",
              "        [5.4000, 3.9000, 1.7000, 0.4000],\n",
              "        [7.9000, 3.8000, 6.4000, 2.0000],\n",
              "        [5.7000, 2.8000, 4.1000, 1.3000],\n",
              "        [5.3000, 3.7000, 1.5000, 0.2000],\n",
              "        [6.1000, 2.6000, 5.6000, 1.4000],\n",
              "        [5.6000, 3.0000, 4.5000, 1.5000],\n",
              "        [5.5000, 4.2000, 1.4000, 0.2000],\n",
              "        [6.0000, 2.2000, 5.0000, 1.5000],\n",
              "        [5.5000, 2.3000, 4.0000, 1.3000],\n",
              "        [6.5000, 3.0000, 5.8000, 2.2000],\n",
              "        [5.2000, 2.7000, 3.9000, 1.4000],\n",
              "        [5.1000, 3.4000, 1.5000, 0.2000],\n",
              "        [5.1000, 2.5000, 3.0000, 1.1000],\n",
              "        [5.0000, 2.3000, 3.3000, 1.0000],\n",
              "        [6.1000, 2.8000, 4.0000, 1.3000],\n",
              "        [6.0000, 2.2000, 4.0000, 1.0000],\n",
              "        [7.7000, 2.6000, 6.9000, 2.3000],\n",
              "        [4.6000, 3.1000, 1.5000, 0.2000],\n",
              "        [6.4000, 3.2000, 4.5000, 1.5000],\n",
              "        [6.0000, 3.4000, 4.5000, 1.6000],\n",
              "        [5.2000, 4.1000, 1.5000, 0.1000],\n",
              "        [5.7000, 2.6000, 3.5000, 1.0000],\n",
              "        [5.7000, 4.4000, 1.5000, 0.4000],\n",
              "        [6.0000, 2.7000, 5.1000, 1.6000],\n",
              "        [5.0000, 3.6000, 1.4000, 0.2000],\n",
              "        [6.0000, 3.0000, 4.8000, 1.8000],\n",
              "        [6.1000, 3.0000, 4.9000, 1.8000],\n",
              "        [4.7000, 3.2000, 1.3000, 0.2000],\n",
              "        [5.7000, 2.5000, 5.0000, 2.0000],\n",
              "        [6.9000, 3.1000, 5.1000, 2.3000],\n",
              "        [5.0000, 3.0000, 1.6000, 0.2000],\n",
              "        [4.8000, 3.4000, 1.9000, 0.2000],\n",
              "        [4.9000, 3.1000, 1.5000, 0.1000],\n",
              "        [6.3000, 3.3000, 4.7000, 1.6000],\n",
              "        [5.4000, 3.4000, 1.5000, 0.4000],\n",
              "        [6.3000, 2.5000, 4.9000, 1.5000],\n",
              "        [5.1000, 3.8000, 1.5000, 0.3000]])"
            ]
          },
          "metadata": {},
          "execution_count": 21
        }
      ]
    },
    {
      "cell_type": "code",
      "source": [
        "tensor_alvoTreinamento = torch.tensor(alvoTreinamento,dtype=torch.long)\n",
        "tensor_alvoTreinamento"
      ],
      "metadata": {
        "colab": {
          "base_uri": "https://localhost:8080/"
        },
        "id": "JpjqMx7Y3wFY",
        "outputId": "4c1a7caa-e287-40cb-8ce6-e76bd5fb8be4"
      },
      "execution_count": 22,
      "outputs": [
        {
          "output_type": "execute_result",
          "data": {
            "text/plain": [
              "tensor([1, 0, 0, 2, 1, 2, 0, 1, 2, 2, 1, 0, 0, 0, 1, 0, 1, 0, 2, 0, 0, 1, 2, 2,\n",
              "        1, 2, 2, 1, 2, 2, 0, 2, 0, 2, 2, 0, 1, 0, 0, 0, 1, 1, 2, 2, 0, 2, 0, 1,\n",
              "        2, 2, 1, 0, 1, 2, 1, 2, 1, 1, 0, 1, 0, 0, 0, 0, 2, 2, 0, 1, 1, 2, 0, 1,\n",
              "        2, 2, 0, 0, 2, 1, 0, 2, 1, 0, 2, 1, 2, 1, 0, 1, 1, 1, 1, 2, 0, 1, 1, 0,\n",
              "        1, 0, 1, 0, 2, 2, 0, 2, 2, 0, 0, 0, 1, 0, 1, 0])"
            ]
          },
          "metadata": {},
          "execution_count": 22
        }
      ]
    },
    {
      "cell_type": "code",
      "source": [
        "datasetTensor = torch.utils.data.TensorDataset(tensor_preditoresTreinamento,tensor_alvoTreinamento)\n",
        "train_loader = torch.utils.data.DataLoader(datasetTensor, batch_size=10, shuffle=True)"
      ],
      "metadata": {
        "id": "qdBtwPB04G7b"
      },
      "execution_count": 23,
      "outputs": []
    },
    {
      "cell_type": "code",
      "source": [
        "len(datasetTensor.tensors[0]),datasetTensor.tensors[1]"
      ],
      "metadata": {
        "colab": {
          "base_uri": "https://localhost:8080/"
        },
        "id": "DDjghGb33xlP",
        "outputId": "8988e051-09cf-42c1-b40a-b7b19778b21a"
      },
      "execution_count": 32,
      "outputs": [
        {
          "output_type": "execute_result",
          "data": {
            "text/plain": [
              "(112,\n",
              " tensor([1, 0, 0, 2, 1, 2, 0, 1, 2, 2, 1, 0, 0, 0, 1, 0, 1, 0, 2, 0, 0, 1, 2, 2,\n",
              "         1, 2, 2, 1, 2, 2, 0, 2, 0, 2, 2, 0, 1, 0, 0, 0, 1, 1, 2, 2, 0, 2, 0, 1,\n",
              "         2, 2, 1, 0, 1, 2, 1, 2, 1, 1, 0, 1, 0, 0, 0, 0, 2, 2, 0, 1, 1, 2, 0, 1,\n",
              "         2, 2, 0, 0, 2, 1, 0, 2, 1, 0, 2, 1, 2, 1, 0, 1, 1, 1, 1, 2, 0, 1, 1, 0,\n",
              "         1, 0, 1, 0, 2, 2, 0, 2, 2, 0, 0, 0, 1, 0, 1, 0]))"
            ]
          },
          "metadata": {},
          "execution_count": 32
        }
      ]
    },
    {
      "cell_type": "code",
      "source": [
        "for epoca in range(100):\n",
        "  acumuladorErro = 0\n",
        "  acuracia = 0\n",
        "  for data in train_loader:\n",
        "    preditores , alvo = data\n",
        "\n",
        "    otimizador.zero_grad()\n",
        "\n",
        "    saida = classificador.forward(preditores)\n",
        "    erro  = criterion(saida, alvo)\n",
        "    erro.backward()\n",
        "\n",
        "    #como não foi definida uma camada de ativação na saida de nosso classificador multiclasse\n",
        "    #usaremos a função de ativação softmax que retorna a probabilidade de pertencer a cada uma das classses\n",
        "\n",
        "    saida =  F.softmax(saida)\n",
        "    top_p , top_alvo = saida.topk(k=1, dim=1) # o parametro k com valor um retorna a classe com maior probabilidade e dim =1 quer dizer quer cada pergaremos por coluna (cada registro), pois emo colunas alvo setosa, virgina e versivolor\n",
        "\n",
        "    comparador = top_alvo == alvo.view(*top_alvo.shape) # se o valor da classificação top_alvo for igual ao resultado da base de dados retorna True\n",
        "    acuracia += torch.mean(comparador.type(torch.float))\n",
        "\n",
        "    otimizador.step() #atualiza os pesos\n",
        "\n",
        "    acumuladorErro += erro.item()\n",
        "  print(\"Epoca %3d: perda %.5f - acuracia %.5f \"%(epoca+1, acumuladorErro/len(train_loader), acuracia/len(train_loader)))\n"
      ],
      "metadata": {
        "colab": {
          "base_uri": "https://localhost:8080/"
        },
        "id": "hEusP7TK4Sy0",
        "outputId": "dca0b6c0-6c09-4bdf-a237-563722a137c7"
      },
      "execution_count": 38,
      "outputs": [
        {
          "output_type": "stream",
          "name": "stderr",
          "text": [
            "<ipython-input-38-512fcff48a11>:16: UserWarning: Implicit dimension choice for softmax has been deprecated. Change the call to include dim=X as an argument.\n",
            "  saida =  F.softmax(saida)\n"
          ]
        },
        {
          "output_type": "stream",
          "name": "stdout",
          "text": [
            "Epoca   1: perda 1.11395 - acuracia 0.33333 \n",
            "Epoca   2: perda 1.11256 - acuracia 0.33333 \n",
            "Epoca   3: perda 1.12431 - acuracia 0.30000 \n",
            "Epoca   4: perda 1.10813 - acuracia 0.33333 \n",
            "Epoca   5: perda 1.10385 - acuracia 0.33333 \n",
            "Epoca   6: perda 1.09548 - acuracia 0.33333 \n",
            "Epoca   7: perda 1.08823 - acuracia 0.33333 \n",
            "Epoca   8: perda 1.09504 - acuracia 0.30000 \n",
            "Epoca   9: perda 1.07582 - acuracia 0.33333 \n",
            "Epoca  10: perda 1.04757 - acuracia 0.36667 \n",
            "Epoca  11: perda 1.04102 - acuracia 0.36667 \n",
            "Epoca  12: perda 1.04533 - acuracia 0.33333 \n",
            "Epoca  13: perda 1.04385 - acuracia 0.33333 \n",
            "Epoca  14: perda 1.02659 - acuracia 0.33333 \n",
            "Epoca  15: perda 1.01448 - acuracia 0.33333 \n",
            "Epoca  16: perda 1.00450 - acuracia 0.33333 \n",
            "Epoca  17: perda 1.00542 - acuracia 0.30000 \n",
            "Epoca  18: perda 0.97922 - acuracia 0.33333 \n",
            "Epoca  19: perda 0.98260 - acuracia 0.30000 \n",
            "Epoca  20: perda 0.96318 - acuracia 0.30000 \n",
            "Epoca  21: perda 0.94941 - acuracia 0.30000 \n",
            "Epoca  22: perda 0.93492 - acuracia 0.33333 \n",
            "Epoca  23: perda 0.92178 - acuracia 0.33333 \n",
            "Epoca  24: perda 0.91939 - acuracia 0.30000 \n",
            "Epoca  25: perda 0.89694 - acuracia 0.36667 \n",
            "Epoca  26: perda 0.88585 - acuracia 0.39167 \n",
            "Epoca  27: perda 0.87794 - acuracia 0.54167 \n",
            "Epoca  28: perda 0.86127 - acuracia 0.63333 \n",
            "Epoca  29: perda 0.84361 - acuracia 0.70833 \n",
            "Epoca  30: perda 0.84108 - acuracia 0.60833 \n",
            "Epoca  31: perda 0.82992 - acuracia 0.64167 \n",
            "Epoca  32: perda 0.82694 - acuracia 0.60833 \n",
            "Epoca  33: perda 0.82351 - acuracia 0.64167 \n",
            "Epoca  34: perda 0.80602 - acuracia 0.65833 \n",
            "Epoca  35: perda 0.79977 - acuracia 0.65833 \n",
            "Epoca  36: perda 0.79173 - acuracia 0.65833 \n",
            "Epoca  37: perda 0.78470 - acuracia 0.65833 \n",
            "Epoca  38: perda 0.77104 - acuracia 0.69167 \n",
            "Epoca  39: perda 0.77501 - acuracia 0.65833 \n",
            "Epoca  40: perda 0.78098 - acuracia 0.69167 \n",
            "Epoca  41: perda 0.77748 - acuracia 0.69167 \n",
            "Epoca  42: perda 0.76656 - acuracia 0.65833 \n",
            "Epoca  43: perda 0.76163 - acuracia 0.65833 \n",
            "Epoca  44: perda 0.75641 - acuracia 0.65833 \n",
            "Epoca  45: perda 0.75022 - acuracia 0.65833 \n",
            "Epoca  46: perda 0.74518 - acuracia 0.69167 \n",
            "Epoca  47: perda 0.72919 - acuracia 0.69167 \n",
            "Epoca  48: perda 0.72284 - acuracia 0.65833 \n",
            "Epoca  49: perda 0.72155 - acuracia 0.65833 \n",
            "Epoca  50: perda 0.71763 - acuracia 0.65833 \n",
            "Epoca  51: perda 0.71913 - acuracia 0.70000 \n",
            "Epoca  52: perda 0.70524 - acuracia 0.70000 \n",
            "Epoca  53: perda 0.71552 - acuracia 0.66667 \n",
            "Epoca  54: perda 0.69865 - acuracia 0.66667 \n",
            "Epoca  55: perda 0.70575 - acuracia 0.67500 \n",
            "Epoca  56: perda 0.69764 - acuracia 0.67500 \n",
            "Epoca  57: perda 0.69684 - acuracia 0.67500 \n",
            "Epoca  58: perda 0.68125 - acuracia 0.71667 \n",
            "Epoca  59: perda 0.66566 - acuracia 0.71667 \n",
            "Epoca  60: perda 0.68679 - acuracia 0.67500 \n",
            "Epoca  61: perda 0.67859 - acuracia 0.67500 \n",
            "Epoca  62: perda 0.66327 - acuracia 0.71667 \n",
            "Epoca  63: perda 0.67479 - acuracia 0.65833 \n",
            "Epoca  64: perda 0.65571 - acuracia 0.68333 \n",
            "Epoca  65: perda 0.65610 - acuracia 0.72500 \n",
            "Epoca  66: perda 0.64738 - acuracia 0.73333 \n",
            "Epoca  67: perda 0.64077 - acuracia 0.74167 \n",
            "Epoca  68: perda 0.64734 - acuracia 0.67500 \n",
            "Epoca  69: perda 0.62349 - acuracia 0.74167 \n",
            "Epoca  70: perda 0.61322 - acuracia 0.75000 \n",
            "Epoca  71: perda 0.63075 - acuracia 0.67500 \n",
            "Epoca  72: perda 0.60310 - acuracia 0.79167 \n",
            "Epoca  73: perda 0.60150 - acuracia 0.74167 \n",
            "Epoca  74: perda 0.58925 - acuracia 0.78333 \n",
            "Epoca  75: perda 0.60839 - acuracia 0.70833 \n",
            "Epoca  76: perda 0.57591 - acuracia 0.84167 \n",
            "Epoca  77: perda 0.58996 - acuracia 0.82500 \n",
            "Epoca  78: perda 0.56524 - acuracia 0.87500 \n",
            "Epoca  79: perda 0.57836 - acuracia 0.80833 \n",
            "Epoca  80: perda 0.56050 - acuracia 0.90000 \n",
            "Epoca  81: perda 0.54550 - acuracia 0.88333 \n",
            "Epoca  82: perda 0.54982 - acuracia 0.85000 \n",
            "Epoca  83: perda 0.53843 - acuracia 0.90833 \n",
            "Epoca  84: perda 0.53282 - acuracia 0.86667 \n",
            "Epoca  85: perda 0.52668 - acuracia 0.90000 \n",
            "Epoca  86: perda 0.50922 - acuracia 0.91667 \n",
            "Epoca  87: perda 0.51400 - acuracia 0.90833 \n",
            "Epoca  88: perda 0.50039 - acuracia 0.90000 \n",
            "Epoca  89: perda 0.50514 - acuracia 0.92500 \n",
            "Epoca  90: perda 0.48670 - acuracia 0.94167 \n",
            "Epoca  91: perda 0.49475 - acuracia 0.89167 \n",
            "Epoca  92: perda 0.47773 - acuracia 0.94167 \n",
            "Epoca  93: perda 0.47056 - acuracia 0.95833 \n",
            "Epoca  94: perda 0.46382 - acuracia 0.94167 \n",
            "Epoca  95: perda 0.47313 - acuracia 0.89167 \n",
            "Epoca  96: perda 0.46022 - acuracia 0.96667 \n",
            "Epoca  97: perda 0.45374 - acuracia 0.97500 \n",
            "Epoca  98: perda 0.43831 - acuracia 0.94167 \n",
            "Epoca  99: perda 0.43986 - acuracia 0.95833 \n",
            "Epoca 100: perda 0.43450 - acuracia 0.96667 \n"
          ]
        }
      ]
    },
    {
      "cell_type": "markdown",
      "source": [
        "AVALIAÇÂO DO MODELO"
      ],
      "metadata": {
        "id": "T2LnLVniPKjX"
      }
    },
    {
      "cell_type": "code",
      "source": [
        "\n",
        "classificador.eval()"
      ],
      "metadata": {
        "colab": {
          "base_uri": "https://localhost:8080/"
        },
        "id": "G5xTem3VGrP-",
        "outputId": "55075738-d9ee-4cff-c421-1d11d00605f7"
      },
      "execution_count": 39,
      "outputs": [
        {
          "output_type": "execute_result",
          "data": {
            "text/plain": [
              "Sequential(\n",
              "  (0): Linear(in_features=4, out_features=4, bias=True)\n",
              "  (1): ReLU()\n",
              "  (2): Linear(in_features=4, out_features=4, bias=True)\n",
              "  (3): ReLU()\n",
              "  (4): Linear(in_features=4, out_features=3, bias=True)\n",
              ")"
            ]
          },
          "metadata": {},
          "execution_count": 39
        }
      ]
    },
    {
      "cell_type": "code",
      "source": [
        "tensor_preditoresTeste  =  torch.tensor(preditoresTeste,dtype=torch.float)\n"
      ],
      "metadata": {
        "id": "hJZxnn5lPUpy"
      },
      "execution_count": 40,
      "outputs": []
    },
    {
      "cell_type": "code",
      "source": [
        "classificacoes = classificador(tensor_preditoresTeste)"
      ],
      "metadata": {
        "id": "7jhmU3UEP7Qh"
      },
      "execution_count": 41,
      "outputs": []
    },
    {
      "cell_type": "code",
      "source": [
        "classificacoes"
      ],
      "metadata": {
        "colab": {
          "base_uri": "https://localhost:8080/"
        },
        "id": "7965JgATQPoW",
        "outputId": "f6abb23d-4867-4e3a-bb41-ee9b49532765"
      },
      "execution_count": 43,
      "outputs": [
        {
          "output_type": "execute_result",
          "data": {
            "text/plain": [
              "tensor([[-6.1606,  0.9420,  1.8716],\n",
              "        [ 0.7733, -0.1660, -0.8330],\n",
              "        [-7.2782,  0.7562,  2.5163],\n",
              "        [-7.5911,  1.0998,  2.4709],\n",
              "        [-2.9582,  0.9332,  0.3375],\n",
              "        [-3.5505,  1.1071,  0.5229],\n",
              "        [-3.8718,  1.1113,  0.6717],\n",
              "        [-6.5500,  0.8009,  2.1395],\n",
              "        [-5.2287,  1.0840,  1.3415],\n",
              "        [ 0.7733, -0.1660, -0.8330],\n",
              "        [-3.5089,  1.0161,  0.5511],\n",
              "        [-5.2411,  1.0123,  1.3884],\n",
              "        [ 0.7733, -0.1660, -0.8330],\n",
              "        [-3.7595,  0.9846,  0.6899],\n",
              "        [-3.9453,  1.2211,  0.6452],\n",
              "        [-3.0899,  0.9711,  0.3782],\n",
              "        [ 0.7733, -0.1660, -0.8330],\n",
              "        [-7.2445,  0.8646,  2.4381],\n",
              "        [-6.2998,  0.7905,  2.0248],\n",
              "        [-8.6457,  0.9490,  3.0657],\n",
              "        [-3.6391,  1.1340,  0.5513],\n",
              "        [ 0.7733, -0.1660, -0.8330],\n",
              "        [-3.7973,  1.0256,  0.6847],\n",
              "        [ 0.7733, -0.1660, -0.8330],\n",
              "        [-6.8184,  0.8336,  2.2504],\n",
              "        [-5.0560,  0.6270,  1.5186],\n",
              "        [-3.2773,  1.0255,  0.4364],\n",
              "        [ 0.7733, -0.1660, -0.8330],\n",
              "        [-6.3116,  1.1378,  1.8329],\n",
              "        [-8.8886,  0.9766,  3.1670],\n",
              "        [-5.7658,  0.8998,  1.7054],\n",
              "        [ 0.7733, -0.1660, -0.8330],\n",
              "        [-6.6018,  0.8366,  2.1445],\n",
              "        [-3.4904,  1.0887,  0.5036],\n",
              "        [-4.1649,  1.2184,  0.7520],\n",
              "        [ 0.7733, -0.1660, -0.8330],\n",
              "        [-4.6657,  1.1973,  1.0056],\n",
              "        [-6.4955,  0.8040,  2.1119]], grad_fn=<AddmmBackward0>)"
            ]
          },
          "metadata": {},
          "execution_count": 43
        }
      ]
    },
    {
      "cell_type": "code",
      "source": [
        "# vai retornar a probabilidade de pertencer a cada classe alvo, 0='setosa', 1 ='versicolor', 2='virginica', lembrando qie o indice\n",
        "#correponde a cada classe , indice 0 classe setosa., indice 1 versicolor, indice 2 virginica\n",
        "classificaoes_porClasse = F.softmax(classificacoes)"
      ],
      "metadata": {
        "colab": {
          "base_uri": "https://localhost:8080/"
        },
        "id": "UCRgG6sIRWow",
        "outputId": "8e14f1b0-b070-40bc-9874-9fd5536d7698"
      },
      "execution_count": 44,
      "outputs": [
        {
          "output_type": "stream",
          "name": "stderr",
          "text": [
            "<ipython-input-44-20ea878893e2>:3: UserWarning: Implicit dimension choice for softmax has been deprecated. Change the call to include dim=X as an argument.\n",
            "  classificaoes_porClasse = F.softmax(classificacoes)\n"
          ]
        }
      ]
    },
    {
      "cell_type": "code",
      "source": [
        "classificaoes_porClasse"
      ],
      "metadata": {
        "colab": {
          "base_uri": "https://localhost:8080/"
        },
        "id": "qzF4SZgwQUKG",
        "outputId": "a59f4973-df1c-421b-948c-7e6fc09d4c5e"
      },
      "execution_count": 45,
      "outputs": [
        {
          "output_type": "execute_result",
          "data": {
            "text/plain": [
              "tensor([[2.3286e-04, 2.8295e-01, 7.1682e-01],\n",
              "        [6.2832e-01, 2.4562e-01, 1.2606e-01],\n",
              "        [4.7572e-05, 1.4677e-01, 8.5318e-01],\n",
              "        [3.4030e-05, 2.0243e-01, 7.9754e-01],\n",
              "        [1.2991e-02, 6.3630e-01, 3.5071e-01],\n",
              "        [6.0559e-03, 6.3814e-01, 3.5581e-01],\n",
              "        [4.1505e-03, 6.0562e-01, 3.9023e-01],\n",
              "        [1.3336e-04, 2.0771e-01, 7.9216e-01],\n",
              "        [7.8986e-04, 4.3565e-01, 5.6356e-01],\n",
              "        [6.2832e-01, 2.4562e-01, 1.2606e-01],\n",
              "        [6.6108e-03, 6.1013e-01, 3.8326e-01],\n",
              "        [7.8257e-04, 4.0676e-01, 5.9246e-01],\n",
              "        [6.2832e-01, 2.4562e-01, 1.2606e-01],\n",
              "        [4.9631e-03, 5.7030e-01, 4.2474e-01],\n",
              "        [3.6385e-03, 6.3779e-01, 3.5857e-01],\n",
              "        [1.0976e-02, 6.3695e-01, 3.5207e-01],\n",
              "        [6.2832e-01, 2.4562e-01, 1.2606e-01],\n",
              "        [5.1647e-05, 1.7172e-01, 8.2823e-01],\n",
              "        [1.8778e-04, 2.2539e-01, 7.7442e-01],\n",
              "        [7.3184e-06, 1.0749e-01, 8.9251e-01],\n",
              "        [5.3958e-03, 6.3824e-01, 3.5637e-01],\n",
              "        [6.2832e-01, 2.4562e-01, 1.2606e-01],\n",
              "        [4.6784e-03, 5.8168e-01, 4.1364e-01],\n",
              "        [6.2832e-01, 2.4562e-01, 1.2606e-01],\n",
              "        [9.2711e-05, 1.9514e-01, 8.0477e-01],\n",
              "        [9.8861e-04, 2.9049e-01, 7.0852e-01],\n",
              "        [8.6271e-03, 6.3759e-01, 3.5378e-01],\n",
              "        [6.2832e-01, 2.4562e-01, 1.2606e-01],\n",
              "        [1.9364e-04, 3.3283e-01, 6.6697e-01],\n",
              "        [5.2274e-06, 1.0062e-01, 8.9937e-01],\n",
              "        [3.9328e-04, 3.0871e-01, 6.9090e-01],\n",
              "        [6.2832e-01, 2.4562e-01, 1.2606e-01],\n",
              "        [1.2518e-04, 2.1282e-01, 7.8705e-01],\n",
              "        [6.5488e-03, 6.3804e-01, 3.5542e-01],\n",
              "        [2.8142e-03, 6.1280e-01, 3.8439e-01],\n",
              "        [6.2832e-01, 2.4562e-01, 1.2606e-01],\n",
              "        [1.5547e-03, 5.4694e-01, 4.5151e-01],\n",
              "        [1.4383e-04, 2.1281e-01, 7.8705e-01]], grad_fn=<SoftmaxBackward0>)"
            ]
          },
          "metadata": {},
          "execution_count": 45
        }
      ]
    },
    {
      "cell_type": "code",
      "source": [
        "classificavoes_np = [np.argmax(t) for t in classificaoes_porClasse.detach().numpy()]"
      ],
      "metadata": {
        "id": "xpfWY4iGSJ4l"
      },
      "execution_count": 46,
      "outputs": []
    },
    {
      "cell_type": "code",
      "source": [
        "classificavoes_np"
      ],
      "metadata": {
        "colab": {
          "base_uri": "https://localhost:8080/"
        },
        "id": "Z87uhFsLSrK6",
        "outputId": "cb13c376-ab7c-42f2-d03c-a7a95b6808fe"
      },
      "execution_count": 47,
      "outputs": [
        {
          "output_type": "execute_result",
          "data": {
            "text/plain": [
              "[2,\n",
              " 0,\n",
              " 2,\n",
              " 2,\n",
              " 1,\n",
              " 1,\n",
              " 1,\n",
              " 2,\n",
              " 2,\n",
              " 0,\n",
              " 1,\n",
              " 2,\n",
              " 0,\n",
              " 1,\n",
              " 1,\n",
              " 1,\n",
              " 0,\n",
              " 2,\n",
              " 2,\n",
              " 2,\n",
              " 1,\n",
              " 0,\n",
              " 1,\n",
              " 0,\n",
              " 2,\n",
              " 2,\n",
              " 1,\n",
              " 0,\n",
              " 2,\n",
              " 2,\n",
              " 2,\n",
              " 0,\n",
              " 2,\n",
              " 1,\n",
              " 1,\n",
              " 0,\n",
              " 1,\n",
              " 2]"
            ]
          },
          "metadata": {},
          "execution_count": 47
        }
      ]
    },
    {
      "cell_type": "code",
      "source": [
        "len(classificavoes_np)"
      ],
      "metadata": {
        "colab": {
          "base_uri": "https://localhost:8080/"
        },
        "id": "rHvNb4NbSsxq",
        "outputId": "dccc85aa-d2c8-4045-c76a-7f4fda45621c"
      },
      "execution_count": 48,
      "outputs": [
        {
          "output_type": "execute_result",
          "data": {
            "text/plain": [
              "38"
            ]
          },
          "metadata": {},
          "execution_count": 48
        }
      ]
    },
    {
      "cell_type": "code",
      "source": [
        "matrizConfusao = confusion_matrix(classificavoes_np, alvoTeste)"
      ],
      "metadata": {
        "id": "MEWB66elSv8L"
      },
      "execution_count": 52,
      "outputs": []
    },
    {
      "cell_type": "code",
      "source": [
        "matrizConfusao"
      ],
      "metadata": {
        "colab": {
          "base_uri": "https://localhost:8080/"
        },
        "id": "aRAJK3A8TGBg",
        "outputId": "32a1a4ad-da0d-405a-8176-1fc94f4a1e78"
      },
      "execution_count": 53,
      "outputs": [
        {
          "output_type": "execute_result",
          "data": {
            "text/plain": [
              "array([[ 9,  0,  0],\n",
              "       [ 0, 13,  0],\n",
              "       [ 0,  1, 15]])"
            ]
          },
          "metadata": {},
          "execution_count": 53
        }
      ]
    },
    {
      "cell_type": "code",
      "source": [
        "sns.heatmap(matrizConfusao,annot=True)"
      ],
      "metadata": {
        "colab": {
          "base_uri": "https://localhost:8080/",
          "height": 447
        },
        "id": "-BoOHtU5TJyP",
        "outputId": "b1a4a9c9-2060-493c-91d5-b8139c1b8a2f"
      },
      "execution_count": 54,
      "outputs": [
        {
          "output_type": "execute_result",
          "data": {
            "text/plain": [
              "<Axes: >"
            ]
          },
          "metadata": {},
          "execution_count": 54
        },
        {
          "output_type": "display_data",
          "data": {
            "text/plain": [
              "<Figure size 640x480 with 2 Axes>"
            ],
            "image/png": "[encoded data removed]"
          },
          "metadata": {}
        }
      ]
    }
  ]
}